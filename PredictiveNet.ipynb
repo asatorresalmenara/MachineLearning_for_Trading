{
 "cells": [
  {
   "cell_type": "markdown",
   "metadata": {
    "colab_type": "text",
    "id": "pQWfP-VMvX7c"
   },
   "source": [
    "# clase que implementa una red predictiva"
   ]
  },
  {
   "cell_type": "code",
   "execution_count": 1,
   "metadata": {},
   "outputs": [
    {
     "name": "stderr",
     "output_type": "stream",
     "text": [
      "Using TensorFlow backend.\n"
     ]
    }
   ],
   "source": [
    "import PredictiveNet"
   ]
  },
  {
   "cell_type": "markdown",
   "metadata": {},
   "source": [
    "### Red creada de forma manual"
   ]
  },
  {
   "cell_type": "code",
   "execution_count": 2,
   "metadata": {},
   "outputs": [
    {
     "name": "stdout",
     "output_type": "stream",
     "text": [
      "file \"pn0_fitlog.csv\" updated\n"
     ]
    }
   ],
   "source": [
    "pn0 = PredictiveNet.PredictiveNet('pn0',\n",
    "                    loopback_window=24, \n",
    "                    forward_window=4, \n",
    "                    num_lstm_layer=3, \n",
    "                    num_lstm_cells=128, \n",
    "                    num_dense_layers=0,\n",
    "                    num_dense_cells=0,\n",
    "                    batch_size=32,\n",
    "                    suffle_enable=True,\n",
    "                    verbose='full')\n"
   ]
  },
  {
   "cell_type": "code",
   "execution_count": null,
   "metadata": {},
   "outputs": [],
   "source": [
    "pn0.df = pn0.load_hist('EURUSD_H1.csv', sep=';', reindex_fillna=True, plot_it=True, debug_it=True)                "
   ]
  },
  {
   "cell_type": "code",
   "execution_count": null,
   "metadata": {},
   "outputs": [],
   "source": [
    "pn0.dfapp = pn0.add_indicators( pn0.df,\n",
    "                                'out',\n",
    "                                ['CLOSE'], \n",
    "                                ['weekday', 'barsize'], \n",
    "                                ['weekday'], \n",
    "                                ['bollWidthRel', 'bollR', 'atr', 'SMAx3'], \n",
    "                                remove_weekends=True, \n",
    "                                add_applied=True, \n",
    "                                plot_it=True, \n",
    "                                starts=0, \n",
    "                                plot_len=1000)\n"
   ]
  },
  {
   "cell_type": "code",
   "execution_count": null,
   "metadata": {},
   "outputs": [],
   "source": [
    "\n",
    "pn0.num_outputs = 1\n",
    "pn0.num_inputs = pn0.dfapp.shape[1] - pn0.num_outputs\n",
    "pn0.sts_df = pn0.series_to_supervised(pn0.dfapp, pn0.num_inputs, pn0.num_outputs, pn0.lbw, pn0.fww)\n"
   ]
  },
  {
   "cell_type": "code",
   "execution_count": null,
   "metadata": {},
   "outputs": [],
   "source": [
    "pn0.sts_scaled, pn0.scaler = pn0.normalize_data(pn0.sts_df)\n"
   ]
  },
  {
   "cell_type": "code",
   "execution_count": null,
   "metadata": {},
   "outputs": [],
   "source": [
    "pn0.x_train, pn0.y_train, pn0.x_validation, pn0.y_validation, pn0.x_test, pn0.y_test = pn0.prepare_training_data(pn0.sts_scaled, pn0.bs, 4, 1, 0.8, True)\n"
   ]
  },
  {
   "cell_type": "code",
   "execution_count": null,
   "metadata": {},
   "outputs": [],
   "source": [
    "pn0.model, pn0.callbacks_list = pn0.build_net(True) "
   ]
  },
  {
   "cell_type": "code",
   "execution_count": null,
   "metadata": {},
   "outputs": [],
   "source": [
    "# Entreno la red\n",
    "pn0.train_validate(1, True)"
   ]
  },
  {
   "cell_type": "code",
   "execution_count": null,
   "metadata": {},
   "outputs": [],
   "source": [
    "# Testeo la red\n",
    "pn0.test_rmse()"
   ]
  },
  {
   "cell_type": "code",
   "execution_count": null,
   "metadata": {},
   "outputs": [],
   "source": [
    "# Hago test con predicciones\n",
    "pn0.test_with_predictions()"
   ]
  },
  {
   "cell_type": "code",
   "execution_count": null,
   "metadata": {},
   "outputs": [],
   "source": [
    "# Hago un test con una predicción realimentada\n",
    "pn0.test_full_predictions()"
   ]
  },
  {
   "cell_type": "markdown",
   "metadata": {},
   "source": [
    "### Red creada de forma automática"
   ]
  },
  {
   "cell_type": "code",
   "execution_count": 6,
   "metadata": {},
   "outputs": [
    {
     "name": "stdout",
     "output_type": "stream",
     "text": [
      "file \"pn1_fitlog.csv\" updated\n"
     ]
    }
   ],
   "source": [
    "# Creo red neuronal por defecto. Carga datos de archivo csv y deja preparada para entrenamiento\n",
    "pn1 = PredictiveNet.PredictiveNet('pn1',\n",
    "                    loopback_window=24, \n",
    "                    forward_window=4, \n",
    "                    num_lstm_layer=3, \n",
    "                    num_lstm_cells=128, \n",
    "                    num_dense_layers=0,\n",
    "                    num_dense_cells=128,\n",
    "                    batch_size=32,\n",
    "                    suffle_enable=True,\n",
    "                    tvt_csv_file='EURUSD_H1.csv',\n",
    "                    verbose='full')"
   ]
  },
  {
   "cell_type": "code",
   "execution_count": 7,
   "metadata": {},
   "outputs": [
    {
     "name": "stdout",
     "output_type": "stream",
     "text": [
      "Train on 71040 samples, validate on 17760 samples\n",
      "Epoch 1/1\n",
      " - 80s - loss: 0.0010 - acc: 0.2462 - val_loss: 2.6028e-04 - val_acc: 0.2389\n"
     ]
    },
    {
     "data": {
      "image/png": "[encoded data removed]",
      "text/plain": [
       "<Figure size 432x288 with 1 Axes>"
      ]
     },
     "metadata": {
      "needs_background": "light"
     },
     "output_type": "display_data"
    },
    {
     "data": {
      "text/plain": [
       "<keras.callbacks.History at 0x3af6b470>"
      ]
     },
     "execution_count": 7,
     "metadata": {},
     "output_type": "execute_result"
    }
   ],
   "source": [
    "# Entreno la red\n",
    "pn1.train_validate(1, True)"
   ]
  },
  {
   "cell_type": "code",
   "execution_count": 5,
   "metadata": {},
   "outputs": [
    {
     "data": {
      "text/plain": [
       "(0.00015150669442238234, 29.047061999460094)"
      ]
     },
     "execution_count": 5,
     "metadata": {},
     "output_type": "execute_result"
    }
   ],
   "source": [
    "# Testeo la red\n",
    "pn1.test_eval()"
   ]
  },
  {
   "cell_type": "code",
   "execution_count": null,
   "metadata": {},
   "outputs": [],
   "source": [
    "# Otro test\n",
    "pn1.test_rmse()"
   ]
  },
  {
   "cell_type": "code",
   "execution_count": null,
   "metadata": {},
   "outputs": [],
   "source": [
    "# Hago test con predicciones\n",
    "pn1.test_with_predictions()"
   ]
  },
  {
   "cell_type": "code",
   "execution_count": null,
   "metadata": {},
   "outputs": [],
   "source": [
    "# Hago un test con una predicción realimentada\n",
    "pn1.test_full_predictions()"
   ]
  },
  {
   "cell_type": "code",
   "execution_count": null,
   "metadata": {},
   "outputs": [],
   "source": []
  }
 ],
 "metadata": {
  "accelerator": "TPU",
  "colab": {
   "collapsed_sections": [],
   "name": "FinTech_LSTM.ipynb",
   "provenance": [],
   "version": "0.3.2"
  },
  "kernelspec": {
   "display_name": "Python [conda env:keras]",
   "language": "python",
   "name": "conda-env-keras-py"
  },
  "language_info": {
   "codemirror_mode": {
    "name": "ipython",
    "version": 3
   },
   "file_extension": ".py",
   "mimetype": "text/x-python",
   "name": "python",
   "nbconvert_exporter": "python",
   "pygments_lexer": "ipython3",
   "version": "3.6.6"
  }
 },
 "nbformat": 4,
 "nbformat_minor": 1
}

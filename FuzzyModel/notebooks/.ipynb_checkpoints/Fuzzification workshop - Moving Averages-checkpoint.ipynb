{
 "cells": [
  {
   "cell_type": "markdown",
   "metadata": {
    "colab_type": "text",
    "id": "pQWfP-VMvX7c"
   },
   "source": [
    "# Introduction\n",
    "\n",
    "In this notebook, I will play with x3 moving averages indicator and fuzzify it into several fuzzy variables, like:\n",
    "\n",
    "- SMA_BULLISH_TREND: provides information about how strong it is (FUZ_SMA_BULLISH_TREND)\n",
    "- SMA_BEARISH_TREND: provides information about how strong it is (FUZ_SMA_BEARISH_TREND)\n",
    "- SMA_SLOW_DISTANCE: provides information about the relative position of the price with the slowest sma (FUZ_SMA_SLOW_DISTANCE)\n",
    "- SMA_MID_DISTANCE: idem with the midrange sma (FUZ_SMA_MID_DISTANCE)\n",
    "- SMA_FAST_DISTANCE: idem with the fastest sma (FUZ_SMA_FAST_DISTANCE)\n",
    "\n",
    "For SMA_xxx_DISTANCE a multipler to the timeperiod parameter is added, to build their fuzzy sets. So, if timeperiod=4 to build FUZ_xxx_TREND and loopback_bb_mult=25, then FUZ_SMA_xxx_DISTANCE is built with a resultant timeperiod = 4 * 25 = 100\n",
    "\n",
    "Let's go!!!"
   ]
  },
  {
   "cell_type": "code",
   "execution_count": 1,
   "metadata": {},
   "outputs": [],
   "source": [
    "%load_ext autoreload\n",
    "%autoreload 2"
   ]
  },
  {
   "cell_type": "code",
   "execution_count": 2,
   "metadata": {},
   "outputs": [
    {
     "data": {
      "text/html": [
       "<script>requirejs.config({paths: { 'plotly': ['https://cdn.plot.ly/plotly-latest.min']},});if(!window.Plotly) {{require(['plotly'],function(plotly) {window.Plotly=plotly;});}}</script>"
      ],
      "text/vnd.plotly.v1+html": [
       "<script>requirejs.config({paths: { 'plotly': ['https://cdn.plot.ly/plotly-latest.min']},});if(!window.Plotly) {{require(['plotly'],function(plotly) {window.Plotly=plotly;});}}</script>"
      ]
     },
     "metadata": {},
     "output_type": "display_data"
    },
    {
     "name": "stdout",
     "output_type": "stream",
     "text": [
      "Packages loaded!!\n",
      "DEBUG:matplotlib.pyplot:Loaded backend module://ipykernel.pylab.backend_inline version unknown.\n"
     ]
    }
   ],
   "source": [
    "# import requires packages\n",
    "# Append relative path to FuzzyMarketState.py\n",
    "import sys\n",
    "sys.path.append('../../common')\n",
    "\n",
    "from FuzzyMarketState import FuzzyMarketState\n",
    "from FuzzyLib import Fuzzifier, FuzzyVar\n",
    "\n",
    "import plotly\n",
    "import plotly.plotly as py\n",
    "import plotly.graph_objs as go\n",
    "from plotly.graph_objs import *\n",
    "from plotly.tools import FigureFactory as FF\n",
    "import plotly.tools as tls\n",
    "plotly.offline.init_notebook_mode(connected=True)\n",
    "\n",
    "import logging\n",
    "logging.basicConfig(level=logging.DEBUG, stream=sys.stdout)\n",
    "\n",
    "import random\n",
    "print('Packages loaded!!')\n",
    "\n"
   ]
  },
  {
   "cell_type": "code",
   "execution_count": 8,
   "metadata": {},
   "outputs": [],
   "source": [
    "# Create object\n",
    "fms = FuzzyMarketState(logging.WARN)\n",
    "\n",
    "# load dataframe\n",
    "df = fms.loadCSV('../csv_data/EURUSD_H4.csv', sep=';')\n",
    "fms.loadDataframe(df)\n",
    "\n",
    "# build moving average indicator\n",
    "_ = fms.build3MovingAverages(fms.getDataframe(), \n",
    "                             ma_fast_applied='CLOSE', ma_fast_period=50,  ma_fast_type='SMA',\n",
    "                             ma_mid_applied='CLOSE',  ma_mid_period=100,  ma_mid_type='SMA',\n",
    "                             ma_slow_applied='CLOSE', ma_slow_period=200, ma_slow_type='SMA',\n",
    "                             trend_filters={'price-slow': 0.5, 'price-mid': 0.3, 'price-fast': 0.2})\n"
   ]
  },
  {
   "cell_type": "code",
   "execution_count": 96,
   "metadata": {},
   "outputs": [],
   "source": [
    "# fuzzify indicator\n",
    "_df = fms.fuzzifyMovingAverages(timeperiod=14, loopback_bb_mult=7)\n"
   ]
  },
  {
   "cell_type": "code",
   "execution_count": 97,
   "metadata": {},
   "outputs": [
    {
     "name": "stdout",
     "output_type": "stream",
     "text": [
      "DEBUG:urllib3.connectionpool:Starting new HTTPS connection (1): plot.ly:443\n",
      "DEBUG:urllib3.connectionpool:https://plot.ly:443 \"POST /clientresp HTTP/1.1\" 200 None\n",
      "The draw time for this plot will be slow for clients without much RAM.\n"
     ]
    },
    {
     "data": {
      "text/html": [
       "<iframe id=\"igraph\" scrolling=\"no\" style=\"border:none;\" seamless=\"seamless\" src=\"https://plot.ly/~raulMrello/130.embed\" height=\"525px\" width=\"100%\"></iframe>"
      ],
      "text/plain": [
       "<plotly.tools.PlotlyDisplay object>"
      ]
     },
     "execution_count": 97,
     "metadata": {},
     "output_type": "execute_result"
    }
   ],
   "source": [
    "# plot fuzzy-sma-bullish-trend\n",
    "data = fms.plotFuzzyVariable(var='SMA_BULLISH_TREND')\n",
    "py.iplot(data, filename='simple_ohlc')"
   ]
  },
  {
   "cell_type": "code",
   "execution_count": 98,
   "metadata": {},
   "outputs": [
    {
     "name": "stdout",
     "output_type": "stream",
     "text": [
      "DEBUG:urllib3.connectionpool:Starting new HTTPS connection (1): plot.ly:443\n",
      "DEBUG:urllib3.connectionpool:https://plot.ly:443 \"POST /clientresp HTTP/1.1\" 200 None\n",
      "The draw time for this plot will be slow for clients without much RAM.\n"
     ]
    },
    {
     "data": {
      "text/html": [
       "<iframe id=\"igraph\" scrolling=\"no\" style=\"border:none;\" seamless=\"seamless\" src=\"https://plot.ly/~raulMrello/130.embed\" height=\"525px\" width=\"100%\"></iframe>"
      ],
      "text/plain": [
       "<plotly.tools.PlotlyDisplay object>"
      ]
     },
     "execution_count": 98,
     "metadata": {},
     "output_type": "execute_result"
    }
   ],
   "source": [
    "# plot fuzzy-sma-bearish-trend\n",
    "data = fms.plotFuzzyVariable(var='SMA_BEARISH_TREND')\n",
    "py.iplot(data, filename='simple_ohlc')"
   ]
  },
  {
   "cell_type": "code",
   "execution_count": 99,
   "metadata": {},
   "outputs": [
    {
     "name": "stdout",
     "output_type": "stream",
     "text": [
      "DEBUG:urllib3.connectionpool:Starting new HTTPS connection (1): plot.ly:443\n",
      "DEBUG:urllib3.connectionpool:https://plot.ly:443 \"POST /clientresp HTTP/1.1\" 200 None\n",
      "The draw time for this plot will be slow for clients without much RAM.\n"
     ]
    },
    {
     "data": {
      "text/html": [
       "<iframe id=\"igraph\" scrolling=\"no\" style=\"border:none;\" seamless=\"seamless\" src=\"https://plot.ly/~raulMrello/130.embed\" height=\"525px\" width=\"100%\"></iframe>"
      ],
      "text/plain": [
       "<plotly.tools.PlotlyDisplay object>"
      ]
     },
     "execution_count": 99,
     "metadata": {},
     "output_type": "execute_result"
    }
   ],
   "source": [
    "# plot fuzzy-sma-slow_distance\n",
    "data = fms.plotFuzzyVariable(var='SMA_SLOW_DISTANCE')\n",
    "py.iplot(data, filename='simple_ohlc')"
   ]
  },
  {
   "cell_type": "code",
   "execution_count": 100,
   "metadata": {},
   "outputs": [
    {
     "name": "stdout",
     "output_type": "stream",
     "text": [
      "DEBUG:urllib3.connectionpool:Starting new HTTPS connection (1): plot.ly:443\n",
      "DEBUG:urllib3.connectionpool:https://plot.ly:443 \"POST /clientresp HTTP/1.1\" 200 None\n",
      "The draw time for this plot will be slow for clients without much RAM.\n"
     ]
    },
    {
     "data": {
      "text/html": [
       "<iframe id=\"igraph\" scrolling=\"no\" style=\"border:none;\" seamless=\"seamless\" src=\"https://plot.ly/~raulMrello/130.embed\" height=\"525px\" width=\"100%\"></iframe>"
      ],
      "text/plain": [
       "<plotly.tools.PlotlyDisplay object>"
      ]
     },
     "execution_count": 100,
     "metadata": {},
     "output_type": "execute_result"
    }
   ],
   "source": [
    "# plot fuzzy-sma-mid_distance\n",
    "data = fms.plotFuzzyVariable(var='SMA_MID_DISTANCE')\n",
    "py.iplot(data, filename='simple_ohlc')"
   ]
  },
  {
   "cell_type": "code",
   "execution_count": 101,
   "metadata": {},
   "outputs": [
    {
     "name": "stdout",
     "output_type": "stream",
     "text": [
      "DEBUG:urllib3.connectionpool:Starting new HTTPS connection (1): plot.ly:443\n",
      "DEBUG:urllib3.connectionpool:https://plot.ly:443 \"POST /clientresp HTTP/1.1\" 200 None\n",
      "The draw time for this plot will be slow for clients without much RAM.\n"
     ]
    },
    {
     "data": {
      "text/html": [
       "<iframe id=\"igraph\" scrolling=\"no\" style=\"border:none;\" seamless=\"seamless\" src=\"https://plot.ly/~raulMrello/130.embed\" height=\"525px\" width=\"100%\"></iframe>"
      ],
      "text/plain": [
       "<plotly.tools.PlotlyDisplay object>"
      ]
     },
     "execution_count": 101,
     "metadata": {},
     "output_type": "execute_result"
    }
   ],
   "source": [
    "# plot fuzzy-sma-fast_distance\n",
    "data = fms.plotFuzzyVariable(var='SMA_FAST_DISTANCE')\n",
    "py.iplot(data, filename='simple_ohlc')"
   ]
  }
 ],
 "metadata": {
  "accelerator": "TPU",
  "colab": {
   "collapsed_sections": [],
   "name": "FinTech_LSTM.ipynb",
   "provenance": [],
   "version": "0.3.2"
  },
  "kernelspec": {
   "display_name": "Python [conda env:keras]",
   "language": "python",
   "name": "conda-env-keras-py"
  },
  "language_info": {
   "codemirror_mode": {
    "name": "ipython",
    "version": 3
   },
   "file_extension": ".py",
   "mimetype": "text/x-python",
   "name": "python",
   "nbconvert_exporter": "python",
   "pygments_lexer": "ipython3",
   "version": "3.6.6"
  }
 },
 "nbformat": 4,
 "nbformat_minor": 1
}

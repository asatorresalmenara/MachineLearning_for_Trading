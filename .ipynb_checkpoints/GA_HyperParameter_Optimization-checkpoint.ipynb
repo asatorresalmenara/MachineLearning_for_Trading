{
 "cells": [
  {
   "cell_type": "markdown",
   "metadata": {
    "colab_type": "text",
    "id": "pQWfP-VMvX7c"
   },
   "source": [
    "# Clase que implementa un Algoritmo evolutivo"
   ]
  },
  {
   "cell_type": "markdown",
   "metadata": {},
   "source": [
    "Cada individuo se forma por un cromosoma formado por los siguientes genes:\n",
    "\n",
    "**Hiperparámetros estructurales**:\n",
    "\n",
    "- *loopback_window*: \n",
    "    rango:  0,7 \n",
    "    bits:   3\n",
    "    coding: 2^i\n",
    "    values: 0=1, 1=2, 2=4, 3=8, 4=16, 5=32, 6=64, 7=128\n",
    "- *forward_window*:\n",
    "    rango:  0,7\n",
    "    bits:   3\n",
    "    coding: 1+i\n",
    "    values: 0=1, 1=2, 2=3, 3=4, 4=5, 5=6, 6=7, 7=8\n",
    "- *num_lstm_layers*:\n",
    "    rango:  0,3\n",
    "    bits:   2\n",
    "    coding: 1+i\n",
    "    values: 0=1, 1=2, 2=3, 3=4\n",
    "- *num_dense_layers*: \n",
    "    rango:  0,1\n",
    "    bits:   1\n",
    "    coding: 2+i\n",
    "    values: 0=1, 1=2\n",
    "- *num_cells_per_layer*:\n",
    "    rango:  (0,3)\n",
    "    bits:   4\n",
    "    coding: default: 32, bit0=64 bit1=128 bit2=256 bit3=512 \n",
    "    values: 0=32, 1=64, 2=128, 3=192, ..., 15=960=512+256+128+64\n",
    "\n",
    "**Hiperparámetros de entrenamiento**:\n",
    "\n",
    "- *batch_size*: \n",
    "    rango:  (0,3)\n",
    "    bits:   4\n",
    "    coding: default: 1, bit0=8 bit1=16 bit2=32 bit3=64 \n",
    "    values: 0=1, 1=8, 2=16, 3=24, ..., 15=120=64+32+16+8\n",
    "- *suffling_enable*: rango (0,1), se codifica con 1 bits: 0=>(False), 1=>(True)\n",
    "    rango:  (0,1)\n",
    "    bits:   1\n",
    "    coding: (i) \n",
    "    values: 0=False, 1=True\n",
    "\n",
    "En resumen, cada individuo consta de 3+3+2+1+4+4+1 = 18 bits"
   ]
  },
  {
   "cell_type": "code",
   "execution_count": 15,
   "metadata": {},
   "outputs": [],
   "source": [
    "import PredictiveNet\n",
    "from deap import base, creator, tools, algorithms\n",
    "from scipy.stats import bernoulli\n",
    "from bitstring import BitArray\n",
    "import numpy as np\n",
    "import pickle\n",
    "import sys\n",
    "import traceback\n",
    "\n",
    "#######################################################################\n",
    "#######################################################################\n",
    "#######################################################################\n",
    "\n",
    "class Chromosome:\n",
    "    def __init__(self, deap_bin_cr):\n",
    "        \"\"\"Crea un cromosoma a partir de los valores de un cromosoma binario deap\n",
    "        \"\"\"\n",
    "        self.chromosome =[BitArray(deap_bin_cr[0:8]).uint, BitArray(deap_bin_cr[8:16]).uint, BitArray(deap_bin_cr[16:20]).uint,\n",
    "                          BitArray(deap_bin_cr[20:22]).uint, BitArray(deap_bin_cr[22:38]).uint, BitArray(deap_bin_cr[38:54]).uint,\n",
    "                          BitArray(deap_bin_cr[54:56]).uint]\n",
    "        \n",
    "        self.num_genes = len(self.chromosome)\n",
    "        self.genes = self.decode_genes()\n",
    "            \n",
    "    #-------------------------------------------------------------\n",
    "    def decode_genes(self):\n",
    "        \"\"\"Decodifica un chromosoma en sus genes. En este caso contamos con 7 genes:\n",
    "           lbw,fww,nll,ndl,nlc,bs,sf\n",
    "           \n",
    "           Returns:\n",
    "               Código genético del cromosoma como list[7]\n",
    "        \"\"\"        \n",
    "        genes = []\n",
    "        chromo = self.chromosome\n",
    "        # lbw\n",
    "        genes.append(int(2**chromo[0]))\n",
    "        # fww\n",
    "        genes.append(int(1+chromo[1]))\n",
    "        # nll\n",
    "        genes.append(int(1+chromo[2]))\n",
    "        # ndl\n",
    "        genes.append(int(1+chromo[3]))\n",
    "        # nlc\n",
    "        sum = 0\n",
    "        if chromo[4]==0:\n",
    "            sum = 32\n",
    "        else:\n",
    "            if (chromo[4] & 1):\n",
    "                sum+=64\n",
    "            if (chromo[4] & 2):\n",
    "                sum+=128\n",
    "            if (chromo[4] & 4):\n",
    "                sum+=256\n",
    "            if (chromo[4] & 8):\n",
    "                sum+=512\n",
    "        genes.append(int(sum))\n",
    "        # bs\n",
    "        sum=0\n",
    "        if chromo[5]==0:\n",
    "            sum = 1\n",
    "        else:\n",
    "            if (chromo[5] & 1):\n",
    "                sum+=8\n",
    "            if (chromo[5] & 2):\n",
    "                sum+=16\n",
    "            if (chromo[5] & 4):\n",
    "                sum+=32\n",
    "            if (chromo[5] & 8):\n",
    "                sum+=64\n",
    "        genes.append(int(sum))\n",
    "        # sf\n",
    "        genes.append(True if chromo[6]==1 else False)\n",
    "        return genes        \n",
    "\n",
    "#######################################################################\n",
    "#######################################################################\n",
    "#######################################################################\n",
    "\n",
    "class Individual:\n",
    "    def __init__(self, deap_bin_cr):\n",
    "        \"\"\"Crea un un individuo con un cromosoma binario deap\n",
    "           Args:\n",
    "               deap_bin_cr: Cromosoma binario generado por deap.toolbox\n",
    "        \"\"\"\n",
    "        self.name = str(BitArray(deap_bin_cr))\n",
    "        self.chromosome = Chromosome(deap_bin_cr)\n",
    "        _genes = self.chromosome.genes\n",
    "        self.nn = PredictiveNet.PredictiveNet(name,\n",
    "                                              loopback_window=_genes[0], \n",
    "                                              forward_window=_genes[1], \n",
    "                                              num_lstm_layers=_genes[2], \n",
    "                                              num_lstm_cells=_genes[4], \n",
    "                                              num_dense_layers=_genes[3],\n",
    "                                              num_dense_cells=_genes[4],\n",
    "                                              batch_size=_genes[5],\n",
    "                                              suffle_enable= _genes[6],\n",
    "                                              tvt_csv_file='EURUSD_H1.csv')        \n",
    "                \n",
    "    #-------------------------------------------------------------\n",
    "    def summary(self):\n",
    "        \"\"\" Visualiza un report del individuo \n",
    "        \"\"\"\n",
    "        print('Ind Name: {}, Chromosome: {}, Genes: {}, Model: {}'.format(self.name, self.chromosome, self.chromosome.genes, self.nn.model.summary()))\n",
    "\n",
    "        \n",
    "#######################################################################\n",
    "#######################################################################\n",
    "#######################################################################\n",
    "\n",
    "class GA:\n",
    "    def __init__(self, **kwargs):\n",
    "        \"\"\"Constructor del Algoritmo Genético\n",
    "           Args:\n",
    "               popsize: Tamaño de la población (0)\n",
    "               chromosome_len: Tamaño del cromosoma de los individuos (0)\n",
    "               numgen: Número de generaciones (0)\n",
    "               pcross: Probabilidad de cruce (0.0)\n",
    "               pmut: Probabilidad de mutación (0.0)\n",
    "               psel: Probabilidad de selección (0.)\n",
    "        \"\"\"        \n",
    "        self.chromosome_len = 0\n",
    "        self.popsize = 0\n",
    "        self.numgen = 0\n",
    "        self.pcross = 0.0\n",
    "        self.pmut = 0.0\n",
    "        self.psel = 0.0\n",
    "        _build_pop = False\n",
    "        for key,value in kwargs.items():        \n",
    "            if key=='popsize': \n",
    "                self.popsize = value\n",
    "            elif key=='chromosome_len':\n",
    "                chromosome_len = value\n",
    "            elif key=='numgen': \n",
    "                self.numgen = value\n",
    "            elif key=='pcross': \n",
    "                self.pcross = value\n",
    "            elif key=='pmut': \n",
    "                self.pmut = value\n",
    "            elif key=='psel': \n",
    "                self.psel = value\n",
    "       \n",
    "        # As we are trying to minimize the RMSE score, that's why using -1.0. \n",
    "        # In case, when you want to maximize accuracy for instance, use 1.0\n",
    "        creator.create('FitnessMax', base.Fitness, weights = (1.0,))\n",
    "        creator.create('Individual', list , fitness = creator.FitnessMax)\n",
    "        toolbox = base.Toolbox()\n",
    "        toolbox.register('binary', bernoulli.rvs, 0.5)\n",
    "        toolbox.register('individual', tools.initRepeat, creator.Individual, toolbox.binary, n = self.chromosome_len)\n",
    "        toolbox.register('population', tools.initRepeat, list , toolbox.individual)\n",
    "        toolbox.register('mate', tools.cxOrdered)\n",
    "        toolbox.register('mutate', tools.mutShuffleIndexes, indpb = 0.6)\n",
    "        toolbox.register('select', tools.selRoulette)\n",
    "        toolbox.register('evaluate', self.evaluate_individual)\n",
    "        self.population = toolbox.population(n = self.popsize)\n",
    "        self.summary()\n",
    "                                 \n",
    "    #-------------------------------------------------------------\n",
    "    def summary(self):\n",
    "        print('Population: ', self.population)\n",
    "                                 \n",
    "    #-------------------------------------------------------------\n",
    "    def evaluate_individual(self, chromosome):\n",
    "        ind = Individual(chromosome)\n",
    "        history = ind.nn.train_validate(2)\n",
    "        return history.history['val_acc']\n",
    "                        \n",
    "    #-------------------------------------------------------------\n",
    "    def execute(self, numgens=None):\n",
    "        generations = self.numgem\n",
    "        if numgens is not None:\n",
    "            generations = numgens\n",
    "        r = algorithms.eaSimple(self.population, toolbox, cxpb = sel.pcross, mutpb = self.pmut, ngen = generations, verbose = False)\n",
    "        return r\n",
    "        \n",
    "#######################################################################\n",
    "#######################################################################\n",
    "#######################################################################\n",
    "\n",
    "#-------------------------------------------------------------\n",
    "def save_to_file(obj, filepath):\n",
    "    with open(filepath, 'wb') as f:\n",
    "        try:\n",
    "            pickle.dump(obj, f)\n",
    "        except MemoryError as error:\n",
    "            exc_type, exc_value, exc_traceback = sys.exc_info()\n",
    "            print('type:', exc_type, 'value:', exc_value)\n",
    "        \n",
    "        \n",
    "#-------------------------------------------------------------\n",
    "def load_from_file(filepath):\n",
    "    with open(filepath, 'rb') as f:\n",
    "        obj = pickle.load(f)        \n",
    "    return obj    \n"
   ]
  },
  {
   "cell_type": "code",
   "execution_count": 16,
   "metadata": {},
   "outputs": [
    {
     "name": "stdout",
     "output_type": "stream",
     "text": [
      "Population:  [[], []]\n"
     ]
    }
   ],
   "source": [
    "ga = GA(popsize=2, chromosome_len=18, numgen=50, pcross=0.4, pmut=0.1, psel=0.5)"
   ]
  },
  {
   "cell_type": "code",
   "execution_count": 14,
   "metadata": {
    "scrolled": true
   },
   "outputs": [
    {
     "data": {
      "text/plain": [
       "[[], []]"
      ]
     },
     "execution_count": 14,
     "metadata": {},
     "output_type": "execute_result"
    }
   ],
   "source": [
    "ga.population"
   ]
  },
  {
   "cell_type": "code",
   "execution_count": null,
   "metadata": {},
   "outputs": [],
   "source": [
    "ga.inds[len(ga.inds)-1].summary()"
   ]
  },
  {
   "cell_type": "code",
   "execution_count": null,
   "metadata": {},
   "outputs": [],
   "source": [
    "ga.inds[3]['model'].model.summary()"
   ]
  },
  {
   "cell_type": "code",
   "execution_count": null,
   "metadata": {},
   "outputs": [],
   "source": []
  },
  {
   "cell_type": "code",
   "execution_count": null,
   "metadata": {},
   "outputs": [],
   "source": [
    "save_pop_to_file(ga, 'ga.dict')"
   ]
  },
  {
   "cell_type": "code",
   "execution_count": null,
   "metadata": {},
   "outputs": [],
   "source": [
    "ga2 = read_pop_from_file('ga.dict')\n",
    "ga2.inds[0].summary()"
   ]
  },
  {
   "cell_type": "markdown",
   "metadata": {},
   "source": [
    "### Red creada de forma manual"
   ]
  },
  {
   "cell_type": "code",
   "execution_count": null,
   "metadata": {},
   "outputs": [],
   "source": [
    "pn0 = PredictiveNet.PredictiveNet('pn0',\n",
    "                    loopback_window=24, \n",
    "                    forward_window=4, \n",
    "                    num_lstm_layer=3, \n",
    "                    num_lstm_cells=128, \n",
    "                    num_dense_layers=0,\n",
    "                    num_dense_cells=0,\n",
    "                    batch_size=32,\n",
    "                    suffle_enable=True)\n"
   ]
  },
  {
   "cell_type": "code",
   "execution_count": null,
   "metadata": {},
   "outputs": [],
   "source": [
    "pn0.df = pn0.load_hist('EURUSD_H1.csv', sep=';', reindex_fillna=True, plot_it=True, debug_it=True)                "
   ]
  },
  {
   "cell_type": "code",
   "execution_count": null,
   "metadata": {},
   "outputs": [],
   "source": [
    "pn0.dfapp = pn0.add_indicators( pn0.df,\n",
    "                                'out',\n",
    "                                ['CLOSE'], \n",
    "                                ['weekday', 'barsize'], \n",
    "                                ['weekday'], \n",
    "                                ['bollWidthRel', 'bollR', 'atr', 'SMAx3'], \n",
    "                                remove_weekends=True, \n",
    "                                add_applied=True, \n",
    "                                plot_it=True, \n",
    "                                starts=0, \n",
    "                                plot_len=1000)\n"
   ]
  },
  {
   "cell_type": "code",
   "execution_count": null,
   "metadata": {},
   "outputs": [],
   "source": [
    "\n",
    "pn0.num_outputs = 1\n",
    "pn0.num_inputs = pn0.dfapp.shape[1] - pn0.num_outputs\n",
    "pn0.sts_df = pn0.series_to_supervised(pn0.dfapp, pn0.num_inputs, pn0.num_outputs, pn0.lbw, pn0.fww)\n"
   ]
  },
  {
   "cell_type": "code",
   "execution_count": null,
   "metadata": {},
   "outputs": [],
   "source": [
    "pn0.sts_scaled, pn0.scaler = pn0.normalize_data(pn0.sts_df)\n"
   ]
  },
  {
   "cell_type": "code",
   "execution_count": null,
   "metadata": {},
   "outputs": [],
   "source": [
    "pn0.x_train, pn0.y_train, pn0.x_validation, pn0.y_validation, pn0.x_test, pn0.y_test = pn0.prepare_training_data(pn0.sts_scaled, pn0.bs, 4, 1, 0.8, True)\n"
   ]
  },
  {
   "cell_type": "code",
   "execution_count": null,
   "metadata": {},
   "outputs": [],
   "source": [
    "pn0.model, pn0.callbacks_list = pn0.build_net(True) "
   ]
  },
  {
   "cell_type": "code",
   "execution_count": null,
   "metadata": {},
   "outputs": [],
   "source": [
    "# Entreno la red\n",
    "pn0.train_validate(1, True)"
   ]
  },
  {
   "cell_type": "code",
   "execution_count": null,
   "metadata": {},
   "outputs": [],
   "source": [
    "# Testeo la red\n",
    "pn0.test_rmse()"
   ]
  },
  {
   "cell_type": "code",
   "execution_count": null,
   "metadata": {},
   "outputs": [],
   "source": [
    "# Hago test con predicciones\n",
    "pn0.test_with_predictions()"
   ]
  },
  {
   "cell_type": "code",
   "execution_count": null,
   "metadata": {},
   "outputs": [],
   "source": [
    "# Hago un test con una predicción realimentada\n",
    "pn0.test_full_predictions()"
   ]
  },
  {
   "cell_type": "markdown",
   "metadata": {},
   "source": [
    "### Red creada de forma automática"
   ]
  },
  {
   "cell_type": "code",
   "execution_count": null,
   "metadata": {},
   "outputs": [],
   "source": [
    "# Creo red neuronal por defecto. Carga datos de archivo csv y deja preparada para entrenamiento\n",
    "pn1 = PredictiveNet.PredictiveNet('pn1',\n",
    "                    loopback_window=24, \n",
    "                    forward_window=4, \n",
    "                    num_lstm_layer=3, \n",
    "                    num_lstm_cells=128, \n",
    "                    num_dense_layers=0,\n",
    "                    num_dense_cells=0,\n",
    "                    batch_size=32,\n",
    "                    suffle_enable=True,\n",
    "                    tvt_csv_file='EURUSD_H1.csv')"
   ]
  },
  {
   "cell_type": "code",
   "execution_count": null,
   "metadata": {},
   "outputs": [],
   "source": [
    "# Entreno la red\n",
    "pn1.train_validate(1, True)"
   ]
  },
  {
   "cell_type": "code",
   "execution_count": null,
   "metadata": {},
   "outputs": [],
   "source": [
    "# Testeo la red\n",
    "pn1.test_rmse()"
   ]
  },
  {
   "cell_type": "code",
   "execution_count": null,
   "metadata": {},
   "outputs": [],
   "source": [
    "# Hago test con predicciones\n",
    "pn1.test_with_predictions()"
   ]
  },
  {
   "cell_type": "code",
   "execution_count": null,
   "metadata": {},
   "outputs": [],
   "source": [
    "# Hago un test con una predicción realimentada\n",
    "pn1.test_full_predictions()"
   ]
  },
  {
   "cell_type": "code",
   "execution_count": null,
   "metadata": {},
   "outputs": [],
   "source": []
  }
 ],
 "metadata": {
  "accelerator": "TPU",
  "colab": {
   "collapsed_sections": [],
   "name": "FinTech_LSTM.ipynb",
   "provenance": [],
   "version": "0.3.2"
  },
  "kernelspec": {
   "display_name": "Python [conda env:keras]",
   "language": "python",
   "name": "conda-env-keras-py"
  },
  "language_info": {
   "codemirror_mode": {
    "name": "ipython",
    "version": 3
   },
   "file_extension": ".py",
   "mimetype": "text/x-python",
   "name": "python",
   "nbconvert_exporter": "python",
   "pygments_lexer": "ipython3",
   "version": "3.6.6"
  }
 },
 "nbformat": 4,
 "nbformat_minor": 1
}

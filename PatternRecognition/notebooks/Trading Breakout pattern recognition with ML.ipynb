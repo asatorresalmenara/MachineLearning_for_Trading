{
 "cells": [
  {
   "cell_type": "markdown",
   "metadata": {
    "colab_type": "text",
    "id": "pQWfP-VMvX7c"
   },
   "source": [
    "# Trading-Breakout pattern recognition with ML\n",
    "\n",
    "Along this notebook, I'll build a Trading Bot that implements a *[Trading Breakout](https://www.babypips.com/learn/forex/spotting-breakouts)* strategy, based on a Machine Learning algorithm, which main functions are: \n",
    "\n",
    "1) Recognize channel breakout patterns from candlesticks data feeds, based on MACD divergence and bearish momentum signals, as shown in next figure:\n",
    "\n",
    "<img src=\"img/breakout.jpg\" alt=\"Drawing\" style=\"width: 500px;\"/>\n",
    "\n",
    "2) Recognize the subsequent pullback to setup an entry operation (set SL & TP), based on Fibonacci retracements and extensions:\n",
    "\n",
    "<img src=\"img/trading-breakout-example.jpg\" alt=\"Drawing\" />\n"
   ]
  },
  {
   "cell_type": "markdown",
   "metadata": {},
   "source": [
    "## Guide\n",
    "\n",
    "* [Introduction](#introduction)\n",
    "* [Data preparation](#data-preparation)\n"
   ]
  },
  {
   "cell_type": "markdown",
   "metadata": {},
   "source": [
    "## Introduction\n",
    "\n",
    "The main goal of the model to be implemented, is to recognize in some degree of confidence, the evidence of a price action pattern like: shoulder-head-shoulder, double-bottom, double-top, wolfe waves, etc.\n",
    "\n",
    "From a small timeframe data feed (M15 or M30) it can consolidate data to build higher timeframe data feeds (H1, H4, D1, W1). It will use those different feeds to recognize a concrete pattern."
   ]
  },
  {
   "cell_type": "markdown",
   "metadata": {},
   "source": [
    "## Data preparation\n",
    "\n",
    "Let's start loading a data feed from symbol EURUSD and timeframe M15. This feed has Rates values (open, high, low, close, tickvol, realvol, spread) for each 15min.\n",
    "\n",
    "### Library loading\n",
    "\n",
    "Here are most common libraries used:\n",
    "\n",
    "- Numpy, Pandas, Scikit-Learn, Matplotlib & Seaborn\n",
    "- Keras as frontend over Tensorflow\n",
    "- Talib as technical indicators library\n",
    "- MyUtils, own utility library developed ad-hoc for this project. Includes: several LSTM implementations, data partitioning, visualization, data backup, and more.\n"
   ]
  },
  {
   "cell_type": "code",
   "execution_count": 1,
   "metadata": {},
   "outputs": [
    {
     "name": "stderr",
     "output_type": "stream",
     "text": [
      "Using TensorFlow backend.\n"
     ]
    }
   ],
   "source": [
    "# Append path for MyUtils libraries\n",
    "import sys\n",
    "sys.path.append('../..')\n",
    "\n",
    "####################################################################################\n",
    "# Data handling \n",
    "import pandas as pd\n",
    "from pandas import concat\n",
    "from pandas.plotting import scatter_matrix\n",
    "import numpy as np\n",
    "\n",
    "####################################################################################\n",
    "# Machine learning\n",
    "import sklearn\n",
    "from sklearn import preprocessing\n",
    "from sklearn import metrics as sk\n",
    "from sklearn.externals import joblib\n",
    "from sklearn.model_selection import StratifiedKFold, KFold\n",
    "import keras\n",
    "from keras.models import Model, Sequential\n",
    "from keras.layers import Input, LSTM, Dense, Dropout, BatchNormalization\n",
    "from keras.optimizers import Adam\n",
    "from keras.callbacks import TensorBoard, ModelCheckpoint\n",
    "from keras.optimizers import Adam\n",
    "from keras.constraints import max_norm\n",
    "\n",
    "####################################################################################\n",
    "# Visualization\n",
    "import seaborn as sns\n",
    "import matplotlib.pyplot as plt\n",
    "from matplotlib import dates, ticker\n",
    "from matplotlib.dates import (MONDAY, DateFormatter, MonthLocator, WeekdayLocator, date2num)\n",
    "import matplotlib as mpl\n",
    "import plotly\n",
    "import plotly.plotly as py\n",
    "import plotly.graph_objs as go\n",
    "from plotly.graph_objs import *\n",
    "from plotly.tools import FigureFactory as FF\n",
    "import plotly.tools as tls\n",
    "\n",
    "####################################################################################\n",
    "# TA-Lib: \n",
    "import talib\n",
    "\n",
    "####################################################################################\n",
    "# Other utilities\n",
    "import datetime\n",
    "import time\n",
    "import os\n",
    "import sys\n",
    "import math\n",
    "from enum import Enum"
   ]
  },
  {
   "cell_type": "code",
   "execution_count": 2,
   "metadata": {},
   "outputs": [
    {
     "name": "stdout",
     "output_type": "stream",
     "text": [
      "Ready!\n"
     ]
    }
   ],
   "source": [
    "import common.MyUtils as utils\n",
    "print('Ready!')"
   ]
  },
  {
   "cell_type": "markdown",
   "metadata": {},
   "source": [
    "### Historical OHLC data loading\n",
    "\n",
    "In order to carry out the implementation of the model, we need a source of historical data with the OHLC prices of the euro-dollar pair.\n",
    "\n",
    "The following file has been extracted from Metatrader and in particular from the Darwinex broker. It contains data from 2000 to 2018.\n",
    "\n",
    "It is important to keep the following in mind when loading the historical data in the working dataframe, since you have to 'clean' them:\n",
    "\n",
    "- Since we work with time data, we have to reindex the working dataframe so that each record has an exact 4-hour cadence. This will allow us to discover all missing data (NaNs). For example, in Forex, there is no quote during weekend and therefore all that data is absent.\n",
    "- Apart from the hours in which there is no quote, it may be the case that the broker loses some records, for some technical reason. In that case you have to study missing data and fill it in the best possible way.\n",
    "- It is also necessary to visualize the data to verify that there are no erroneous data, that alter the reality. If they exist, they must be corrected.\n",
    "\n",
    "To carry out the previous 'cleaning', in my library 'MyUtils' I have the function 'load_hist' that allows to eliminate entries relative to weekends and makes a filling of the missing data type 'fillna' with the last known quote.\n"
   ]
  },
  {
   "cell_type": "code",
   "execution_count": 3,
   "metadata": {},
   "outputs": [
    {
     "name": "stdout",
     "output_type": "stream",
     "text": [
      "Deleting weekends...\n"
     ]
    },
    {
     "data": {
      "text/html": [
       "<div>\n",
       "<style scoped>\n",
       "    .dataframe tbody tr th:only-of-type {\n",
       "        vertical-align: middle;\n",
       "    }\n",
       "\n",
       "    .dataframe tbody tr th {\n",
       "        vertical-align: top;\n",
       "    }\n",
       "\n",
       "    .dataframe thead th {\n",
       "        text-align: right;\n",
       "    }\n",
       "</style>\n",
       "<table border=\"1\" class=\"dataframe\">\n",
       "  <thead>\n",
       "    <tr style=\"text-align: right;\">\n",
       "      <th></th>\n",
       "      <th>OPEN</th>\n",
       "      <th>HIGH</th>\n",
       "      <th>LOW</th>\n",
       "      <th>CLOSE</th>\n",
       "      <th>OC2</th>\n",
       "      <th>HLC3</th>\n",
       "      <th>OHLC4</th>\n",
       "      <th>CLOSE_DIFF</th>\n",
       "      <th>HHMM</th>\n",
       "      <th>WEEKDAY</th>\n",
       "      <th>TICKVOL</th>\n",
       "      <th>VOL</th>\n",
       "      <th>SPREAD</th>\n",
       "    </tr>\n",
       "  </thead>\n",
       "  <tbody>\n",
       "    <tr>\n",
       "      <th>2001-04-02 00:15:00</th>\n",
       "      <td>0.8744</td>\n",
       "      <td>0.8753</td>\n",
       "      <td>0.8732</td>\n",
       "      <td>0.8751</td>\n",
       "      <td>0.87475</td>\n",
       "      <td>0.874533</td>\n",
       "      <td>0.874500</td>\n",
       "      <td>0.0007</td>\n",
       "      <td>15</td>\n",
       "      <td>0</td>\n",
       "      <td>65.0</td>\n",
       "      <td>0.0</td>\n",
       "      <td>50.0</td>\n",
       "    </tr>\n",
       "    <tr>\n",
       "      <th>2001-04-02 00:30:00</th>\n",
       "      <td>0.8752</td>\n",
       "      <td>0.8757</td>\n",
       "      <td>0.8751</td>\n",
       "      <td>0.8753</td>\n",
       "      <td>0.87525</td>\n",
       "      <td>0.875367</td>\n",
       "      <td>0.875325</td>\n",
       "      <td>0.0002</td>\n",
       "      <td>30</td>\n",
       "      <td>0</td>\n",
       "      <td>44.0</td>\n",
       "      <td>0.0</td>\n",
       "      <td>50.0</td>\n",
       "    </tr>\n",
       "    <tr>\n",
       "      <th>2001-04-02 00:45:00</th>\n",
       "      <td>0.8753</td>\n",
       "      <td>0.8755</td>\n",
       "      <td>0.8742</td>\n",
       "      <td>0.8749</td>\n",
       "      <td>0.87510</td>\n",
       "      <td>0.874867</td>\n",
       "      <td>0.874975</td>\n",
       "      <td>-0.0004</td>\n",
       "      <td>45</td>\n",
       "      <td>0</td>\n",
       "      <td>67.0</td>\n",
       "      <td>0.0</td>\n",
       "      <td>50.0</td>\n",
       "    </tr>\n",
       "    <tr>\n",
       "      <th>2001-04-02 01:00:00</th>\n",
       "      <td>0.8749</td>\n",
       "      <td>0.8760</td>\n",
       "      <td>0.8748</td>\n",
       "      <td>0.8757</td>\n",
       "      <td>0.87530</td>\n",
       "      <td>0.875500</td>\n",
       "      <td>0.875350</td>\n",
       "      <td>0.0008</td>\n",
       "      <td>60</td>\n",
       "      <td>0</td>\n",
       "      <td>76.0</td>\n",
       "      <td>0.0</td>\n",
       "      <td>50.0</td>\n",
       "    </tr>\n",
       "    <tr>\n",
       "      <th>2001-04-02 01:15:00</th>\n",
       "      <td>0.8756</td>\n",
       "      <td>0.8760</td>\n",
       "      <td>0.8754</td>\n",
       "      <td>0.8756</td>\n",
       "      <td>0.87560</td>\n",
       "      <td>0.875667</td>\n",
       "      <td>0.875650</td>\n",
       "      <td>-0.0001</td>\n",
       "      <td>75</td>\n",
       "      <td>0</td>\n",
       "      <td>67.0</td>\n",
       "      <td>0.0</td>\n",
       "      <td>50.0</td>\n",
       "    </tr>\n",
       "  </tbody>\n",
       "</table>\n",
       "</div>"
      ],
      "text/plain": [
       "                       OPEN    HIGH     LOW   CLOSE      OC2      HLC3  \\\n",
       "2001-04-02 00:15:00  0.8744  0.8753  0.8732  0.8751  0.87475  0.874533   \n",
       "2001-04-02 00:30:00  0.8752  0.8757  0.8751  0.8753  0.87525  0.875367   \n",
       "2001-04-02 00:45:00  0.8753  0.8755  0.8742  0.8749  0.87510  0.874867   \n",
       "2001-04-02 01:00:00  0.8749  0.8760  0.8748  0.8757  0.87530  0.875500   \n",
       "2001-04-02 01:15:00  0.8756  0.8760  0.8754  0.8756  0.87560  0.875667   \n",
       "\n",
       "                        OHLC4  CLOSE_DIFF  HHMM  WEEKDAY  TICKVOL  VOL  SPREAD  \n",
       "2001-04-02 00:15:00  0.874500      0.0007    15        0     65.0  0.0    50.0  \n",
       "2001-04-02 00:30:00  0.875325      0.0002    30        0     44.0  0.0    50.0  \n",
       "2001-04-02 00:45:00  0.874975     -0.0004    45        0     67.0  0.0    50.0  \n",
       "2001-04-02 01:00:00  0.875350      0.0008    60        0     76.0  0.0    50.0  \n",
       "2001-04-02 01:15:00  0.875650     -0.0001    75        0     67.0  0.0    50.0  "
      ]
     },
     "execution_count": 3,
     "metadata": {},
     "output_type": "execute_result"
    }
   ],
   "source": [
    "# Load and visualize hist-data\n",
    "df = utils.load_hist('../csv_data/EURUSD_M15.csv', freq='15min', sep=';', remove_weekends=True)\n",
    "df.head()\n"
   ]
  },
  {
   "cell_type": "markdown",
   "metadata": {},
   "source": [
    "Let's visualize some data:"
   ]
  },
  {
   "cell_type": "code",
   "execution_count": 4,
   "metadata": {},
   "outputs": [
    {
     "data": {
      "text/plain": [
       "[<matplotlib.lines.Line2D at 0x2132a4e0>]"
      ]
     },
     "execution_count": 4,
     "metadata": {},
     "output_type": "execute_result"
    },
    {
     "data": {
      "image/png": "[encoded data removed]",
      "text/plain": [
       "<Figure size 576x288 with 2 Axes>"
      ]
     },
     "metadata": {
      "needs_background": "light"
     },
     "output_type": "display_data"
    }
   ],
   "source": [
    "# Visualization range\n",
    "i,j = 0,200\n",
    "# Visualize range [i:j] of CLOSE price:\n",
    "# Using x axis as dates at 1-hour pace\n",
    "plt.figure(figsize=(8,4))\n",
    "plt.subplot(1,2,1)\n",
    "plt.plot(df.CLOSE[0:200])\n",
    "# Using continuous data\n",
    "plt.subplot(1,2,2)\n",
    "plt.plot(df.CLOSE.values[0:200])\n",
    "# Both are valid"
   ]
  },
  {
   "cell_type": "markdown",
   "metadata": {},
   "source": [
    "Now, let's visualize as a candlestick chart:"
   ]
  },
  {
   "cell_type": "code",
   "execution_count": 5,
   "metadata": {},
   "outputs": [
    {
     "data": {
      "text/html": [
       "<iframe id=\"igraph\" scrolling=\"no\" style=\"border:none;\" seamless=\"seamless\" src=\"https://plot.ly/~raulMrello/130.embed\" height=\"525px\" width=\"100%\"></iframe>"
      ],
      "text/plain": [
       "<plotly.tools.PlotlyDisplay object>"
      ]
     },
     "execution_count": 5,
     "metadata": {},
     "output_type": "execute_result"
    }
   ],
   "source": [
    "# import api-key\n",
    "import common.plotly_key\n",
    "\n",
    "# build chart data\n",
    "trace = go.Ohlc(x=df.reset_index()['index'][i:j],\n",
    "                open=df['OPEN'][i:j],\n",
    "                high=df['HIGH'][i:j],\n",
    "                low=df['LOW'][i:j],\n",
    "                close=df['CLOSE'][i:j])\n",
    "\n",
    "#remove range-slider\n",
    "layout = go.Layout(\n",
    "    xaxis = dict(\n",
    "        rangeslider = dict(\n",
    "            visible = False\n",
    "        )\n",
    "    )\n",
    ")\n",
    "#plot it\n",
    "py.iplot([trace], filename='simple_ohlc')"
   ]
  },
  {
   "cell_type": "markdown",
   "metadata": {},
   "source": [
    "### Zigzag indicator\n",
    "\n",
    "Now, as TA-Lib doesn't provide a Zigzag indicator, I've built one, based on Bollinger Bands, look:"
   ]
  },
  {
   "cell_type": "markdown",
   "metadata": {},
   "source": [
    "Now I'm going to create an iterator recording max HIGH values and min LOW values according with the previous explanation:"
   ]
  },
  {
   "cell_type": "code",
   "execution_count": 6,
   "metadata": {},
   "outputs": [
    {
     "name": "stderr",
     "output_type": "stream",
     "text": [
      "C:\\Users\\raulm\\Programas\\anaconda3\\envs\\keras\\lib\\site-packages\\pandas\\core\\indexing.py:189: SettingWithCopyWarning:\n",
      "\n",
      "\n",
      "A value is trying to be set on a copy of a slice from a DataFrame\n",
      "\n",
      "See the caveats in the documentation: http://pandas.pydata.org/pandas-docs/stable/indexing.html#indexing-view-versus-copy\n",
      "\n"
     ]
    },
    {
     "data": {
      "text/html": [
       "<div>\n",
       "<style scoped>\n",
       "    .dataframe tbody tr th:only-of-type {\n",
       "        vertical-align: middle;\n",
       "    }\n",
       "\n",
       "    .dataframe tbody tr th {\n",
       "        vertical-align: top;\n",
       "    }\n",
       "\n",
       "    .dataframe thead th {\n",
       "        text-align: right;\n",
       "    }\n",
       "</style>\n",
       "<table border=\"1\" class=\"dataframe\">\n",
       "  <thead>\n",
       "    <tr style=\"text-align: right;\">\n",
       "      <th></th>\n",
       "      <th>OPEN</th>\n",
       "      <th>HIGH</th>\n",
       "      <th>LOW</th>\n",
       "      <th>CLOSE</th>\n",
       "      <th>IND_BB_UPPER</th>\n",
       "      <th>IND_BB_MIDDLE</th>\n",
       "      <th>IND_BB_LOWER</th>\n",
       "      <th>ZIGZAG</th>\n",
       "      <th>ACTION</th>\n",
       "    </tr>\n",
       "  </thead>\n",
       "  <tbody>\n",
       "    <tr>\n",
       "      <th>2001-04-04 07:00:00</th>\n",
       "      <td>0.8962</td>\n",
       "      <td>0.8966</td>\n",
       "      <td>0.8954</td>\n",
       "      <td>0.8963</td>\n",
       "      <td>0.896942</td>\n",
       "      <td>0.896350</td>\n",
       "      <td>0.895758</td>\n",
       "      <td>0.8954</td>\n",
       "      <td>ActionType.SearchingLow</td>\n",
       "    </tr>\n",
       "    <tr>\n",
       "      <th>2001-04-04 07:15:00</th>\n",
       "      <td>0.8963</td>\n",
       "      <td>0.8977</td>\n",
       "      <td>0.8960</td>\n",
       "      <td>0.8971</td>\n",
       "      <td>0.896994</td>\n",
       "      <td>0.896360</td>\n",
       "      <td>0.895726</td>\n",
       "      <td>NaN</td>\n",
       "      <td>ActionType.SearchingLow</td>\n",
       "    </tr>\n",
       "    <tr>\n",
       "      <th>2001-04-04 07:30:00</th>\n",
       "      <td>0.8971</td>\n",
       "      <td>0.8973</td>\n",
       "      <td>0.8962</td>\n",
       "      <td>0.8971</td>\n",
       "      <td>0.897106</td>\n",
       "      <td>0.896395</td>\n",
       "      <td>0.895684</td>\n",
       "      <td>NaN</td>\n",
       "      <td>ActionType.SearchingLow</td>\n",
       "    </tr>\n",
       "    <tr>\n",
       "      <th>2001-04-04 07:45:00</th>\n",
       "      <td>0.8969</td>\n",
       "      <td>0.8974</td>\n",
       "      <td>0.8961</td>\n",
       "      <td>0.8964</td>\n",
       "      <td>0.897077</td>\n",
       "      <td>0.896380</td>\n",
       "      <td>0.895683</td>\n",
       "      <td>0.8974</td>\n",
       "      <td>ActionType.SearchingHigh</td>\n",
       "    </tr>\n",
       "    <tr>\n",
       "      <th>2001-04-04 08:00:00</th>\n",
       "      <td>0.8959</td>\n",
       "      <td>0.8970</td>\n",
       "      <td>0.8955</td>\n",
       "      <td>0.8958</td>\n",
       "      <td>0.897097</td>\n",
       "      <td>0.896355</td>\n",
       "      <td>0.895613</td>\n",
       "      <td>NaN</td>\n",
       "      <td>ActionType.SearchingHigh</td>\n",
       "    </tr>\n",
       "    <tr>\n",
       "      <th>2001-04-04 08:15:00</th>\n",
       "      <td>0.8961</td>\n",
       "      <td>0.8966</td>\n",
       "      <td>0.8949</td>\n",
       "      <td>0.8953</td>\n",
       "      <td>0.897151</td>\n",
       "      <td>0.896340</td>\n",
       "      <td>0.895529</td>\n",
       "      <td>NaN</td>\n",
       "      <td>ActionType.SearchingHigh</td>\n",
       "    </tr>\n",
       "    <tr>\n",
       "      <th>2001-04-04 08:30:00</th>\n",
       "      <td>0.8952</td>\n",
       "      <td>0.8957</td>\n",
       "      <td>0.8941</td>\n",
       "      <td>0.8956</td>\n",
       "      <td>0.897182</td>\n",
       "      <td>0.896310</td>\n",
       "      <td>0.895438</td>\n",
       "      <td>NaN</td>\n",
       "      <td>ActionType.SearchingLow</td>\n",
       "    </tr>\n",
       "    <tr>\n",
       "      <th>2001-04-04 08:45:00</th>\n",
       "      <td>0.8956</td>\n",
       "      <td>0.8961</td>\n",
       "      <td>0.8949</td>\n",
       "      <td>0.8957</td>\n",
       "      <td>0.897197</td>\n",
       "      <td>0.896295</td>\n",
       "      <td>0.895393</td>\n",
       "      <td>NaN</td>\n",
       "      <td>ActionType.SearchingLow</td>\n",
       "    </tr>\n",
       "    <tr>\n",
       "      <th>2001-04-04 09:00:00</th>\n",
       "      <td>0.8956</td>\n",
       "      <td>0.8962</td>\n",
       "      <td>0.8945</td>\n",
       "      <td>0.8949</td>\n",
       "      <td>0.897272</td>\n",
       "      <td>0.896205</td>\n",
       "      <td>0.895138</td>\n",
       "      <td>NaN</td>\n",
       "      <td>ActionType.SearchingLow</td>\n",
       "    </tr>\n",
       "    <tr>\n",
       "      <th>2001-04-04 09:15:00</th>\n",
       "      <td>0.8951</td>\n",
       "      <td>0.8956</td>\n",
       "      <td>0.8941</td>\n",
       "      <td>0.8947</td>\n",
       "      <td>0.897315</td>\n",
       "      <td>0.896100</td>\n",
       "      <td>0.894885</td>\n",
       "      <td>NaN</td>\n",
       "      <td>ActionType.SearchingLow</td>\n",
       "    </tr>\n",
       "  </tbody>\n",
       "</table>\n",
       "</div>"
      ],
      "text/plain": [
       "                       OPEN    HIGH     LOW   CLOSE  IND_BB_UPPER  \\\n",
       "2001-04-04 07:00:00  0.8962  0.8966  0.8954  0.8963      0.896942   \n",
       "2001-04-04 07:15:00  0.8963  0.8977  0.8960  0.8971      0.896994   \n",
       "2001-04-04 07:30:00  0.8971  0.8973  0.8962  0.8971      0.897106   \n",
       "2001-04-04 07:45:00  0.8969  0.8974  0.8961  0.8964      0.897077   \n",
       "2001-04-04 08:00:00  0.8959  0.8970  0.8955  0.8958      0.897097   \n",
       "2001-04-04 08:15:00  0.8961  0.8966  0.8949  0.8953      0.897151   \n",
       "2001-04-04 08:30:00  0.8952  0.8957  0.8941  0.8956      0.897182   \n",
       "2001-04-04 08:45:00  0.8956  0.8961  0.8949  0.8957      0.897197   \n",
       "2001-04-04 09:00:00  0.8956  0.8962  0.8945  0.8949      0.897272   \n",
       "2001-04-04 09:15:00  0.8951  0.8956  0.8941  0.8947      0.897315   \n",
       "\n",
       "                     IND_BB_MIDDLE  IND_BB_LOWER  ZIGZAG  \\\n",
       "2001-04-04 07:00:00       0.896350      0.895758  0.8954   \n",
       "2001-04-04 07:15:00       0.896360      0.895726     NaN   \n",
       "2001-04-04 07:30:00       0.896395      0.895684     NaN   \n",
       "2001-04-04 07:45:00       0.896380      0.895683  0.8974   \n",
       "2001-04-04 08:00:00       0.896355      0.895613     NaN   \n",
       "2001-04-04 08:15:00       0.896340      0.895529     NaN   \n",
       "2001-04-04 08:30:00       0.896310      0.895438     NaN   \n",
       "2001-04-04 08:45:00       0.896295      0.895393     NaN   \n",
       "2001-04-04 09:00:00       0.896205      0.895138     NaN   \n",
       "2001-04-04 09:15:00       0.896100      0.894885     NaN   \n",
       "\n",
       "                                       ACTION  \n",
       "2001-04-04 07:00:00   ActionType.SearchingLow  \n",
       "2001-04-04 07:15:00   ActionType.SearchingLow  \n",
       "2001-04-04 07:30:00   ActionType.SearchingLow  \n",
       "2001-04-04 07:45:00  ActionType.SearchingHigh  \n",
       "2001-04-04 08:00:00  ActionType.SearchingHigh  \n",
       "2001-04-04 08:15:00  ActionType.SearchingHigh  \n",
       "2001-04-04 08:30:00   ActionType.SearchingLow  \n",
       "2001-04-04 08:45:00   ActionType.SearchingLow  \n",
       "2001-04-04 09:00:00   ActionType.SearchingLow  \n",
       "2001-04-04 09:15:00   ActionType.SearchingLow  "
      ]
     },
     "execution_count": 6,
     "metadata": {},
     "output_type": "execute_result"
    }
   ],
   "source": [
    "# select a small ammount of data (for testing purposes)\n",
    "dfaux = df[200:1000].copy()\n",
    "\n",
    "# builds a Zigzag dataframe and get x,y arrays of zigzagpoints\n",
    "zigzag_df, zigzag_x, zigzag_y = utils.ZIGZAG(dfaux, minbars=3)\n",
    "\n",
    "# check dataframe contents\n",
    "zigzag_df.head(10)"
   ]
  },
  {
   "cell_type": "code",
   "execution_count": 9,
   "metadata": {
    "scrolled": true
   },
   "outputs": [
    {
     "data": {
      "text/html": [
       "<iframe id=\"igraph\" scrolling=\"no\" style=\"border:none;\" seamless=\"seamless\" src=\"https://plot.ly/~raulMrello/130.embed\" height=\"525px\" width=\"100%\"></iframe>"
      ],
      "text/plain": [
       "<plotly.tools.PlotlyDisplay object>"
      ]
     },
     "execution_count": 9,
     "metadata": {},
     "output_type": "execute_result"
    }
   ],
   "source": [
    "# Create Candlestick\n",
    "trace = go.Ohlc(x=zigzag_df.reset_index()['index'],\n",
    "                open=zigzag_df['OPEN'],\n",
    "                high=zigzag_df['HIGH'],\n",
    "                low=zigzag_df['LOW'],\n",
    "                close=zigzag_df['CLOSE'],\n",
    "                name='eurusd_M15')\n",
    "\n",
    "# Creates 3 lines for the BollingerBands indicator\n",
    "line_bbup = Scatter(\n",
    "    x=zigzag_df.reset_index()['index'],\n",
    "    y=zigzag_df['IND_BB_UPPER'],\n",
    "    name= 'UpperBand',\n",
    "    line=scatter.Line(color='blue')\n",
    "    )\n",
    "line_bbmid = Scatter(\n",
    "    x=zigzag_df.reset_index()['index'],\n",
    "    y=zigzag_df['IND_BB_MIDDLE'],\n",
    "    name= 'MiddleBand',\n",
    "    line=scatter.Line(color='brown')\n",
    "    )\n",
    "line_bbdn = Scatter(\n",
    "    x=zigzag_df.reset_index()['index'],\n",
    "    y=zigzag_df['IND_BB_LOWER'],\n",
    "    name= 'LowerBand',\n",
    "    line=scatter.Line(color='blue')\n",
    "    )\n",
    "# Creates zigzag lines \n",
    "line_zigzag = go.Scatter(\n",
    "    x=pd.DatetimeIndex(data=zigzag_x), \n",
    "    y=zigzag_y,     \n",
    "    name='zigzag', \n",
    "    line=scatter.Line(color='orange'))\n",
    "\n",
    "#plot it\n",
    "py.iplot([trace, line_bbup, line_bbmid, line_bbdn, line_zigzag], filename='simple_ohlc')\n"
   ]
  },
  {
   "cell_type": "markdown",
   "metadata": {},
   "source": [
    "As shown above, weekends are removed from the forex data feed (market is closed and prices doesn't change), but those data is plotted. Now I remove those sections to improve its readibility:"
   ]
  },
  {
   "cell_type": "code",
   "execution_count": 16,
   "metadata": {},
   "outputs": [
    {
     "data": {
      "text/html": [
       "<iframe id=\"igraph\" scrolling=\"no\" style=\"border:none;\" seamless=\"seamless\" src=\"https://plot.ly/~raulMrello/130.embed\" height=\"525px\" width=\"100%\"></iframe>"
      ],
      "text/plain": [
       "<plotly.tools.PlotlyDisplay object>"
      ]
     },
     "execution_count": 16,
     "metadata": {},
     "output_type": "execute_result"
    }
   ],
   "source": [
    "# creates a dataframe with a new incremental index\n",
    "df0 = zigzag_df.reset_index(drop=True)\n",
    "\n",
    "# selects zigzag points\n",
    "dfz = df0.dropna()\n",
    "\n",
    "# Create Candlestick\n",
    "trace = go.Ohlc(x=df0.reset_index()['index'],\n",
    "                open=df0['OPEN'],\n",
    "                high=df0['HIGH'],\n",
    "                low=df0['LOW'],\n",
    "                close=df0['CLOSE'],\n",
    "                name='eurusd_M15')\n",
    "\n",
    "# Creates 3 lines for the BollingerBands indicator\n",
    "line_bbup = Scatter(\n",
    "    x=df0.reset_index()['index'],\n",
    "    y=df0['IND_BB_UPPER'],\n",
    "    name= 'UpperBand',\n",
    "    line=scatter.Line(color='blue')\n",
    "    )\n",
    "line_bbmid = Scatter(\n",
    "    x=df0.reset_index()['index'],\n",
    "    y=df0['IND_BB_MIDDLE'],\n",
    "    name= 'MiddleBand',\n",
    "    line=scatter.Line(color='brown')\n",
    "    )\n",
    "line_bbdn = Scatter(\n",
    "    x=df0.reset_index()['index'],\n",
    "    y=df0['IND_BB_LOWER'],\n",
    "    name= 'LowerBand',\n",
    "    line=scatter.Line(color='blue')\n",
    "    )\n",
    "# Creates zigzag lines \n",
    "line_zigzag = go.Scatter(\n",
    "    x=dfz.reset_index()['index'], \n",
    "    y=dfz['ZIGZAG'],     \n",
    "    name='zigzag', \n",
    "    line=scatter.Line(color='orange'))\n",
    "\n",
    "#plot it\n",
    "py.iplot([trace, line_bbup, line_bbmid, line_bbdn, line_zigzag], filename='simple_ohlc')"
   ]
  },
  {
   "cell_type": "markdown",
   "metadata": {},
   "source": [
    "### Predictions\n",
    "\n",
    "As said, this model will predict an estimation of High and Low prices for next session. To achieve it, it will predict the price movement from the current close price. So, knowing the current close time and the prediction movement, it will extract the real High,Low prices.\n",
    "\n",
    "So, both outputs could be expressed with these equations:\n",
    "\n",
    "PREDICTION_HIGH(t+1) = PRICE_HIGH(t+1) - CLOSE(t)\n",
    "\n",
    "PREDICTION_LOW(t+1) = PRICE_LOW(t+1) - CLOSE(t)\n"
   ]
  },
  {
   "cell_type": "code",
   "execution_count": null,
   "metadata": {},
   "outputs": [],
   "source": [
    "# function to generate predictions as explained above\n",
    "def define_outputs(df):  \n",
    "  df['OUT_HIGH'] = df.HIGH - df.CLOSE.shift(1)\n",
    "  df['OUT_LOW'] = df.LOW - df.CLOSE.shift(1)\n",
    "  return df\n",
    "\n",
    "# Add both outputs to df dataframe and check first rows (also remove NaNs)\n",
    "df = define_outputs(df)\n",
    "df.dropna(inplace=True)\n",
    "df.head()"
   ]
  },
  {
   "cell_type": "code",
   "execution_count": null,
   "metadata": {},
   "outputs": [],
   "source": [
    "# Visualization of all columns: input features and target predictions\n",
    "rows = (df.shape[1] / 4) + 1\n",
    "plt.figure(figsize = (12,50))\n",
    "for c in df.columns:\n",
    "  i = df.columns.get_loc(c)+1\n",
    "  plt.subplot(rows, 4, i)\n",
    "  plt.plot(df[c])\n",
    "  plt.legend([c])\n",
    "  "
   ]
  },
  {
   "cell_type": "markdown",
   "metadata": {},
   "source": [
    "### Data preprocessing\n",
    "\n",
    "This model will predict price movement one timestep ahead, from a loopback window of the last 4 timesteps: \n",
    "\n",
    "(t-3), (t-2), (t-1), (t) ==> (t+1)\n",
    "\n",
    "LSTM cells require input features and target outputs to be in a proper format:\n",
    "\n",
    "- Input features shape: (num_samples, num_loopback_timesteps, num_input_features)\n",
    "- Output target shape: (num_outputs * num_prediction_timesteps)\n",
    "\n",
    "To adapt data contained in df dataframe into these sets, I use function 'series_to_supervised' contained in python file 'MyUtils.py'. You can check how it works there.\n"
   ]
  },
  {
   "cell_type": "code",
   "execution_count": null,
   "metadata": {},
   "outputs": [],
   "source": [
    "# Setup:\n",
    "\n",
    "# Num outputs to predict\n",
    "num_outputs = 2\n",
    "\n",
    "# Num input features\n",
    "num_inputs = len(df.columns) - num_outputs\n",
    "\n",
    "# Num loopback timesteps\n",
    "n_in = 4\n",
    "\n",
    "# Num timesteps to predict\n",
    "n_out = 1\n",
    "\n",
    "# Flag to remove NaN values from  df dataframe\n",
    "dropnan = True\n",
    "\n",
    "# Run the preprocessor and get a new dataframe 'df_nn'\n",
    "df_nn = utils.series_to_supervised(df, num_inputs, num_outputs, n_in, n_out, dropnan)\n",
    "\n",
    "# Check the result\n",
    "print(df_nn.shape)\n",
    "df_nn.head()"
   ]
  },
  {
   "cell_type": "code",
   "execution_count": null,
   "metadata": {
    "scrolled": true
   },
   "outputs": [],
   "source": [
    "# DATA DEBUGGING:\n",
    "# Now I use an auxiliar temporal dataframe '_df' to check if target outputs are calculated correctly. I check if 'next_high' \n",
    "# column has the same content as 'HIGH(t)' shifted 1 timestemp in the future.\n",
    "_df = df_nn[['HIGH(t-1)','HIGH(t)','LOW(t-1)','LOW(t)','CLOSE(t-1)', 'CLOSE(t)','OUT_HIGH(t+1)']].head(10).copy()\n",
    "_df['next_high'] = _df['CLOSE(t)']+ _df['OUT_HIGH(t+1)']\n",
    "_df"
   ]
  },
  {
   "cell_type": "markdown",
   "metadata": {},
   "source": [
    "### Data normalization\n",
    "\n",
    "A general preprocessing operation in Neural Networks is data normalization, in this case, as LSTM cells contains a 'tanh' cell, I will normalize all features in range [-1,+1].\n",
    "\n",
    "I will save the scaler for further use when de-normalization process is required later on model validation. I use 'MinMaxScaler' from Scikit-learn library. For this purpose I use 'normalize_data' function from MyUtils.py file:"
   ]
  },
  {
   "cell_type": "code",
   "execution_count": null,
   "metadata": {},
   "outputs": [],
   "source": [
    "#### Data normalization. Get the scaler (save a copy on disk for later use) and a new normalized dataframe: dfnorm\n",
    "dfnorm, scaler = utils.normalize_data(df_nn, feat_range = (-1,1), csv_to_save=None, scaler_to_save='../scaler_data/scaler.data')\n",
    "# check result\n",
    "dfnorm.describe()"
   ]
  },
  {
   "cell_type": "markdown",
   "metadata": {},
   "source": [
    "## 3 RNN model construction\n",
    "\n",
    "First of all, I like to say that I will use Keras as fronted over Tensorflow, to build a stacked LSTM network.\n",
    "\n",
    "I use function 'build_lstm_net' in MyUtils.py file (check it there if curious). It requires different arguments: num_inputs, num_outputs, loopback and predicted timestemps, number of LSTM layers, ...\n",
    "\n",
    "In first place  I will execute a cross validation phase, using 'Kfolds' from Scikit-learn to get a first impression about the model. I'll generate 5 different models.\n"
   ]
  },
  {
   "cell_type": "markdown",
   "metadata": {},
   "source": [
    "### Cross validation\n",
    "\n",
    "dfnorm dataframe is used to get train-test in-out pairs. LSTM model is:\n",
    "\n",
    "- 3 stacked LSTM layers with 64 neurons each.\n",
    "- 1 Dense hidden layer with 128 neurons.\n",
    "- 1 Dense output layer with 2 neurons (one per output)\n",
    "- Dropout after each layer to improve generalization and avoid overfitting\n"
   ]
  },
  {
   "cell_type": "code",
   "execution_count": null,
   "metadata": {},
   "outputs": [],
   "source": [
    "# split into input (X) and output (Y) variables\n",
    "X = dfnorm.values[:,:(num_inputs*n_in)]\n",
    "Y = dfnorm.values[:,(num_inputs*n_in):]\n",
    "# define 5-fold cross validation test harness\n",
    "# fix random seed for reproducibility\n",
    "seed = 7\n",
    "np.random.seed(seed)\n",
    "kfold = KFold(n_splits=5, shuffle=True, random_state=seed)\n",
    "cvscores = []\n",
    "i=0\n",
    "for train, test in kfold.split(X, Y):\n",
    "  # create model\n",
    "  model,callbacks = utils.build_lstm_net(num_inputs, n_in, num_outputs, n_out, 3,2,64,128,'weights_0412_m'+str(i)+'.hd5')\n",
    "  i += 1\n",
    "  # Fit the model\n",
    "  x = X[train]\n",
    "  x = x.reshape(x.shape[0], n_in, num_inputs)\n",
    "  utils.fit(model, x, Y[train], num_inputs, n_in, num_epochs=5, callbacks=callbacks, batchsize=32)  \n",
    "  # evaluate the model\n",
    "  x = X[test]\n",
    "  scores = utils.test_evaluation(model, x, Y[test], num_inputs, n_in)\n",
    "  x = x.reshape(x.shape[0], n_in, num_inputs)\n",
    "  scores = model.evaluate(x, Y[test], verbose=0)\n",
    "  print(\"%s: %.2f%%\" % (model.metrics_names[0], scores[0]*100))\n",
    "  print(\"%s: %.2f%%\" % (model.metrics_names[1], scores[1]*100))\n",
    "  cvscores.append(scores[1] * 100)\n",
    "print(\"%.2f%% (+/- %.2f%%)\" % (np.mean(cvscores), np.std(cvscores)))"
   ]
  },
  {
   "cell_type": "markdown",
   "metadata": {},
   "source": [
    "As this model seems to be raise good results, I will train with a whole train-test dataset.\n",
    "\n",
    "### Model training\n",
    "\n",
    "In this case, I will use 'dfnorm' dataframe and get 80% (around 88000 samples) for training and 20% (around 22000 samples) for validation. I'll use 'prepare_training_data' and 'fit' functions from MyUtils.py file:"
   ]
  },
  {
   "cell_type": "code",
   "execution_count": null,
   "metadata": {},
   "outputs": [],
   "source": [
    "# Prepare data for train-test\n",
    "x_train,y_train,x_test,y_test = utils.prepare_training_data(dfnorm, num_inputs * n_in, 0.8)\n",
    "print('x_train:', x_train.shape, 'y_train', y_train.shape)\n",
    "print('x_test:', x_test.shape, 'y_test', y_test.shape)\n"
   ]
  },
  {
   "cell_type": "code",
   "execution_count": null,
   "metadata": {},
   "outputs": [],
   "source": [
    "# Build the RNN model with same configuration\n",
    "model,callbacks = utils.build_lstm_net(num_inputs, n_in, num_outputs, n_out, 3,2,64,128,'../hd5_data/weightsH4_3.2.64.128.hd5')"
   ]
  },
  {
   "cell_type": "code",
   "execution_count": null,
   "metadata": {
    "scrolled": true
   },
   "outputs": [],
   "source": [
    "# Setup:\n",
    "\n",
    "# Training epochs\n",
    "num_epochs = 30\n",
    "# Batch size\n",
    "batchsize = 32\n",
    "# Ratio validation-training (20%)\n",
    "val_ratio = 0.2\n",
    "# Enable data shuffling\n",
    "shuffle = True\n",
    "# Enable result plotting\n",
    "plot_results = True\n",
    "# Start training\n",
    "result = utils.fit(model, x_train, y_train, num_inputs, n_in, num_epochs, callbacks, batchsize, val_ratio, shuffle, plot_results, verbose=2)"
   ]
  },
  {
   "cell_type": "code",
   "execution_count": null,
   "metadata": {},
   "outputs": [],
   "source": [
    "# Save model weights on disk, as HDF5 file\n",
    "model.save_weights('../hd5_data/weightsH4_3.2.64.128.hd5')"
   ]
  },
  {
   "cell_type": "markdown",
   "metadata": {},
   "source": [
    "### Model verification\n",
    "\n",
    "Once trained, let's check its behaviour with new data. Function 'test_rmse' in MyUtils.py executes the test and returns the RMSE result. A callback 'out_builder' is needed to de-normalize data to calculate RMSE."
   ]
  },
  {
   "cell_type": "code",
   "execution_count": null,
   "metadata": {
    "scrolled": true
   },
   "outputs": [],
   "source": [
    "# column selection for 'out_builder' callback\n",
    "ih = df_nn.columns.get_loc('OUT_HIGH(t+1)')  \n",
    "il = df_nn.columns.get_loc('OUT_LOW(t+1)')\n",
    "ic = df_nn.columns.get_loc('CLOSE(t)')\n",
    "  \n",
    "# Callback to build de-normalized output data from normalized predictions\n",
    "def out_builder(xy,xyhat):\n",
    "  return np.asarray([xy[ih]+xy[ic],xy[il]+xy[ic]]), np.asarray([xyhat[ih]+xyhat[ic],xyhat[il]+xyhat[ic]])\n",
    "  \n",
    "# Executes test process and visualizes RMSE result\n",
    "scores, targets, preds, rmse = utils.test_rmse(model, x_test, y_test, num_inputs, n_in, num_outputs, n_out, scaler, out_builder, True)"
   ]
  },
  {
   "cell_type": "code",
   "execution_count": null,
   "metadata": {
    "scrolled": true
   },
   "outputs": [],
   "source": [
    "# Dataframe update:\n",
    "\n",
    "# Reshape results into np.arrays\n",
    "atgt = np.asarray(targets)\n",
    "apreds = np.asarray(preds)\n",
    "armse = np.asarray(rmse)\n",
    "\n",
    "# Build a new dataframe named 'df_predict' with prediction results.\n",
    "df_predict = df_nn[x_train.shape[0]:].copy()\n",
    "#... add predictions...\n",
    "df_predict['PREDICT_HIGH'] = apreds[:,0]\n",
    "df_predict['PREDICT_LOW'] = apreds[:,1]\n",
    "\n",
    "#... add targets...\n",
    "df_predict['TARGET_HIGH'] = df_predict['CLOSE(t)'] + df_predict['OUT_HIGH(t+1)'] \n",
    "df_predict['TARGET_LOW'] = df_predict['CLOSE(t)'] + df_predict['OUT_LOW(t+1)'] \n",
    "\n",
    "#... add some data-debugging columns to validate results\n",
    "df_predict['TARGET_HIGH_CHECK'] = atgt[:,0]\n",
    "df_predict['TARGET_LOW_CHECK'] = atgt[:,1]\n",
    "\n",
    "#... add RMSE error\n",
    "df_predict['RMSE'] = armse[:]\n",
    "\n",
    "# Visualize first rows for visual debugging\n",
    "df_predict.head()"
   ]
  },
  {
   "cell_type": "markdown",
   "metadata": {},
   "source": [
    "Now I carry on a visual inspection of results obtained. I can range the visualization plot to zoom in or out.\n",
    "\n",
    "Target range (real range between high and low prices) is coloured in grey, while predicted range (area between predicted high and low) is coloured in yellow."
   ]
  },
  {
   "cell_type": "code",
   "execution_count": null,
   "metadata": {},
   "outputs": [],
   "source": [
    "plt.figure(figsize=(16,16))\n",
    "i=-10\n",
    "x = np.arange(10)\n",
    "y1 = df_predict['TARGET_HIGH'].values[i:]\n",
    "y2 = df_predict['TARGET_LOW'].values[i:]\n",
    "y3 = df_predict['PREDICT_HIGH'].values[i:]\n",
    "y4 = df_predict['PREDICT_LOW'].values[i:]\n",
    "plt.plot(x,y1, color='black')\n",
    "plt.plot(x,y2, color = 'brown')\n",
    "plt.plot(x,y3, color = 'red')\n",
    "plt.plot(x,y4, color = 'green')\n",
    "plt.legend(['target_hi','target_lo', 'predict_hi', 'predict_lo'])\n",
    "plt.fill_between(x,y1,y2, color='grey', alpha='0.5')\n",
    "plt.fill_between(x,y3,y4, color='yellow', alpha='0.5')\n",
    "#plt.plot(df_predict['TARGET_HIGH_CHECK'].values[i:j])\n",
    "#plt.plot(df_predict['TARGET_LOW_CHECK'].values[i:j])\n"
   ]
  },
  {
   "cell_type": "markdown",
   "metadata": {},
   "source": [
    "As can be seen, there exist a small prediction error. In general, predicted range between High and Low prices as greater than real High-Low range.\n"
   ]
  },
  {
   "cell_type": "markdown",
   "metadata": {},
   "source": [
    "### Next steps\n",
    "\n",
    "Once verified that prediction is valid for my purposes, it's time to build a dataframe for the next stage: A3C-LSTM agent.\n",
    "\n",
    "In this new stage, the agent will require real time market data (bars, quotes, account info and predictions) to start its training process as a RL problem.\n",
    "\n",
    "Now we are going to build a dataframe (only with bars, targets, predictions) for this next stage:"
   ]
  },
  {
   "cell_type": "code",
   "execution_count": null,
   "metadata": {},
   "outputs": [],
   "source": [
    "# split historic data into input (X) and output (Y) variables and executes predictions\n",
    "X = dfnorm.values[:,:(num_inputs*n_in)]\n",
    "Y = dfnorm.values[:,(num_inputs*n_in):]\n",
    "predictions = model.predict(X.reshape(X.shape[0], n_in, num_inputs), batch_size=1)"
   ]
  },
  {
   "cell_type": "code",
   "execution_count": null,
   "metadata": {},
   "outputs": [],
   "source": [
    "# let's copy dfnorm and add predictions as new columns\n",
    "df_predict = dfnorm.copy()\n",
    "df_predict['OUT_HIGH(t+1)'] = predictions[:,0]\n",
    "df_predict['OUT_LOW(t+1)']  = predictions[:,1]\n",
    "df_predict.tail()"
   ]
  },
  {
   "cell_type": "code",
   "execution_count": null,
   "metadata": {},
   "outputs": [],
   "source": [
    "# de-normalize data\n",
    "df_predict = utils.denormalize_data(df_predict, scaler)\n",
    "df_predict.tail()"
   ]
  },
  {
   "cell_type": "code",
   "execution_count": null,
   "metadata": {},
   "outputs": [],
   "source": [
    "# Add new columns for expected targets\n",
    "df_predict['TARGET_HIGH'] = df_nn['OUT_HIGH(t+1)'] \n",
    "df_predict['TARGET_LOW'] = df_nn['OUT_LOW(t+1)'] \n",
    "\n",
    "#... calculate RMSE error between targets and predictions\n",
    "df_predict['RMSE'] = df_predict.apply(lambda row: math.sqrt(sk.mean_squared_error(np.asarray([row['TARGET_HIGH'], row['TARGET_LOW']]), np.asarray([row['OUT_HIGH(t+1)'], row['OUT_LOW(t+1)']]), multioutput = 'uniform_average')), axis=1)\n",
    "\n",
    "# add new columns to get targets and predictions as absolute price values\n",
    "df_predict['PREDICT_HIGH_PRICE'] = df_predict['CLOSE(t)'] + df_predict['OUT_HIGH(t+1)']\n",
    "df_predict['PREDICT_LOW_PRICE'] = df_predict['CLOSE(t)'] + df_predict['OUT_LOW(t+1)']\n",
    "df_predict['TARGET_HIGH_PRICE'] = df_predict['CLOSE(t)'] + df_predict['TARGET_HIGH']\n",
    "df_predict['TARGET_LOW_PRICE'] = df_predict['CLOSE(t)'] + df_predict['TARGET_LOW']\n",
    "\n",
    "#... and calculate RMSE error using absolute price values\n",
    "df_predict['RMSE_PRICE'] = df_predict.apply(lambda row: math.sqrt(sk.mean_squared_error(np.asarray([row['TARGET_HIGH_PRICE'], row['TARGET_LOW_PRICE']]), np.asarray([row['PREDICT_HIGH_PRICE'], row['PREDICT_LOW_PRICE']]), multioutput = 'uniform_average')), axis=1)\n",
    "\n",
    "df_predict.head()"
   ]
  },
  {
   "cell_type": "code",
   "execution_count": null,
   "metadata": {},
   "outputs": [],
   "source": [
    "# Select only required columns for next stage\n",
    "df_predict = df_predict[['OPEN(t)','HIGH(t)','LOW(t)','CLOSE(t)','OUT_HIGH(t+1)','OUT_LOW(t+1)','TARGET_HIGH','TARGET_LOW','RMSE','PREDICT_HIGH_PRICE','PREDICT_LOW_PRICE','TARGET_HIGH_PRICE','TARGET_LOW_PRICE', 'RMSE_PRICE']]\n",
    "df_predict.tail()                      "
   ]
  },
  {
   "cell_type": "code",
   "execution_count": null,
   "metadata": {},
   "outputs": [],
   "source": [
    "# Show targets (grey area) vs predictions (yellow area)\n",
    "plt.figure(figsize=(16,16))\n",
    "# Zoom in range to plot (can be changed)\n",
    "i=-20\n",
    "x = np.arange(-i)\n",
    "y1 = df_predict['TARGET_HIGH_PRICE'].values[i:]\n",
    "y2 = df_predict['TARGET_LOW_PRICE'].values[i:]\n",
    "y3 = df_predict['PREDICT_HIGH_PRICE'].values[i:]\n",
    "y4 = df_predict['PREDICT_LOW_PRICE'].values[i:]\n",
    "plt.plot(x,y1, color='black')\n",
    "plt.plot(x,y2, color = 'brown')\n",
    "plt.plot(x,y3, color = 'red')\n",
    "plt.plot(x,y4, color = 'green')\n",
    "plt.legend(['target_hi','target_lo', 'predict_hi', 'predict_lo'])\n",
    "plt.fill_between(x,y1,y2, color='grey', alpha='0.5')\n",
    "plt.fill_between(x,y3,y4, color='yellow', alpha='0.5')\n",
    "#plt.plot(df_predict['TARGET_HIGH_CHECK'].values[i:j])\n",
    "#plt.plot(df_predict['TARGET_LOW_CHECK'].values[i:j])"
   ]
  },
  {
   "cell_type": "code",
   "execution_count": null,
   "metadata": {},
   "outputs": [],
   "source": [
    "# Show RMSE errors\n",
    "plt.subplot(1,2,1)\n",
    "plt.plot(df_predict['RMSE'], color='b')\n",
    "plt.legend(['RMSE_prediction'])\n",
    "plt.subplot(1,2,2)\n",
    "plt.plot(df_predict['RMSE_PRICE'], color = 'r')\n",
    "plt.legend(['RMSE_price'])"
   ]
  },
  {
   "cell_type": "code",
   "execution_count": null,
   "metadata": {},
   "outputs": [],
   "source": [
    "# Save file on disk\n",
    "df_predict.to_csv('../csv_data/EURUSD_H4_predictions.csv', sep=';')\n",
    "print('File saved!')"
   ]
  },
  {
   "cell_type": "code",
   "execution_count": null,
   "metadata": {},
   "outputs": [],
   "source": []
  }
 ],
 "metadata": {
  "accelerator": "TPU",
  "colab": {
   "collapsed_sections": [],
   "name": "FinTech_LSTM.ipynb",
   "provenance": [],
   "version": "0.3.2"
  },
  "kernelspec": {
   "display_name": "Python [conda env:keras]",
   "language": "python",
   "name": "conda-env-keras-py"
  },
  "language_info": {
   "codemirror_mode": {
    "name": "ipython",
    "version": 3
   },
   "file_extension": ".py",
   "mimetype": "text/x-python",
   "name": "python",
   "nbconvert_exporter": "python",
   "pygments_lexer": "ipython3",
   "version": "3.6.6"
  }
 },
 "nbformat": 4,
 "nbformat_minor": 1
}

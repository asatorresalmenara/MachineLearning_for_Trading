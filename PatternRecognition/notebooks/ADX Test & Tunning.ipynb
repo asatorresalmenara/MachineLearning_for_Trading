{
 "cells": [
  {
   "cell_type": "markdown",
   "metadata": {
    "colab_type": "text",
    "id": "pQWfP-VMvX7c"
   },
   "source": [
    "# Introduction\n"
   ]
  },
  {
   "cell_type": "code",
   "execution_count": 2,
   "metadata": {},
   "outputs": [
    {
     "name": "stderr",
     "output_type": "stream",
     "text": [
      "Using TensorFlow backend.\n"
     ]
    }
   ],
   "source": [
    "# Append path for MyUtils libraries\n",
    "import sys\n",
    "sys.path.append('../..')\n",
    "\n",
    "####################################################################################\n",
    "# Data handling \n",
    "import pandas as pd\n",
    "from pandas import concat\n",
    "from pandas.plotting import scatter_matrix\n",
    "import numpy as np\n",
    "\n",
    "####################################################################################\n",
    "# Machine learning\n",
    "import sklearn\n",
    "from sklearn import preprocessing\n",
    "from sklearn import metrics as sk\n",
    "from sklearn.externals import joblib\n",
    "from sklearn.model_selection import StratifiedKFold, KFold\n",
    "import keras\n",
    "from keras.models import Model, Sequential\n",
    "from keras.layers import Input, LSTM, Dense, Dropout, BatchNormalization\n",
    "from keras.optimizers import Adam\n",
    "from keras.callbacks import TensorBoard, ModelCheckpoint\n",
    "from keras.optimizers import Adam\n",
    "from keras.constraints import max_norm\n",
    "\n",
    "####################################################################################\n",
    "# Visualization\n",
    "import seaborn as sns\n",
    "import matplotlib.pyplot as plt\n",
    "from matplotlib import dates, ticker\n",
    "from matplotlib.dates import (MONDAY, DateFormatter, MonthLocator, WeekdayLocator, date2num)\n",
    "import matplotlib as mpl\n",
    "import plotly\n",
    "import plotly.plotly as py\n",
    "import plotly.graph_objs as go\n",
    "from plotly.graph_objs import *\n",
    "from plotly.tools import FigureFactory as FF\n",
    "import plotly.tools as tls\n",
    "\n",
    "####################################################################################\n",
    "# TA-Lib: \n",
    "import talib\n",
    "\n",
    "####################################################################################\n",
    "# Other utilities\n",
    "import datetime\n",
    "import time\n",
    "import os\n",
    "import sys\n",
    "import math\n",
    "from enum import Enum"
   ]
  },
  {
   "cell_type": "code",
   "execution_count": 3,
   "metadata": {},
   "outputs": [
    {
     "name": "stdout",
     "output_type": "stream",
     "text": [
      "Ready!\n"
     ]
    }
   ],
   "source": [
    "# imports library with own utilities for data handling and machine learning models\n",
    "import common.MyUtils as utils\n",
    "print('Ready!')"
   ]
  },
  {
   "cell_type": "code",
   "execution_count": 4,
   "metadata": {},
   "outputs": [
    {
     "name": "stdout",
     "output_type": "stream",
     "text": [
      "Deleting weekends...\n"
     ]
    },
    {
     "data": {
      "text/html": [
       "<div>\n",
       "<style scoped>\n",
       "    .dataframe tbody tr th:only-of-type {\n",
       "        vertical-align: middle;\n",
       "    }\n",
       "\n",
       "    .dataframe tbody tr th {\n",
       "        vertical-align: top;\n",
       "    }\n",
       "\n",
       "    .dataframe thead th {\n",
       "        text-align: right;\n",
       "    }\n",
       "</style>\n",
       "<table border=\"1\" class=\"dataframe\">\n",
       "  <thead>\n",
       "    <tr style=\"text-align: right;\">\n",
       "      <th></th>\n",
       "      <th>OPEN</th>\n",
       "      <th>HIGH</th>\n",
       "      <th>LOW</th>\n",
       "      <th>CLOSE</th>\n",
       "      <th>OC2</th>\n",
       "      <th>HLC3</th>\n",
       "      <th>OHLC4</th>\n",
       "      <th>CLOSE_DIFF</th>\n",
       "      <th>HHMM</th>\n",
       "      <th>WEEKDAY</th>\n",
       "      <th>TICKVOL</th>\n",
       "      <th>VOL</th>\n",
       "      <th>SPREAD</th>\n",
       "    </tr>\n",
       "  </thead>\n",
       "  <tbody>\n",
       "    <tr>\n",
       "      <th>2001-04-02 00:15:00</th>\n",
       "      <td>0.8744</td>\n",
       "      <td>0.8753</td>\n",
       "      <td>0.8732</td>\n",
       "      <td>0.8751</td>\n",
       "      <td>0.87475</td>\n",
       "      <td>0.874533</td>\n",
       "      <td>0.874500</td>\n",
       "      <td>0.0007</td>\n",
       "      <td>15</td>\n",
       "      <td>0</td>\n",
       "      <td>65.0</td>\n",
       "      <td>0.0</td>\n",
       "      <td>50.0</td>\n",
       "    </tr>\n",
       "    <tr>\n",
       "      <th>2001-04-02 00:30:00</th>\n",
       "      <td>0.8752</td>\n",
       "      <td>0.8757</td>\n",
       "      <td>0.8751</td>\n",
       "      <td>0.8753</td>\n",
       "      <td>0.87525</td>\n",
       "      <td>0.875367</td>\n",
       "      <td>0.875325</td>\n",
       "      <td>0.0002</td>\n",
       "      <td>30</td>\n",
       "      <td>0</td>\n",
       "      <td>44.0</td>\n",
       "      <td>0.0</td>\n",
       "      <td>50.0</td>\n",
       "    </tr>\n",
       "    <tr>\n",
       "      <th>2001-04-02 00:45:00</th>\n",
       "      <td>0.8753</td>\n",
       "      <td>0.8755</td>\n",
       "      <td>0.8742</td>\n",
       "      <td>0.8749</td>\n",
       "      <td>0.87510</td>\n",
       "      <td>0.874867</td>\n",
       "      <td>0.874975</td>\n",
       "      <td>-0.0004</td>\n",
       "      <td>45</td>\n",
       "      <td>0</td>\n",
       "      <td>67.0</td>\n",
       "      <td>0.0</td>\n",
       "      <td>50.0</td>\n",
       "    </tr>\n",
       "    <tr>\n",
       "      <th>2001-04-02 01:00:00</th>\n",
       "      <td>0.8749</td>\n",
       "      <td>0.8760</td>\n",
       "      <td>0.8748</td>\n",
       "      <td>0.8757</td>\n",
       "      <td>0.87530</td>\n",
       "      <td>0.875500</td>\n",
       "      <td>0.875350</td>\n",
       "      <td>0.0008</td>\n",
       "      <td>60</td>\n",
       "      <td>0</td>\n",
       "      <td>76.0</td>\n",
       "      <td>0.0</td>\n",
       "      <td>50.0</td>\n",
       "    </tr>\n",
       "    <tr>\n",
       "      <th>2001-04-02 01:15:00</th>\n",
       "      <td>0.8756</td>\n",
       "      <td>0.8760</td>\n",
       "      <td>0.8754</td>\n",
       "      <td>0.8756</td>\n",
       "      <td>0.87560</td>\n",
       "      <td>0.875667</td>\n",
       "      <td>0.875650</td>\n",
       "      <td>-0.0001</td>\n",
       "      <td>75</td>\n",
       "      <td>0</td>\n",
       "      <td>67.0</td>\n",
       "      <td>0.0</td>\n",
       "      <td>50.0</td>\n",
       "    </tr>\n",
       "  </tbody>\n",
       "</table>\n",
       "</div>"
      ],
      "text/plain": [
       "                       OPEN    HIGH     LOW   CLOSE      OC2      HLC3  \\\n",
       "2001-04-02 00:15:00  0.8744  0.8753  0.8732  0.8751  0.87475  0.874533   \n",
       "2001-04-02 00:30:00  0.8752  0.8757  0.8751  0.8753  0.87525  0.875367   \n",
       "2001-04-02 00:45:00  0.8753  0.8755  0.8742  0.8749  0.87510  0.874867   \n",
       "2001-04-02 01:00:00  0.8749  0.8760  0.8748  0.8757  0.87530  0.875500   \n",
       "2001-04-02 01:15:00  0.8756  0.8760  0.8754  0.8756  0.87560  0.875667   \n",
       "\n",
       "                        OHLC4  CLOSE_DIFF  HHMM  WEEKDAY  TICKVOL  VOL  SPREAD  \n",
       "2001-04-02 00:15:00  0.874500      0.0007    15        0     65.0  0.0    50.0  \n",
       "2001-04-02 00:30:00  0.875325      0.0002    30        0     44.0  0.0    50.0  \n",
       "2001-04-02 00:45:00  0.874975     -0.0004    45        0     67.0  0.0    50.0  \n",
       "2001-04-02 01:00:00  0.875350      0.0008    60        0     76.0  0.0    50.0  \n",
       "2001-04-02 01:15:00  0.875650     -0.0001    75        0     67.0  0.0    50.0  "
      ]
     },
     "execution_count": 4,
     "metadata": {},
     "output_type": "execute_result"
    }
   ],
   "source": [
    "# Load instrument's data feed and visualize first rows\n",
    "df = utils.load_hist('../csv_data/EURUSD_M15.csv', freq='15min', sep=';', remove_weekends=True)\n",
    "df.head()\n"
   ]
  },
  {
   "cell_type": "code",
   "execution_count": 8,
   "metadata": {},
   "outputs": [
    {
     "data": {
      "text/plain": [
       "[<matplotlib.lines.Line2D at 0x1ff779e8>]"
      ]
     },
     "execution_count": 8,
     "metadata": {},
     "output_type": "execute_result"
    },
    {
     "data": {
      "image/png": "[encoded data removed]",
      "text/plain": [
       "<Figure size 432x288 with 1 Axes>"
      ]
     },
     "metadata": {
      "needs_background": "light"
     },
     "output_type": "display_data"
    }
   ],
   "source": [
    "# Let's apply trend indentification on last 1000 samples\n",
    "_df = df[-1000:].copy()\n",
    "plt.subplot(1,1,1)\n",
    "plt.plot(_df.CLOSE.values)\n"
   ]
  },
  {
   "cell_type": "code",
   "execution_count": 27,
   "metadata": {},
   "outputs": [],
   "source": [
    "# ADX\n",
    "_df['ADX'] = talib.ADX(_df.HIGH, _df.LOW, _df.CLOSE, timeperiod=14)\n",
    "\n",
    "# ADX_SMA\n",
    "sma_period = 20\n",
    "_df['ADX_SMA_{}'.format(sma_period)] = talib.SMA(adx, timeperiod=sma_period)\n",
    "\n",
    "ema_period = 20\n",
    "_df['ADX_EMA_{}'.format(ema_period)] = talib.EMA(adx, timeperiod=ema_period)\n",
    "\n"
   ]
  },
  {
   "cell_type": "code",
   "execution_count": 28,
   "metadata": {},
   "outputs": [
    {
     "data": {
      "text/html": [
       "<iframe id=\"igraph\" scrolling=\"no\" style=\"border:none;\" seamless=\"seamless\" src=\"https://plot.ly/~raulMrello/130.embed\" height=\"525px\" width=\"100%\"></iframe>"
      ],
      "text/plain": [
       "<plotly.tools.PlotlyDisplay object>"
      ]
     },
     "execution_count": 28,
     "metadata": {},
     "output_type": "execute_result"
    }
   ],
   "source": [
    "# ADX \n",
    "_df0 = _df.reset_index(drop=True)\n",
    "line_adx = go.Scatter(\n",
    "    x=_df0.reset_index()['index'], \n",
    "    y=_df0.ADX,     \n",
    "    name='ADX', \n",
    "    line=scatter.Line(color='blue', width=1))\n",
    "line_adx_sma = go.Scatter(\n",
    "    x=_df0.reset_index()['index'], \n",
    "    y=_df0['ADX_SMA_{}'.format(sma_period)],     \n",
    "    name='ADX_SMA_{}'.format(sma_period), \n",
    "    line=scatter.Line(color='red', width=1))\n",
    "line_adx_ema = go.Scatter(\n",
    "    x=_df0.reset_index()['index'], \n",
    "    y=_df0['ADX_EMA_{}'.format(ema_period)],     \n",
    "    name='ADX_EMA_{}'.format(ema_period), \n",
    "    line=scatter.Line(color='green', width=1))\n",
    "\n",
    "py.iplot([line_adx, line_adx_sma, line_adx_ema], filename='simple_ohlc')\n"
   ]
  },
  {
   "cell_type": "code",
   "execution_count": 7,
   "metadata": {
    "scrolled": true
   },
   "outputs": [
    {
     "name": "stdout",
     "output_type": "stream",
     "text": [
      "This is the format of your plot grid:\n",
      "[ (1,1) x1,y1 ]\n",
      "[ (2,1) x1,y2 ]\n",
      "[ (3,1) x1,y3 ]\n",
      "[ (4,1) x1,y4 ]\n",
      "[ (5,1) x1,y5 ]\n",
      "\n"
     ]
    },
    {
     "data": {
      "text/html": [
       "<iframe id=\"igraph\" scrolling=\"no\" style=\"border:none;\" seamless=\"seamless\" src=\"https://plot.ly/~raulMrello/130.embed\" height=\"800px\" width=\"100%\"></iframe>"
      ],
      "text/plain": [
       "<plotly.tools.PlotlyDisplay object>"
      ]
     },
     "execution_count": 7,
     "metadata": {},
     "output_type": "execute_result"
    }
   ],
   "source": [
    "# let's plot price and indicators\n",
    "\n",
    "_df0 = _df.reset_index(drop=True)\n",
    "\n",
    "# selects zigzag points\n",
    "_dfz = _df0[_df0.ZIGZAG > 0]\n",
    "\n",
    "#--------------- FIRST CHART ---------------\n",
    "\n",
    "# Create Candlestick\n",
    "trace = go.Ohlc(x=_df0.reset_index()['index'],\n",
    "                open=_df0.OPEN,\n",
    "                high=_df0.HIGH,\n",
    "                low=_df0.LOW,\n",
    "                close=_df0.CLOSE,\n",
    "                name='eurusd_M15')\n",
    "\n",
    "\n",
    "# Creates 3 lines for the BollingerBands indicator\n",
    "line_bbup = Scatter(\n",
    "    x=_df0.reset_index()['index'],\n",
    "    y=_df0.BOLLINGER_HI,\n",
    "    name= 'UpperBand',\n",
    "    line=scatter.Line(color='brown', dash='dash')\n",
    "    )\n",
    "line_bbmid = Scatter(\n",
    "    x=_df0.reset_index()['index'],\n",
    "    y=_df0.BOLLINGER_MA,\n",
    "    name= 'MiddleBand',\n",
    "    line=scatter.Line(color='brown', dash='dash')\n",
    "    )\n",
    "line_bbdn = Scatter(\n",
    "    x=_df0.reset_index()['index'],\n",
    "    y=_df0.BOLLINGER_LO,\n",
    "    name= 'LowerBand',\n",
    "    line=scatter.Line(color='brown', dash='dash')\n",
    "    )\n",
    "# Creates zigzag lines \n",
    "line_zigzag = go.Scatter(\n",
    "    x=_dfz.reset_index()['index'], \n",
    "    y=_dfz.ZIGZAG,     \n",
    "    name='zigzag', \n",
    "    line=scatter.Line(color='black', width=1))\n",
    "\n",
    "\n",
    "#--------------- SECOND CHART ---------------\n",
    "# Bollinger Bands width \n",
    "line_bbwidth = go.Scatter(\n",
    "    x=_df0.reset_index()['index'], \n",
    "    y=_df0.BOLLINGER_WIDTH,     \n",
    "    name='BB_WIDTH', \n",
    "    line=scatter.Line(color='blue', width=2))\n",
    "\n",
    "\n",
    "#--------------- THIRD CHART ---------------\n",
    "# Bollinger Bands %b \n",
    "line_bb_b = go.Scatter(\n",
    "    x=_df0.reset_index()['index'], \n",
    "    y=_df0.BOLLINGER_b,     \n",
    "    name='BB_%b', \n",
    "    line=scatter.Line(color='red', width=2))\n",
    "\n",
    "\n",
    "#--------------- FOURTH CHART ---------------\n",
    "# MACD \n",
    "line_macd = go.Scatter(\n",
    "    x=_df0.reset_index()['index'], \n",
    "    y=_df0.MACD,     \n",
    "    name='MACD', \n",
    "    line=scatter.Line(color='blue', width=2))\n",
    "line_macdsig = go.Scatter(\n",
    "    x=_df0.reset_index()['index'], \n",
    "    y=_df0.MACD_SIG,     \n",
    "    name='MACD_sig', \n",
    "    line=scatter.Line(color='red', width=2))\n",
    "\n",
    "\n",
    "#--------------- FIRTH CHART ---------------\n",
    "# ADX \n",
    "line_adx = go.Scatter(\n",
    "    x=_df0.reset_index()['index'], \n",
    "    y=_df0.ADX,     \n",
    "    name='ADX', \n",
    "    line=scatter.Line(color='blue', width=2))\n",
    "\n",
    "\n",
    "\n",
    "#--------------- BUILDER ---------------\n",
    "fig = plotly.tools.make_subplots(rows=5, \n",
    "                                 cols=1, \n",
    "                                 subplot_titles=('Price&Zigzag', 'Bollinger Width', 'Bollinger %b', 'MACD', 'ADX'),\n",
    "                                 shared_xaxes=True, \n",
    "                                 vertical_spacing=0.1)\n",
    "fig.append_trace(trace, 1, 1)\n",
    "fig.append_trace(line_zigzag, 1, 1)\n",
    "fig.append_trace(line_bbwidth, 2, 1)\n",
    "fig.append_trace(line_bb_b, 3, 1)\n",
    "fig.append_trace(line_macd, 4, 1)\n",
    "fig.append_trace(line_macdsig, 4, 1)\n",
    "fig.append_trace(line_adx, 5, 1)\n",
    "fig['layout'].update(height=800, title='Price & Indicators')\n",
    "py.iplot(fig, filename='simple_ohlc')\n",
    "\n"
   ]
  },
  {
   "cell_type": "code",
   "execution_count": 18,
   "metadata": {},
   "outputs": [
    {
     "data": {
      "text/plain": [
       "<matplotlib.axes._subplots.AxesSubplot at 0x1fb91eb8>"
      ]
     },
     "execution_count": 18,
     "metadata": {},
     "output_type": "execute_result"
    },
    {
     "data": {
      "image/png": "[encoded data removed]",
      "text/plain": [
       "<Figure size 432x288 with 1 Axes>"
      ]
     },
     "metadata": {
      "needs_background": "light"
     },
     "output_type": "display_data"
    }
   ],
   "source": [
    "# let's analyze zigzags\n",
    "zz_max = _df[(_df.ZIGZAG > 0) & (_df.ZIGZAG_ACTION=='high')]\n",
    "zz_max.ZIGZAG.plot()\n",
    "\n",
    "zz_min = _df[(_df.ZIGZAG > 0) & (_df.ZIGZAG_ACTION=='low')]\n",
    "zz_min.ZIGZAG.plot()"
   ]
  },
  {
   "cell_type": "code",
   "execution_count": 72,
   "metadata": {},
   "outputs": [
    {
     "name": "stdout",
     "output_type": "stream",
     "text": [
      "decp1=0, decp2=1\n"
     ]
    }
   ],
   "source": [
    "# Let's extract some information\n",
    "\n",
    "# count of continuous decreasing pairs\n",
    "dec_p1 = dec_p2 = 0\n",
    "for x in np.arange(3, len(zigzag_y))[::-1]:\n",
    "  if zigzag_y[x] <= zigzag_y[x-2]:\n",
    "    dec_p1 +=1\n",
    "  else:\n",
    "    break\n",
    "for x in np.arange(3, len(zigzag_y))[::-1]:\n",
    "  if zigzag_y[x-1] <= zigzag_y[x-3]:\n",
    "    dec_p2 +=1\n",
    "  else: \n",
    "    break\n",
    "print('decp1={}, decp2={}'.format(dec_p1, dec_p2))\n"
   ]
  },
  {
   "cell_type": "code",
   "execution_count": 73,
   "metadata": {},
   "outputs": [
    {
     "name": "stdout",
     "output_type": "stream",
     "text": [
      "incp1=1, incp2=0\n"
     ]
    }
   ],
   "source": [
    "# count of continuous increasing pairs\n",
    "inc_p1 = inc_p2 = 0\n",
    "for x in np.arange(3, len(zigzag_y))[::-1]:\n",
    "  if zigzag_y[x] >= zigzag_y[x-2]:\n",
    "    inc_p1 +=1\n",
    "  else:\n",
    "    break\n",
    "for x in np.arange(3, len(zigzag_y))[::-1]:\n",
    "  if zigzag_y[x-1] >= zigzag_y[x-3]:\n",
    "    inc_p2 +=1\n",
    "  else: \n",
    "    break\n",
    "print('incp1={}, incp2={}'.format(inc_p1, inc_p2))\n"
   ]
  },
  {
   "cell_type": "code",
   "execution_count": 68,
   "metadata": {},
   "outputs": [
    {
     "data": {
      "text/plain": [
       "[0.8991, 0.8977, 0.9052, 0.9079, 0.9093, 0.8987, 0.9021, 0.9051]"
      ]
     },
     "execution_count": 68,
     "metadata": {},
     "output_type": "execute_result"
    }
   ],
   "source": [
    "maxs      "
   ]
  },
  {
   "cell_type": "code",
   "execution_count": 67,
   "metadata": {},
   "outputs": [
    {
     "data": {
      "text/plain": [
       "[]"
      ]
     },
     "execution_count": 67,
     "metadata": {},
     "output_type": "execute_result"
    }
   ],
   "source": [
    "# builds decreasing max\n",
    "dec_max = []\n",
    "for x in range(len(maxs)-1):  \n",
    "  if x==0 and x >= max(maxs[x:]):\n",
    "    dec_max.append(mins[x])\n",
    "  elif x>0 and x >= max(maxs[x:]) and x <= min(maxs[:x]):\n",
    "    dec_max.append(maxs[x])\n",
    "      \n",
    "dec_max                   "
   ]
  },
  {
   "cell_type": "markdown",
   "metadata": {},
   "source": [
    "\n",
    "\n",
    "As said, this model will predict an estimation of High and Low prices for next session. To achieve it, it will predict the price movement from the current close price. So, knowing the current close time and the prediction movement, it will extract the real High,Low prices.\n",
    "\n",
    "So, both outputs could be expressed with these equations:\n",
    "\n",
    "PREDICTION_HIGH(t+1) = PRICE_HIGH(t+1) - CLOSE(t)\n",
    "\n",
    "PREDICTION_LOW(t+1) = PRICE_LOW(t+1) - CLOSE(t)\n"
   ]
  },
  {
   "cell_type": "code",
   "execution_count": null,
   "metadata": {},
   "outputs": [],
   "source": [
    "# function to generate predictions as explained above\n",
    "def define_outputs(df):  \n",
    "  df['OUT_HIGH'] = df.HIGH - df.CLOSE.shift(1)\n",
    "  df['OUT_LOW'] = df.LOW - df.CLOSE.shift(1)\n",
    "  return df\n",
    "\n",
    "# Add both outputs to df dataframe and check first rows (also remove NaNs)\n",
    "df = define_outputs(df)\n",
    "df.dropna(inplace=True)\n",
    "df.head()"
   ]
  },
  {
   "cell_type": "code",
   "execution_count": null,
   "metadata": {},
   "outputs": [],
   "source": [
    "# Visualization of all columns: input features and target predictions\n",
    "rows = (df.shape[1] / 4) + 1\n",
    "plt.figure(figsize = (12,50))\n",
    "for c in df.columns:\n",
    "  i = df.columns.get_loc(c)+1\n",
    "  plt.subplot(rows, 4, i)\n",
    "  plt.plot(df[c])\n",
    "  plt.legend([c])\n",
    "  "
   ]
  },
  {
   "cell_type": "markdown",
   "metadata": {},
   "source": [
    "### Data preprocessing\n",
    "\n",
    "This model will predict price movement one timestep ahead, from a loopback window of the last 4 timesteps: \n",
    "\n",
    "(t-3), (t-2), (t-1), (t) ==> (t+1)\n",
    "\n",
    "LSTM cells require input features and target outputs to be in a proper format:\n",
    "\n",
    "- Input features shape: (num_samples, num_loopback_timesteps, num_input_features)\n",
    "- Output target shape: (num_outputs * num_prediction_timesteps)\n",
    "\n",
    "To adapt data contained in df dataframe into these sets, I use function 'series_to_supervised' contained in python file 'MyUtils.py'. You can check how it works there.\n"
   ]
  },
  {
   "cell_type": "code",
   "execution_count": null,
   "metadata": {},
   "outputs": [],
   "source": [
    "# Setup:\n",
    "\n",
    "# Num outputs to predict\n",
    "num_outputs = 2\n",
    "\n",
    "# Num input features\n",
    "num_inputs = len(df.columns) - num_outputs\n",
    "\n",
    "# Num loopback timesteps\n",
    "n_in = 4\n",
    "\n",
    "# Num timesteps to predict\n",
    "n_out = 1\n",
    "\n",
    "# Flag to remove NaN values from  df dataframe\n",
    "dropnan = True\n",
    "\n",
    "# Run the preprocessor and get a new dataframe 'df_nn'\n",
    "df_nn = utils.series_to_supervised(df, num_inputs, num_outputs, n_in, n_out, dropnan)\n",
    "\n",
    "# Check the result\n",
    "print(df_nn.shape)\n",
    "df_nn.head()"
   ]
  },
  {
   "cell_type": "code",
   "execution_count": null,
   "metadata": {
    "scrolled": true
   },
   "outputs": [],
   "source": [
    "# DATA DEBUGGING:\n",
    "# Now I use an auxiliar temporal dataframe '_df' to check if target outputs are calculated correctly. I check if 'next_high' \n",
    "# column has the same content as 'HIGH(t)' shifted 1 timestemp in the future.\n",
    "_df = df_nn[['HIGH(t-1)','HIGH(t)','LOW(t-1)','LOW(t)','CLOSE(t-1)', 'CLOSE(t)','OUT_HIGH(t+1)']].head(10).copy()\n",
    "_df['next_high'] = _df['CLOSE(t)']+ _df['OUT_HIGH(t+1)']\n",
    "_df"
   ]
  },
  {
   "cell_type": "markdown",
   "metadata": {},
   "source": [
    "### Data normalization\n",
    "\n",
    "A general preprocessing operation in Neural Networks is data normalization, in this case, as LSTM cells contains a 'tanh' cell, I will normalize all features in range [-1,+1].\n",
    "\n",
    "I will save the scaler for further use when de-normalization process is required later on model validation. I use 'MinMaxScaler' from Scikit-learn library. For this purpose I use 'normalize_data' function from MyUtils.py file:"
   ]
  },
  {
   "cell_type": "code",
   "execution_count": null,
   "metadata": {},
   "outputs": [],
   "source": [
    "#### Data normalization. Get the scaler (save a copy on disk for later use) and a new normalized dataframe: dfnorm\n",
    "dfnorm, scaler = utils.normalize_data(df_nn, feat_range = (-1,1), csv_to_save=None, scaler_to_save='../scaler_data/scaler.data')\n",
    "# check result\n",
    "dfnorm.describe()"
   ]
  },
  {
   "cell_type": "markdown",
   "metadata": {},
   "source": [
    "## 3 RNN model construction\n",
    "\n",
    "First of all, I like to say that I will use Keras as fronted over Tensorflow, to build a stacked LSTM network.\n",
    "\n",
    "I use function 'build_lstm_net' in MyUtils.py file (check it there if curious). It requires different arguments: num_inputs, num_outputs, loopback and predicted timestemps, number of LSTM layers, ...\n",
    "\n",
    "In first place  I will execute a cross validation phase, using 'Kfolds' from Scikit-learn to get a first impression about the model. I'll generate 5 different models.\n"
   ]
  },
  {
   "cell_type": "markdown",
   "metadata": {},
   "source": [
    "### Cross validation\n",
    "\n",
    "dfnorm dataframe is used to get train-test in-out pairs. LSTM model is:\n",
    "\n",
    "- 3 stacked LSTM layers with 64 neurons each.\n",
    "- 1 Dense hidden layer with 128 neurons.\n",
    "- 1 Dense output layer with 2 neurons (one per output)\n",
    "- Dropout after each layer to improve generalization and avoid overfitting\n"
   ]
  },
  {
   "cell_type": "code",
   "execution_count": null,
   "metadata": {},
   "outputs": [],
   "source": [
    "# split into input (X) and output (Y) variables\n",
    "X = dfnorm.values[:,:(num_inputs*n_in)]\n",
    "Y = dfnorm.values[:,(num_inputs*n_in):]\n",
    "# define 5-fold cross validation test harness\n",
    "# fix random seed for reproducibility\n",
    "seed = 7\n",
    "np.random.seed(seed)\n",
    "kfold = KFold(n_splits=5, shuffle=True, random_state=seed)\n",
    "cvscores = []\n",
    "i=0\n",
    "for train, test in kfold.split(X, Y):\n",
    "  # create model\n",
    "  model,callbacks = utils.build_lstm_net(num_inputs, n_in, num_outputs, n_out, 3,2,64,128,'weights_0412_m'+str(i)+'.hd5')\n",
    "  i += 1\n",
    "  # Fit the model\n",
    "  x = X[train]\n",
    "  x = x.reshape(x.shape[0], n_in, num_inputs)\n",
    "  utils.fit(model, x, Y[train], num_inputs, n_in, num_epochs=5, callbacks=callbacks, batchsize=32)  \n",
    "  # evaluate the model\n",
    "  x = X[test]\n",
    "  scores = utils.test_evaluation(model, x, Y[test], num_inputs, n_in)\n",
    "  x = x.reshape(x.shape[0], n_in, num_inputs)\n",
    "  scores = model.evaluate(x, Y[test], verbose=0)\n",
    "  print(\"%s: %.2f%%\" % (model.metrics_names[0], scores[0]*100))\n",
    "  print(\"%s: %.2f%%\" % (model.metrics_names[1], scores[1]*100))\n",
    "  cvscores.append(scores[1] * 100)\n",
    "print(\"%.2f%% (+/- %.2f%%)\" % (np.mean(cvscores), np.std(cvscores)))"
   ]
  },
  {
   "cell_type": "markdown",
   "metadata": {},
   "source": [
    "As this model seems to be raise good results, I will train with a whole train-test dataset.\n",
    "\n",
    "### Model training\n",
    "\n",
    "In this case, I will use 'dfnorm' dataframe and get 80% (around 88000 samples) for training and 20% (around 22000 samples) for validation. I'll use 'prepare_training_data' and 'fit' functions from MyUtils.py file:"
   ]
  },
  {
   "cell_type": "code",
   "execution_count": null,
   "metadata": {},
   "outputs": [],
   "source": [
    "# Prepare data for train-test\n",
    "x_train,y_train,x_test,y_test = utils.prepare_training_data(dfnorm, num_inputs * n_in, 0.8)\n",
    "print('x_train:', x_train.shape, 'y_train', y_train.shape)\n",
    "print('x_test:', x_test.shape, 'y_test', y_test.shape)\n"
   ]
  },
  {
   "cell_type": "code",
   "execution_count": null,
   "metadata": {},
   "outputs": [],
   "source": [
    "# Build the RNN model with same configuration\n",
    "model,callbacks = utils.build_lstm_net(num_inputs, n_in, num_outputs, n_out, 3,2,64,128,'../hd5_data/weightsH4_3.2.64.128.hd5')"
   ]
  },
  {
   "cell_type": "code",
   "execution_count": null,
   "metadata": {
    "scrolled": true
   },
   "outputs": [],
   "source": [
    "# Setup:\n",
    "\n",
    "# Training epochs\n",
    "num_epochs = 30\n",
    "# Batch size\n",
    "batchsize = 32\n",
    "# Ratio validation-training (20%)\n",
    "val_ratio = 0.2\n",
    "# Enable data shuffling\n",
    "shuffle = True\n",
    "# Enable result plotting\n",
    "plot_results = True\n",
    "# Start training\n",
    "result = utils.fit(model, x_train, y_train, num_inputs, n_in, num_epochs, callbacks, batchsize, val_ratio, shuffle, plot_results, verbose=2)"
   ]
  },
  {
   "cell_type": "code",
   "execution_count": null,
   "metadata": {},
   "outputs": [],
   "source": [
    "# Save model weights on disk, as HDF5 file\n",
    "model.save_weights('../hd5_data/weightsH4_3.2.64.128.hd5')"
   ]
  },
  {
   "cell_type": "markdown",
   "metadata": {},
   "source": [
    "### Model verification\n",
    "\n",
    "Once trained, let's check its behaviour with new data. Function 'test_rmse' in MyUtils.py executes the test and returns the RMSE result. A callback 'out_builder' is needed to de-normalize data to calculate RMSE."
   ]
  },
  {
   "cell_type": "code",
   "execution_count": null,
   "metadata": {
    "scrolled": true
   },
   "outputs": [],
   "source": [
    "# column selection for 'out_builder' callback\n",
    "ih = df_nn.columns.get_loc('OUT_HIGH(t+1)')  \n",
    "il = df_nn.columns.get_loc('OUT_LOW(t+1)')\n",
    "ic = df_nn.columns.get_loc('CLOSE(t)')\n",
    "  \n",
    "# Callback to build de-normalized output data from normalized predictions\n",
    "def out_builder(xy,xyhat):\n",
    "  return np.asarray([xy[ih]+xy[ic],xy[il]+xy[ic]]), np.asarray([xyhat[ih]+xyhat[ic],xyhat[il]+xyhat[ic]])\n",
    "  \n",
    "# Executes test process and visualizes RMSE result\n",
    "scores, targets, preds, rmse = utils.test_rmse(model, x_test, y_test, num_inputs, n_in, num_outputs, n_out, scaler, out_builder, True)"
   ]
  },
  {
   "cell_type": "code",
   "execution_count": null,
   "metadata": {
    "scrolled": true
   },
   "outputs": [],
   "source": [
    "# Dataframe update:\n",
    "\n",
    "# Reshape results into np.arrays\n",
    "atgt = np.asarray(targets)\n",
    "apreds = np.asarray(preds)\n",
    "armse = np.asarray(rmse)\n",
    "\n",
    "# Build a new dataframe named 'df_predict' with prediction results.\n",
    "df_predict = df_nn[x_train.shape[0]:].copy()\n",
    "#... add predictions...\n",
    "df_predict['PREDICT_HIGH'] = apreds[:,0]\n",
    "df_predict['PREDICT_LOW'] = apreds[:,1]\n",
    "\n",
    "#... add targets...\n",
    "df_predict['TARGET_HIGH'] = df_predict['CLOSE(t)'] + df_predict['OUT_HIGH(t+1)'] \n",
    "df_predict['TARGET_LOW'] = df_predict['CLOSE(t)'] + df_predict['OUT_LOW(t+1)'] \n",
    "\n",
    "#... add some data-debugging columns to validate results\n",
    "df_predict['TARGET_HIGH_CHECK'] = atgt[:,0]\n",
    "df_predict['TARGET_LOW_CHECK'] = atgt[:,1]\n",
    "\n",
    "#... add RMSE error\n",
    "df_predict['RMSE'] = armse[:]\n",
    "\n",
    "# Visualize first rows for visual debugging\n",
    "df_predict.head()"
   ]
  },
  {
   "cell_type": "markdown",
   "metadata": {},
   "source": [
    "Now I carry on a visual inspection of results obtained. I can range the visualization plot to zoom in or out.\n",
    "\n",
    "Target range (real range between high and low prices) is coloured in grey, while predicted range (area between predicted high and low) is coloured in yellow."
   ]
  },
  {
   "cell_type": "code",
   "execution_count": null,
   "metadata": {},
   "outputs": [],
   "source": [
    "plt.figure(figsize=(16,16))\n",
    "i=-10\n",
    "x = np.arange(10)\n",
    "y1 = df_predict['TARGET_HIGH'].values[i:]\n",
    "y2 = df_predict['TARGET_LOW'].values[i:]\n",
    "y3 = df_predict['PREDICT_HIGH'].values[i:]\n",
    "y4 = df_predict['PREDICT_LOW'].values[i:]\n",
    "plt.plot(x,y1, color='black')\n",
    "plt.plot(x,y2, color = 'brown')\n",
    "plt.plot(x,y3, color = 'red')\n",
    "plt.plot(x,y4, color = 'green')\n",
    "plt.legend(['target_hi','target_lo', 'predict_hi', 'predict_lo'])\n",
    "plt.fill_between(x,y1,y2, color='grey', alpha='0.5')\n",
    "plt.fill_between(x,y3,y4, color='yellow', alpha='0.5')\n",
    "#plt.plot(df_predict['TARGET_HIGH_CHECK'].values[i:j])\n",
    "#plt.plot(df_predict['TARGET_LOW_CHECK'].values[i:j])\n"
   ]
  },
  {
   "cell_type": "markdown",
   "metadata": {},
   "source": [
    "As can be seen, there exist a small prediction error. In general, predicted range between High and Low prices as greater than real High-Low range.\n"
   ]
  },
  {
   "cell_type": "markdown",
   "metadata": {},
   "source": [
    "### Next steps\n",
    "\n",
    "Once verified that prediction is valid for my purposes, it's time to build a dataframe for the next stage: A3C-LSTM agent.\n",
    "\n",
    "In this new stage, the agent will require real time market data (bars, quotes, account info and predictions) to start its training process as a RL problem.\n",
    "\n",
    "Now we are going to build a dataframe (only with bars, targets, predictions) for this next stage:"
   ]
  },
  {
   "cell_type": "code",
   "execution_count": null,
   "metadata": {},
   "outputs": [],
   "source": [
    "# split historic data into input (X) and output (Y) variables and executes predictions\n",
    "X = dfnorm.values[:,:(num_inputs*n_in)]\n",
    "Y = dfnorm.values[:,(num_inputs*n_in):]\n",
    "predictions = model.predict(X.reshape(X.shape[0], n_in, num_inputs), batch_size=1)"
   ]
  },
  {
   "cell_type": "code",
   "execution_count": null,
   "metadata": {},
   "outputs": [],
   "source": [
    "# let's copy dfnorm and add predictions as new columns\n",
    "df_predict = dfnorm.copy()\n",
    "df_predict['OUT_HIGH(t+1)'] = predictions[:,0]\n",
    "df_predict['OUT_LOW(t+1)']  = predictions[:,1]\n",
    "df_predict.tail()"
   ]
  },
  {
   "cell_type": "code",
   "execution_count": null,
   "metadata": {},
   "outputs": [],
   "source": [
    "# de-normalize data\n",
    "df_predict = utils.denormalize_data(df_predict, scaler)\n",
    "df_predict.tail()"
   ]
  },
  {
   "cell_type": "code",
   "execution_count": null,
   "metadata": {},
   "outputs": [],
   "source": [
    "# Add new columns for expected targets\n",
    "df_predict['TARGET_HIGH'] = df_nn['OUT_HIGH(t+1)'] \n",
    "df_predict['TARGET_LOW'] = df_nn['OUT_LOW(t+1)'] \n",
    "\n",
    "#... calculate RMSE error between targets and predictions\n",
    "df_predict['RMSE'] = df_predict.apply(lambda row: math.sqrt(sk.mean_squared_error(np.asarray([row['TARGET_HIGH'], row['TARGET_LOW']]), np.asarray([row['OUT_HIGH(t+1)'], row['OUT_LOW(t+1)']]), multioutput = 'uniform_average')), axis=1)\n",
    "\n",
    "# add new columns to get targets and predictions as absolute price values\n",
    "df_predict['PREDICT_HIGH_PRICE'] = df_predict['CLOSE(t)'] + df_predict['OUT_HIGH(t+1)']\n",
    "df_predict['PREDICT_LOW_PRICE'] = df_predict['CLOSE(t)'] + df_predict['OUT_LOW(t+1)']\n",
    "df_predict['TARGET_HIGH_PRICE'] = df_predict['CLOSE(t)'] + df_predict['TARGET_HIGH']\n",
    "df_predict['TARGET_LOW_PRICE'] = df_predict['CLOSE(t)'] + df_predict['TARGET_LOW']\n",
    "\n",
    "#... and calculate RMSE error using absolute price values\n",
    "df_predict['RMSE_PRICE'] = df_predict.apply(lambda row: math.sqrt(sk.mean_squared_error(np.asarray([row['TARGET_HIGH_PRICE'], row['TARGET_LOW_PRICE']]), np.asarray([row['PREDICT_HIGH_PRICE'], row['PREDICT_LOW_PRICE']]), multioutput = 'uniform_average')), axis=1)\n",
    "\n",
    "df_predict.head()"
   ]
  },
  {
   "cell_type": "code",
   "execution_count": null,
   "metadata": {},
   "outputs": [],
   "source": [
    "# Select only required columns for next stage\n",
    "df_predict = df_predict[['OPEN(t)','HIGH(t)','LOW(t)','CLOSE(t)','OUT_HIGH(t+1)','OUT_LOW(t+1)','TARGET_HIGH','TARGET_LOW','RMSE','PREDICT_HIGH_PRICE','PREDICT_LOW_PRICE','TARGET_HIGH_PRICE','TARGET_LOW_PRICE', 'RMSE_PRICE']]\n",
    "df_predict.tail()                      "
   ]
  },
  {
   "cell_type": "code",
   "execution_count": null,
   "metadata": {},
   "outputs": [],
   "source": [
    "# Show targets (grey area) vs predictions (yellow area)\n",
    "plt.figure(figsize=(16,16))\n",
    "# Zoom in range to plot (can be changed)\n",
    "i=-20\n",
    "x = np.arange(-i)\n",
    "y1 = df_predict['TARGET_HIGH_PRICE'].values[i:]\n",
    "y2 = df_predict['TARGET_LOW_PRICE'].values[i:]\n",
    "y3 = df_predict['PREDICT_HIGH_PRICE'].values[i:]\n",
    "y4 = df_predict['PREDICT_LOW_PRICE'].values[i:]\n",
    "plt.plot(x,y1, color='black')\n",
    "plt.plot(x,y2, color = 'brown')\n",
    "plt.plot(x,y3, color = 'red')\n",
    "plt.plot(x,y4, color = 'green')\n",
    "plt.legend(['target_hi','target_lo', 'predict_hi', 'predict_lo'])\n",
    "plt.fill_between(x,y1,y2, color='grey', alpha='0.5')\n",
    "plt.fill_between(x,y3,y4, color='yellow', alpha='0.5')\n",
    "#plt.plot(df_predict['TARGET_HIGH_CHECK'].values[i:j])\n",
    "#plt.plot(df_predict['TARGET_LOW_CHECK'].values[i:j])"
   ]
  },
  {
   "cell_type": "code",
   "execution_count": null,
   "metadata": {},
   "outputs": [],
   "source": [
    "# Show RMSE errors\n",
    "plt.subplot(1,2,1)\n",
    "plt.plot(df_predict['RMSE'], color='b')\n",
    "plt.legend(['RMSE_prediction'])\n",
    "plt.subplot(1,2,2)\n",
    "plt.plot(df_predict['RMSE_PRICE'], color = 'r')\n",
    "plt.legend(['RMSE_price'])"
   ]
  },
  {
   "cell_type": "code",
   "execution_count": null,
   "metadata": {},
   "outputs": [],
   "source": [
    "# Save file on disk\n",
    "df_predict.to_csv('../csv_data/EURUSD_H4_predictions.csv', sep=';')\n",
    "print('File saved!')"
   ]
  },
  {
   "cell_type": "code",
   "execution_count": null,
   "metadata": {},
   "outputs": [],
   "source": []
  }
 ],
 "metadata": {
  "accelerator": "TPU",
  "colab": {
   "collapsed_sections": [],
   "name": "FinTech_LSTM.ipynb",
   "provenance": [],
   "version": "0.3.2"
  },
  "kernelspec": {
   "display_name": "Python [conda env:keras]",
   "language": "python",
   "name": "conda-env-keras-py"
  },
  "language_info": {
   "codemirror_mode": {
    "name": "ipython",
    "version": 3
   },
   "file_extension": ".py",
   "mimetype": "text/x-python",
   "name": "python",
   "nbconvert_exporter": "python",
   "pygments_lexer": "ipython3",
   "version": "3.6.6"
  }
 },
 "nbformat": 4,
 "nbformat_minor": 1
}

{
 "cells": [
  {
   "cell_type": "markdown",
   "metadata": {
    "colab_type": "text",
    "id": "pQWfP-VMvX7c"
   },
   "source": [
    "# Introduction\n",
    "\n",
    "Includes EMA50, SMA100, SMA200, MACD and Zigzag indicators to detect divergences near relevant support-resistance levels."
   ]
  },
  {
   "cell_type": "code",
   "execution_count": 1,
   "metadata": {},
   "outputs": [
    {
     "name": "stderr",
     "output_type": "stream",
     "text": [
      "Using TensorFlow backend.\n"
     ]
    }
   ],
   "source": [
    "# Append path for MyUtils libraries\n",
    "import sys\n",
    "sys.path.append('../..')\n",
    "\n",
    "####################################################################################\n",
    "# Data handling \n",
    "import pandas as pd\n",
    "from pandas import concat\n",
    "from pandas.plotting import scatter_matrix\n",
    "import numpy as np\n",
    "\n",
    "####################################################################################\n",
    "# Machine learning\n",
    "import sklearn\n",
    "from sklearn import preprocessing\n",
    "from sklearn import metrics as sk\n",
    "from sklearn.externals import joblib\n",
    "from sklearn.model_selection import StratifiedKFold, KFold\n",
    "import keras\n",
    "from keras.models import Model, Sequential\n",
    "from keras.layers import Input, LSTM, Dense, Dropout, BatchNormalization\n",
    "from keras.optimizers import Adam\n",
    "from keras.callbacks import TensorBoard, ModelCheckpoint\n",
    "from keras.optimizers import Adam\n",
    "from keras.constraints import max_norm\n",
    "\n",
    "####################################################################################\n",
    "# Visualization\n",
    "import seaborn as sns\n",
    "import matplotlib.pyplot as plt\n",
    "from matplotlib import dates, ticker\n",
    "from matplotlib.dates import (MONDAY, DateFormatter, MonthLocator, WeekdayLocator, date2num)\n",
    "import matplotlib as mpl\n",
    "import plotly\n",
    "import plotly.plotly as py\n",
    "import plotly.graph_objs as go\n",
    "from plotly.graph_objs import *\n",
    "from plotly.tools import FigureFactory as FF\n",
    "import plotly.tools as tls\n",
    "\n",
    "####################################################################################\n",
    "# TA-Lib: \n",
    "import talib\n",
    "\n",
    "####################################################################################\n",
    "# Other utilities\n",
    "import datetime\n",
    "import time\n",
    "import os\n",
    "import sys\n",
    "import math\n",
    "from enum import Enum"
   ]
  },
  {
   "cell_type": "code",
   "execution_count": 2,
   "metadata": {},
   "outputs": [
    {
     "name": "stdout",
     "output_type": "stream",
     "text": [
      "Ready!\n"
     ]
    }
   ],
   "source": [
    "# imports library with own utilities for data handling and machine learning models\n",
    "import common.MyUtils as utils\n",
    "print('Ready!')"
   ]
  },
  {
   "cell_type": "code",
   "execution_count": 3,
   "metadata": {},
   "outputs": [
    {
     "name": "stdout",
     "output_type": "stream",
     "text": [
      "Deleting weekends...\n"
     ]
    }
   ],
   "source": [
    "# Load instrument's data feed and visualize first rows\n",
    "df = utils.load_hist('../csv_data/EURUSD_M15.csv', freq='15min', sep=';', remove_weekends=True)"
   ]
  },
  {
   "cell_type": "code",
   "execution_count": 21,
   "metadata": {},
   "outputs": [
    {
     "data": {
      "text/html": [
       "<div>\n",
       "<style scoped>\n",
       "    .dataframe tbody tr th:only-of-type {\n",
       "        vertical-align: middle;\n",
       "    }\n",
       "\n",
       "    .dataframe tbody tr th {\n",
       "        vertical-align: top;\n",
       "    }\n",
       "\n",
       "    .dataframe thead th {\n",
       "        text-align: right;\n",
       "    }\n",
       "</style>\n",
       "<table border=\"1\" class=\"dataframe\">\n",
       "  <thead>\n",
       "    <tr style=\"text-align: right;\">\n",
       "      <th></th>\n",
       "      <th>OPEN</th>\n",
       "      <th>HIGH</th>\n",
       "      <th>LOW</th>\n",
       "      <th>CLOSE</th>\n",
       "      <th>OC2</th>\n",
       "      <th>HLC3</th>\n",
       "      <th>OHLC4</th>\n",
       "      <th>CLOSE_DIFF</th>\n",
       "      <th>HHMM</th>\n",
       "      <th>WEEKDAY</th>\n",
       "      <th>...</th>\n",
       "      <th>MACD_SIG</th>\n",
       "      <th>MACD_HIST</th>\n",
       "      <th>EMA50</th>\n",
       "      <th>SMA100</th>\n",
       "      <th>SMA200</th>\n",
       "      <th>BOLLINGER_HI</th>\n",
       "      <th>BOLLINGER_MA</th>\n",
       "      <th>BOLLINGER_LO</th>\n",
       "      <th>BOLLINGER_WIDTH</th>\n",
       "      <th>BOLLINGER_b</th>\n",
       "    </tr>\n",
       "  </thead>\n",
       "  <tbody>\n",
       "    <tr>\n",
       "      <th>2001-04-04 02:00:00</th>\n",
       "      <td>0.8975</td>\n",
       "      <td>0.8978</td>\n",
       "      <td>0.8966</td>\n",
       "      <td>0.8969</td>\n",
       "      <td>0.8972</td>\n",
       "      <td>0.8971</td>\n",
       "      <td>0.8972</td>\n",
       "      <td>-0.0007</td>\n",
       "      <td>120</td>\n",
       "      <td>2</td>\n",
       "      <td>...</td>\n",
       "      <td>0.001469</td>\n",
       "      <td>-0.000356</td>\n",
       "      <td>0.893501</td>\n",
       "      <td>0.888179</td>\n",
       "      <td>0.88336</td>\n",
       "      <td>0.898259</td>\n",
       "      <td>0.897235</td>\n",
       "      <td>0.896211</td>\n",
       "      <td>0.002049</td>\n",
       "      <td>0.336467</td>\n",
       "    </tr>\n",
       "  </tbody>\n",
       "</table>\n",
       "<p>1 rows × 24 columns</p>\n",
       "</div>"
      ],
      "text/plain": [
       "                       OPEN    HIGH     LOW   CLOSE     OC2    HLC3   OHLC4  \\\n",
       "2001-04-04 02:00:00  0.8975  0.8978  0.8966  0.8969  0.8972  0.8971  0.8972   \n",
       "\n",
       "                     CLOSE_DIFF  HHMM  WEEKDAY     ...       MACD_SIG  \\\n",
       "2001-04-04 02:00:00     -0.0007   120        2     ...       0.001469   \n",
       "\n",
       "                     MACD_HIST     EMA50    SMA100   SMA200  BOLLINGER_HI  \\\n",
       "2001-04-04 02:00:00  -0.000356  0.893501  0.888179  0.88336      0.898259   \n",
       "\n",
       "                     BOLLINGER_MA  BOLLINGER_LO  BOLLINGER_WIDTH  BOLLINGER_b  \n",
       "2001-04-04 02:00:00      0.897235      0.896211         0.002049     0.336467  \n",
       "\n",
       "[1 rows x 24 columns]"
      ]
     },
     "execution_count": 21,
     "metadata": {},
     "output_type": "execute_result"
    }
   ],
   "source": [
    "# add common indicators MACD, EMA50, SMA100, SMA200 and Bollinger bands\n",
    "df['MACD'], df['MACD_SIG'], df['MACD_HIST'] = talib.MACD(df.CLOSE, fastperiod=12, slowperiod=26, signalperiod=9)\n",
    "df['EMA50'] = talib.EMA(df.CLOSE, timeperiod=50)\n",
    "df['SMA100'] = talib.SMA(df.CLOSE, timeperiod=100)\n",
    "df['SMA200'] = talib.SMA(df.CLOSE, timeperiod=200)\n",
    "df['BOLLINGER_HI'], df['BOLLINGER_MA'], df['BOLLINGER_LO'] = talib.BBANDS(df.CLOSE, timeperiod=20, nbdevup=2, nbdevdn=2, matype=0)\n",
    "df['BOLLINGER_WIDTH'] = df['BOLLINGER_HI'] - df['BOLLINGER_LO']\n",
    "boll_b = (df.CLOSE - df['BOLLINGER_LO'])/(df['BOLLINGER_HI'] - df['BOLLINGER_LO'])\n",
    "boll_b[np.isnan(boll_b)]=0.5\n",
    "boll_b[np.isinf(boll_b)]=0.5\n",
    "df['BOLLINGER_b'] = boll_b\n",
    "\n",
    "# remove NaNs to add zigzag indicator\n",
    "df.dropna(inplace=True)\n",
    "\n",
    "# add zigzag indicator\n",
    "df['ZIGZAG'] = zigzag_df.ZIGZAG\n",
    "df['ZIGZAG_ACTION'] = zigzag_df.ACTION\n",
    "df.head(1)"
   ]
  },
  {
   "cell_type": "code",
   "execution_count": 24,
   "metadata": {},
   "outputs": [
    {
     "data": {
      "text/html": [
       "<div>\n",
       "<style scoped>\n",
       "    .dataframe tbody tr th:only-of-type {\n",
       "        vertical-align: middle;\n",
       "    }\n",
       "\n",
       "    .dataframe tbody tr th {\n",
       "        vertical-align: top;\n",
       "    }\n",
       "\n",
       "    .dataframe thead th {\n",
       "        text-align: right;\n",
       "    }\n",
       "</style>\n",
       "<table border=\"1\" class=\"dataframe\">\n",
       "  <thead>\n",
       "    <tr style=\"text-align: right;\">\n",
       "      <th></th>\n",
       "      <th>TIME</th>\n",
       "      <th>OPEN</th>\n",
       "      <th>HIGH</th>\n",
       "      <th>LOW</th>\n",
       "      <th>CLOSE</th>\n",
       "      <th>OC2</th>\n",
       "      <th>HLC3</th>\n",
       "      <th>OHLC4</th>\n",
       "      <th>CLOSE_DIFF</th>\n",
       "      <th>HHMM</th>\n",
       "      <th>...</th>\n",
       "      <th>EMA50</th>\n",
       "      <th>SMA100</th>\n",
       "      <th>SMA200</th>\n",
       "      <th>BOLLINGER_HI</th>\n",
       "      <th>BOLLINGER_MA</th>\n",
       "      <th>BOLLINGER_LO</th>\n",
       "      <th>BOLLINGER_WIDTH</th>\n",
       "      <th>BOLLINGER_b</th>\n",
       "      <th>ZIGZAG</th>\n",
       "      <th>ZIGZAG_ACTION</th>\n",
       "    </tr>\n",
       "  </thead>\n",
       "  <tbody>\n",
       "    <tr>\n",
       "      <th>0</th>\n",
       "      <td>2001-04-04 02:00:00</td>\n",
       "      <td>0.8975</td>\n",
       "      <td>0.8978</td>\n",
       "      <td>0.8966</td>\n",
       "      <td>0.8969</td>\n",
       "      <td>0.8972</td>\n",
       "      <td>0.897100</td>\n",
       "      <td>0.897200</td>\n",
       "      <td>-0.0007</td>\n",
       "      <td>120</td>\n",
       "      <td>...</td>\n",
       "      <td>0.893501</td>\n",
       "      <td>0.888179</td>\n",
       "      <td>0.883360</td>\n",
       "      <td>0.898259</td>\n",
       "      <td>0.897235</td>\n",
       "      <td>0.896211</td>\n",
       "      <td>0.002049</td>\n",
       "      <td>0.336467</td>\n",
       "      <td>0.8978</td>\n",
       "      <td>no-action</td>\n",
       "    </tr>\n",
       "    <tr>\n",
       "      <th>1</th>\n",
       "      <td>2001-04-04 02:15:00</td>\n",
       "      <td>0.8971</td>\n",
       "      <td>0.8973</td>\n",
       "      <td>0.8965</td>\n",
       "      <td>0.8969</td>\n",
       "      <td>0.8970</td>\n",
       "      <td>0.896900</td>\n",
       "      <td>0.896950</td>\n",
       "      <td>0.0000</td>\n",
       "      <td>135</td>\n",
       "      <td>...</td>\n",
       "      <td>0.893634</td>\n",
       "      <td>0.888340</td>\n",
       "      <td>0.883469</td>\n",
       "      <td>0.898210</td>\n",
       "      <td>0.897265</td>\n",
       "      <td>0.896320</td>\n",
       "      <td>0.001890</td>\n",
       "      <td>0.306886</td>\n",
       "      <td>0.0000</td>\n",
       "      <td>no-action</td>\n",
       "    </tr>\n",
       "    <tr>\n",
       "      <th>2</th>\n",
       "      <td>2001-04-04 02:30:00</td>\n",
       "      <td>0.8972</td>\n",
       "      <td>0.8974</td>\n",
       "      <td>0.8962</td>\n",
       "      <td>0.8964</td>\n",
       "      <td>0.8968</td>\n",
       "      <td>0.896667</td>\n",
       "      <td>0.896800</td>\n",
       "      <td>-0.0005</td>\n",
       "      <td>150</td>\n",
       "      <td>...</td>\n",
       "      <td>0.893742</td>\n",
       "      <td>0.888490</td>\n",
       "      <td>0.883574</td>\n",
       "      <td>0.898232</td>\n",
       "      <td>0.897255</td>\n",
       "      <td>0.896278</td>\n",
       "      <td>0.001953</td>\n",
       "      <td>0.062292</td>\n",
       "      <td>0.0000</td>\n",
       "      <td>no-action</td>\n",
       "    </tr>\n",
       "    <tr>\n",
       "      <th>3</th>\n",
       "      <td>2001-04-04 02:45:00</td>\n",
       "      <td>0.8965</td>\n",
       "      <td>0.8970</td>\n",
       "      <td>0.8962</td>\n",
       "      <td>0.8967</td>\n",
       "      <td>0.8966</td>\n",
       "      <td>0.896633</td>\n",
       "      <td>0.896600</td>\n",
       "      <td>0.0003</td>\n",
       "      <td>165</td>\n",
       "      <td>...</td>\n",
       "      <td>0.893858</td>\n",
       "      <td>0.888644</td>\n",
       "      <td>0.883683</td>\n",
       "      <td>0.898202</td>\n",
       "      <td>0.897270</td>\n",
       "      <td>0.896338</td>\n",
       "      <td>0.001864</td>\n",
       "      <td>0.194167</td>\n",
       "      <td>0.0000</td>\n",
       "      <td>low</td>\n",
       "    </tr>\n",
       "    <tr>\n",
       "      <th>4</th>\n",
       "      <td>2001-04-04 03:00:00</td>\n",
       "      <td>0.8967</td>\n",
       "      <td>0.8969</td>\n",
       "      <td>0.8962</td>\n",
       "      <td>0.8963</td>\n",
       "      <td>0.8965</td>\n",
       "      <td>0.896467</td>\n",
       "      <td>0.896525</td>\n",
       "      <td>-0.0004</td>\n",
       "      <td>180</td>\n",
       "      <td>...</td>\n",
       "      <td>0.893954</td>\n",
       "      <td>0.888795</td>\n",
       "      <td>0.883786</td>\n",
       "      <td>0.898184</td>\n",
       "      <td>0.897195</td>\n",
       "      <td>0.896206</td>\n",
       "      <td>0.001978</td>\n",
       "      <td>0.047472</td>\n",
       "      <td>0.0000</td>\n",
       "      <td>low</td>\n",
       "    </tr>\n",
       "  </tbody>\n",
       "</table>\n",
       "<p>5 rows × 27 columns</p>\n",
       "</div>"
      ],
      "text/plain": [
       "                 TIME    OPEN    HIGH     LOW   CLOSE     OC2      HLC3  \\\n",
       "0 2001-04-04 02:00:00  0.8975  0.8978  0.8966  0.8969  0.8972  0.897100   \n",
       "1 2001-04-04 02:15:00  0.8971  0.8973  0.8965  0.8969  0.8970  0.896900   \n",
       "2 2001-04-04 02:30:00  0.8972  0.8974  0.8962  0.8964  0.8968  0.896667   \n",
       "3 2001-04-04 02:45:00  0.8965  0.8970  0.8962  0.8967  0.8966  0.896633   \n",
       "4 2001-04-04 03:00:00  0.8967  0.8969  0.8962  0.8963  0.8965  0.896467   \n",
       "\n",
       "      OHLC4  CLOSE_DIFF  HHMM      ...           EMA50    SMA100    SMA200  \\\n",
       "0  0.897200     -0.0007   120      ...        0.893501  0.888179  0.883360   \n",
       "1  0.896950      0.0000   135      ...        0.893634  0.888340  0.883469   \n",
       "2  0.896800     -0.0005   150      ...        0.893742  0.888490  0.883574   \n",
       "3  0.896600      0.0003   165      ...        0.893858  0.888644  0.883683   \n",
       "4  0.896525     -0.0004   180      ...        0.893954  0.888795  0.883786   \n",
       "\n",
       "   BOLLINGER_HI  BOLLINGER_MA  BOLLINGER_LO  BOLLINGER_WIDTH  BOLLINGER_b  \\\n",
       "0      0.898259      0.897235      0.896211         0.002049     0.336467   \n",
       "1      0.898210      0.897265      0.896320         0.001890     0.306886   \n",
       "2      0.898232      0.897255      0.896278         0.001953     0.062292   \n",
       "3      0.898202      0.897270      0.896338         0.001864     0.194167   \n",
       "4      0.898184      0.897195      0.896206         0.001978     0.047472   \n",
       "\n",
       "   ZIGZAG  ZIGZAG_ACTION  \n",
       "0  0.8978      no-action  \n",
       "1  0.0000      no-action  \n",
       "2  0.0000      no-action  \n",
       "3  0.0000            low  \n",
       "4  0.0000            low  \n",
       "\n",
       "[5 rows x 27 columns]"
      ]
     },
     "execution_count": 24,
     "metadata": {},
     "output_type": "execute_result"
    }
   ],
   "source": [
    "# move RangedIndex as a new column TIME\n",
    "_df = df.copy().reset_index()\n",
    "_df.rename(columns={'index':'TIME'}, inplace=True)\n",
    "_df.head()"
   ]
  },
  {
   "cell_type": "markdown",
   "metadata": {},
   "source": [
    "## Visualization\n",
    "\n",
    "Here some visualization is added for visual analysis."
   ]
  },
  {
   "cell_type": "code",
   "execution_count": 29,
   "metadata": {},
   "outputs": [
    {
     "data": {
      "text/html": [
       "<iframe id=\"igraph\" scrolling=\"no\" style=\"border:none;\" seamless=\"seamless\" src=\"https://plot.ly/~raulMrello/130.embed\" height=\"525px\" width=\"100%\"></iframe>"
      ],
      "text/plain": [
       "<plotly.tools.PlotlyDisplay object>"
      ]
     },
     "execution_count": 29,
     "metadata": {},
     "output_type": "execute_result"
    }
   ],
   "source": [
    "# Trace building for each indicator\n",
    "# Starts with candlestick chart\n",
    "_df_draw = _df[-2000:]\n",
    "trace_ohlc = go.Ohlc(x=_df_draw.index.values,\n",
    "                open=_df_draw.OPEN,\n",
    "                high=_df_draw.HIGH,\n",
    "                low=_df_draw.LOW,\n",
    "                close=_df_draw.CLOSE,\n",
    "                name='Candlestick')\n",
    "py.iplot([trace_ohlc], filename='simple_ohlc')\n"
   ]
  },
  {
   "cell_type": "code",
   "execution_count": 31,
   "metadata": {
    "scrolled": true
   },
   "outputs": [
    {
     "data": {
      "text/html": [
       "<iframe id=\"igraph\" scrolling=\"no\" style=\"border:none;\" seamless=\"seamless\" src=\"https://plot.ly/~raulMrello/130.embed\" height=\"525px\" width=\"100%\"></iframe>"
      ],
      "text/plain": [
       "<plotly.tools.PlotlyDisplay object>"
      ]
     },
     "execution_count": 31,
     "metadata": {},
     "output_type": "execute_result"
    }
   ],
   "source": [
    "# Add EMA and SMAs\n",
    "_df_draw = _df[-2000:]\n",
    "trace_ema50 = Scatter(\n",
    "    x=_df_draw.index.values,\n",
    "    y=_df_draw.EMA50,\n",
    "    name= 'EMA50',\n",
    "    line=scatter.Line(color='blue', width=1)\n",
    "    )\n",
    "trace_sma100 = Scatter(\n",
    "    x=_df_draw.index.values,\n",
    "    y=_df_draw.SMA100,\n",
    "    name= 'SMA100',\n",
    "    line=scatter.Line(color='brown', width=1)\n",
    "    )\n",
    "trace_sma200 = Scatter(\n",
    "    x=_df_draw.index.values,\n",
    "    y=_df_draw.SMA200,\n",
    "    name= 'SMA200',\n",
    "    line=scatter.Line(color='black', width=1)\n",
    "    )\n",
    "py.iplot([trace_ohlc, trace_ema50, trace_sma100, trace_sma200], filename='simple_ohlc')\n"
   ]
  },
  {
   "cell_type": "code",
   "execution_count": 32,
   "metadata": {
    "scrolled": false
   },
   "outputs": [
    {
     "data": {
      "text/html": [
       "<iframe id=\"igraph\" scrolling=\"no\" style=\"border:none;\" seamless=\"seamless\" src=\"https://plot.ly/~raulMrello/130.embed\" height=\"525px\" width=\"100%\"></iframe>"
      ],
      "text/plain": [
       "<plotly.tools.PlotlyDisplay object>"
      ]
     },
     "execution_count": 32,
     "metadata": {},
     "output_type": "execute_result"
    }
   ],
   "source": [
    "# Add Zigzag points\n",
    "_df_draw = _df[-2000:]\n",
    "trace_zigzag = go.Scatter(\n",
    "    x=_df_draw[_df_draw.ZIGZAG > 0].reset_index()['index'], \n",
    "    y=_df_draw[_df_draw.ZIGZAG > 0].ZIGZAG,     \n",
    "    name='zigzag', \n",
    "    line=scatter.Line(color='green', width=1))\n",
    "\n",
    "# draw them\n",
    "_df_draw = _df[-2000:]\n",
    "py.iplot([trace_ohlc, trace_ema50, trace_sma100, trace_sma200, trace_zigzag], filename='simple_ohlc')"
   ]
  },
  {
   "cell_type": "code",
   "execution_count": 37,
   "metadata": {
    "scrolled": true
   },
   "outputs": [
    {
     "name": "stdout",
     "output_type": "stream",
     "text": [
      "This is the format of your plot grid:\n",
      "[ (1,1) x1,y1 ]\n",
      "[ (2,1) x1,y2 ]\n",
      "\n"
     ]
    },
    {
     "data": {
      "text/html": [
       "<iframe id=\"igraph\" scrolling=\"no\" style=\"border:none;\" seamless=\"seamless\" src=\"https://plot.ly/~raulMrello/130.embed\" height=\"800px\" width=\"100%\"></iframe>"
      ],
      "text/plain": [
       "<plotly.tools.PlotlyDisplay object>"
      ]
     },
     "execution_count": 37,
     "metadata": {},
     "output_type": "execute_result"
    }
   ],
   "source": [
    "## add subplot with MACD indicator\n",
    "_df_draw = _df[-2000:]\n",
    "trace_macd = go.Scatter(\n",
    "    x=_df_draw.index.values, \n",
    "    y=_df_draw.MACD,     \n",
    "    name='MACD', \n",
    "    line=scatter.Line(color='blue', width=1))\n",
    "trace_macdsig = go.Scatter(\n",
    "    x=_df_draw.index.values, \n",
    "    y=_df_draw.MACD_SIG,     \n",
    "    name='MACD_sig', \n",
    "    line=scatter.Line(color='red', width=1))\n",
    "trace_macdhist = go.Scatter(\n",
    "    x=_df_draw.index.values, \n",
    "    y=_df_draw.MACD_HIST,     \n",
    "    name='MACD_hist', \n",
    "    line=scatter.Line(color='green', width=1))\n",
    "\n",
    "fig = plotly.tools.make_subplots(rows=2, \n",
    "                                 cols=1, \n",
    "                                 subplot_titles=('Price', 'MACD'),\n",
    "                                 shared_xaxes=True, \n",
    "                                 vertical_spacing=0.1)\n",
    "fig.append_trace(trace_ohlc, 1, 1)\n",
    "fig.append_trace(trace_ema50, 1, 1)\n",
    "fig.append_trace(trace_sma100, 1, 1)\n",
    "fig.append_trace(trace_sma200, 1, 1)\n",
    "fig.append_trace(trace_zigzag, 1, 1)\n",
    "fig.append_trace(trace_macd, 2, 1)\n",
    "fig.append_trace(trace_macdsig, 2, 1)\n",
    "fig.append_trace(trace_macdhist, 2, 1)\n",
    "\n",
    "fig['layout'].update(height=800, title='Price & Indicators')\n",
    "py.iplot(fig, filename='simple_ohlc')\n"
   ]
  },
  {
   "cell_type": "markdown",
   "metadata": {},
   "source": [
    "# To be continued..."
   ]
  },
  {
   "cell_type": "code",
   "execution_count": null,
   "metadata": {},
   "outputs": [],
   "source": [
    "line_bbup = Scatter(\n",
    "    x=_df.index.values,\n",
    "    y=_df.BOLLINGER_HI,\n",
    "    name= 'UpperBand',\n",
    "    line=scatter.Line(color='red', width=1)\n",
    "    )\n",
    "line_bbmid = Scatter(\n",
    "    x=_df.index.values,\n",
    "    y=_df.BOLLINGER_MA,\n",
    "    name= 'MiddleBand',\n",
    "    line=scatter.Line(color='red', width=1)\n",
    "    )\n",
    "line_bbdn = Scatter(\n",
    "    x=_df.index.values,\n",
    "    y=_df.BOLLINGER_LO,\n",
    "    name= 'LowerBand',\n",
    "    line=scatter.Line(color='red', width=1)\n",
    "    )\n",
    "\n"
   ]
  },
  {
   "cell_type": "code",
   "execution_count": null,
   "metadata": {},
   "outputs": [],
   "source": [
    "# add zigzag retracement percentage (0-1)\n",
    "_dfz_stat['RETRACEMENT'] = _dfz_stat.ZIGDIFF / _dfz_stat.ZIGDIFF.shift(1)\n",
    "_dfz_stat['PROJECTION'] = _dfz_stat.ZIGDIFF / _dfz_stat.ZIGDIFF.shift(2)\n",
    "_dfz_stat.head(20)"
   ]
  },
  {
   "cell_type": "code",
   "execution_count": null,
   "metadata": {},
   "outputs": [],
   "source": [
    "# add fibo retracements and extensions\n",
    "_dfz_stat['FIBO_RETR'] = _dfz_stat.apply(lambda x: (abs(x.RETRACEMENT) >= 0.382 and abs(x.RETRACEMENT) <= 0.618), axis=1)\n",
    "_dfz_stat['FIBO_EXTN'] = _dfz_stat.apply(lambda x: x.PROJECTION >= 0.9, axis=1)\n",
    "_dfz_stat.head(20)"
   ]
  },
  {
   "cell_type": "code",
   "execution_count": null,
   "metadata": {},
   "outputs": [],
   "source": [
    "# add training watermarks\n",
    "_dfz_stat['RALLY_START'] = (_dfz_stat.FIBO_RETR.shift(-1) & _dfz_stat.FIBO_EXTN.shift(-2))\n",
    "_dfz_stat.head(20)"
   ]
  },
  {
   "cell_type": "code",
   "execution_count": null,
   "metadata": {},
   "outputs": [],
   "source": [
    "# get indexes of rally starts\n",
    "rallies = _dfz_stat[_dfz_stat.RALLY_START==True].index\n",
    "rallies"
   ]
  },
  {
   "cell_type": "code",
   "execution_count": null,
   "metadata": {},
   "outputs": [],
   "source": [
    "maxs      "
   ]
  },
  {
   "cell_type": "code",
   "execution_count": null,
   "metadata": {},
   "outputs": [],
   "source": [
    "# builds decreasing max\n",
    "dec_max = []\n",
    "for x in range(len(maxs)-1):  \n",
    "  if x==0 and x >= max(maxs[x:]):\n",
    "    dec_max.append(mins[x])\n",
    "  elif x>0 and x >= max(maxs[x:]) and x <= min(maxs[:x]):\n",
    "    dec_max.append(maxs[x])\n",
    "      \n",
    "dec_max                   "
   ]
  },
  {
   "cell_type": "markdown",
   "metadata": {},
   "source": [
    "\n",
    "\n",
    "As said, this model will predict an estimation of High and Low prices for next session. To achieve it, it will predict the price movement from the current close price. So, knowing the current close time and the prediction movement, it will extract the real High,Low prices.\n",
    "\n",
    "So, both outputs could be expressed with these equations:\n",
    "\n",
    "PREDICTION_HIGH(t+1) = PRICE_HIGH(t+1) - CLOSE(t)\n",
    "\n",
    "PREDICTION_LOW(t+1) = PRICE_LOW(t+1) - CLOSE(t)\n"
   ]
  },
  {
   "cell_type": "code",
   "execution_count": null,
   "metadata": {},
   "outputs": [],
   "source": [
    "# function to generate predictions as explained above\n",
    "def define_outputs(df):  \n",
    "  df['OUT_HIGH'] = df.HIGH - df.CLOSE.shift(1)\n",
    "  df['OUT_LOW'] = df.LOW - df.CLOSE.shift(1)\n",
    "  return df\n",
    "\n",
    "# Add both outputs to df dataframe and check first rows (also remove NaNs)\n",
    "df = define_outputs(df)\n",
    "df.dropna(inplace=True)\n",
    "df.head()"
   ]
  },
  {
   "cell_type": "code",
   "execution_count": null,
   "metadata": {},
   "outputs": [],
   "source": [
    "# Visualization of all columns: input features and target predictions\n",
    "rows = (df.shape[1] / 4) + 1\n",
    "plt.figure(figsize = (12,50))\n",
    "for c in df.columns:\n",
    "  i = df.columns.get_loc(c)+1\n",
    "  plt.subplot(rows, 4, i)\n",
    "  plt.plot(df[c])\n",
    "  plt.legend([c])\n",
    "  "
   ]
  },
  {
   "cell_type": "markdown",
   "metadata": {},
   "source": [
    "### Data preprocessing\n",
    "\n",
    "This model will predict price movement one timestep ahead, from a loopback window of the last 4 timesteps: \n",
    "\n",
    "(t-3), (t-2), (t-1), (t) ==> (t+1)\n",
    "\n",
    "LSTM cells require input features and target outputs to be in a proper format:\n",
    "\n",
    "- Input features shape: (num_samples, num_loopback_timesteps, num_input_features)\n",
    "- Output target shape: (num_outputs * num_prediction_timesteps)\n",
    "\n",
    "To adapt data contained in df dataframe into these sets, I use function 'series_to_supervised' contained in python file 'MyUtils.py'. You can check how it works there.\n"
   ]
  },
  {
   "cell_type": "code",
   "execution_count": null,
   "metadata": {},
   "outputs": [],
   "source": [
    "# Setup:\n",
    "\n",
    "# Num outputs to predict\n",
    "num_outputs = 2\n",
    "\n",
    "# Num input features\n",
    "num_inputs = len(df.columns) - num_outputs\n",
    "\n",
    "# Num loopback timesteps\n",
    "n_in = 4\n",
    "\n",
    "# Num timesteps to predict\n",
    "n_out = 1\n",
    "\n",
    "# Flag to remove NaN values from  df dataframe\n",
    "dropnan = True\n",
    "\n",
    "# Run the preprocessor and get a new dataframe 'df_nn'\n",
    "df_nn = utils.series_to_supervised(df, num_inputs, num_outputs, n_in, n_out, dropnan)\n",
    "\n",
    "# Check the result\n",
    "print(df_nn.shape)\n",
    "df_nn.head()"
   ]
  },
  {
   "cell_type": "code",
   "execution_count": null,
   "metadata": {
    "scrolled": true
   },
   "outputs": [],
   "source": [
    "# DATA DEBUGGING:\n",
    "# Now I use an auxiliar temporal dataframe '_df' to check if target outputs are calculated correctly. I check if 'next_high' \n",
    "# column has the same content as 'HIGH(t)' shifted 1 timestemp in the future.\n",
    "_df = df_nn[['HIGH(t-1)','HIGH(t)','LOW(t-1)','LOW(t)','CLOSE(t-1)', 'CLOSE(t)','OUT_HIGH(t+1)']].head(10).copy()\n",
    "_df['next_high'] = _df['CLOSE(t)']+ _df['OUT_HIGH(t+1)']\n",
    "_df"
   ]
  },
  {
   "cell_type": "markdown",
   "metadata": {},
   "source": [
    "### Data normalization\n",
    "\n",
    "A general preprocessing operation in Neural Networks is data normalization, in this case, as LSTM cells contains a 'tanh' cell, I will normalize all features in range [-1,+1].\n",
    "\n",
    "I will save the scaler for further use when de-normalization process is required later on model validation. I use 'MinMaxScaler' from Scikit-learn library. For this purpose I use 'normalize_data' function from MyUtils.py file:"
   ]
  },
  {
   "cell_type": "code",
   "execution_count": null,
   "metadata": {},
   "outputs": [],
   "source": [
    "#### Data normalization. Get the scaler (save a copy on disk for later use) and a new normalized dataframe: dfnorm\n",
    "dfnorm, scaler = utils.normalize_data(df_nn, feat_range = (-1,1), csv_to_save=None, scaler_to_save='../scaler_data/scaler.data')\n",
    "# check result\n",
    "dfnorm.describe()"
   ]
  },
  {
   "cell_type": "markdown",
   "metadata": {},
   "source": [
    "## 3 RNN model construction\n",
    "\n",
    "First of all, I like to say that I will use Keras as fronted over Tensorflow, to build a stacked LSTM network.\n",
    "\n",
    "I use function 'build_lstm_net' in MyUtils.py file (check it there if curious). It requires different arguments: num_inputs, num_outputs, loopback and predicted timestemps, number of LSTM layers, ...\n",
    "\n",
    "In first place  I will execute a cross validation phase, using 'Kfolds' from Scikit-learn to get a first impression about the model. I'll generate 5 different models.\n"
   ]
  },
  {
   "cell_type": "markdown",
   "metadata": {},
   "source": [
    "### Cross validation\n",
    "\n",
    "dfnorm dataframe is used to get train-test in-out pairs. LSTM model is:\n",
    "\n",
    "- 3 stacked LSTM layers with 64 neurons each.\n",
    "- 1 Dense hidden layer with 128 neurons.\n",
    "- 1 Dense output layer with 2 neurons (one per output)\n",
    "- Dropout after each layer to improve generalization and avoid overfitting\n"
   ]
  },
  {
   "cell_type": "code",
   "execution_count": null,
   "metadata": {},
   "outputs": [],
   "source": [
    "# split into input (X) and output (Y) variables\n",
    "X = dfnorm.values[:,:(num_inputs*n_in)]\n",
    "Y = dfnorm.values[:,(num_inputs*n_in):]\n",
    "# define 5-fold cross validation test harness\n",
    "# fix random seed for reproducibility\n",
    "seed = 7\n",
    "np.random.seed(seed)\n",
    "kfold = KFold(n_splits=5, shuffle=True, random_state=seed)\n",
    "cvscores = []\n",
    "i=0\n",
    "for train, test in kfold.split(X, Y):\n",
    "  # create model\n",
    "  model,callbacks = utils.build_lstm_net(num_inputs, n_in, num_outputs, n_out, 3,2,64,128,'weights_0412_m'+str(i)+'.hd5')\n",
    "  i += 1\n",
    "  # Fit the model\n",
    "  x = X[train]\n",
    "  x = x.reshape(x.shape[0], n_in, num_inputs)\n",
    "  utils.fit(model, x, Y[train], num_inputs, n_in, num_epochs=5, callbacks=callbacks, batchsize=32)  \n",
    "  # evaluate the model\n",
    "  x = X[test]\n",
    "  scores = utils.test_evaluation(model, x, Y[test], num_inputs, n_in)\n",
    "  x = x.reshape(x.shape[0], n_in, num_inputs)\n",
    "  scores = model.evaluate(x, Y[test], verbose=0)\n",
    "  print(\"%s: %.2f%%\" % (model.metrics_names[0], scores[0]*100))\n",
    "  print(\"%s: %.2f%%\" % (model.metrics_names[1], scores[1]*100))\n",
    "  cvscores.append(scores[1] * 100)\n",
    "print(\"%.2f%% (+/- %.2f%%)\" % (np.mean(cvscores), np.std(cvscores)))"
   ]
  },
  {
   "cell_type": "markdown",
   "metadata": {},
   "source": [
    "As this model seems to be raise good results, I will train with a whole train-test dataset.\n",
    "\n",
    "### Model training\n",
    "\n",
    "In this case, I will use 'dfnorm' dataframe and get 80% (around 88000 samples) for training and 20% (around 22000 samples) for validation. I'll use 'prepare_training_data' and 'fit' functions from MyUtils.py file:"
   ]
  },
  {
   "cell_type": "code",
   "execution_count": null,
   "metadata": {},
   "outputs": [],
   "source": [
    "# Prepare data for train-test\n",
    "x_train,y_train,x_test,y_test = utils.prepare_training_data(dfnorm, num_inputs * n_in, 0.8)\n",
    "print('x_train:', x_train.shape, 'y_train', y_train.shape)\n",
    "print('x_test:', x_test.shape, 'y_test', y_test.shape)\n"
   ]
  },
  {
   "cell_type": "code",
   "execution_count": null,
   "metadata": {},
   "outputs": [],
   "source": [
    "# Build the RNN model with same configuration\n",
    "model,callbacks = utils.build_lstm_net(num_inputs, n_in, num_outputs, n_out, 3,2,64,128,'../hd5_data/weightsH4_3.2.64.128.hd5')"
   ]
  },
  {
   "cell_type": "code",
   "execution_count": null,
   "metadata": {
    "scrolled": true
   },
   "outputs": [],
   "source": [
    "# Setup:\n",
    "\n",
    "# Training epochs\n",
    "num_epochs = 30\n",
    "# Batch size\n",
    "batchsize = 32\n",
    "# Ratio validation-training (20%)\n",
    "val_ratio = 0.2\n",
    "# Enable data shuffling\n",
    "shuffle = True\n",
    "# Enable result plotting\n",
    "plot_results = True\n",
    "# Start training\n",
    "result = utils.fit(model, x_train, y_train, num_inputs, n_in, num_epochs, callbacks, batchsize, val_ratio, shuffle, plot_results, verbose=2)"
   ]
  },
  {
   "cell_type": "code",
   "execution_count": null,
   "metadata": {},
   "outputs": [],
   "source": [
    "# Save model weights on disk, as HDF5 file\n",
    "model.save_weights('../hd5_data/weightsH4_3.2.64.128.hd5')"
   ]
  },
  {
   "cell_type": "markdown",
   "metadata": {},
   "source": [
    "### Model verification\n",
    "\n",
    "Once trained, let's check its behaviour with new data. Function 'test_rmse' in MyUtils.py executes the test and returns the RMSE result. A callback 'out_builder' is needed to de-normalize data to calculate RMSE."
   ]
  },
  {
   "cell_type": "code",
   "execution_count": null,
   "metadata": {
    "scrolled": true
   },
   "outputs": [],
   "source": [
    "# column selection for 'out_builder' callback\n",
    "ih = df_nn.columns.get_loc('OUT_HIGH(t+1)')  \n",
    "il = df_nn.columns.get_loc('OUT_LOW(t+1)')\n",
    "ic = df_nn.columns.get_loc('CLOSE(t)')\n",
    "  \n",
    "# Callback to build de-normalized output data from normalized predictions\n",
    "def out_builder(xy,xyhat):\n",
    "  return np.asarray([xy[ih]+xy[ic],xy[il]+xy[ic]]), np.asarray([xyhat[ih]+xyhat[ic],xyhat[il]+xyhat[ic]])\n",
    "  \n",
    "# Executes test process and visualizes RMSE result\n",
    "scores, targets, preds, rmse = utils.test_rmse(model, x_test, y_test, num_inputs, n_in, num_outputs, n_out, scaler, out_builder, True)"
   ]
  },
  {
   "cell_type": "code",
   "execution_count": null,
   "metadata": {
    "scrolled": true
   },
   "outputs": [],
   "source": [
    "# Dataframe update:\n",
    "\n",
    "# Reshape results into np.arrays\n",
    "atgt = np.asarray(targets)\n",
    "apreds = np.asarray(preds)\n",
    "armse = np.asarray(rmse)\n",
    "\n",
    "# Build a new dataframe named 'df_predict' with prediction results.\n",
    "df_predict = df_nn[x_train.shape[0]:].copy()\n",
    "#... add predictions...\n",
    "df_predict['PREDICT_HIGH'] = apreds[:,0]\n",
    "df_predict['PREDICT_LOW'] = apreds[:,1]\n",
    "\n",
    "#... add targets...\n",
    "df_predict['TARGET_HIGH'] = df_predict['CLOSE(t)'] + df_predict['OUT_HIGH(t+1)'] \n",
    "df_predict['TARGET_LOW'] = df_predict['CLOSE(t)'] + df_predict['OUT_LOW(t+1)'] \n",
    "\n",
    "#... add some data-debugging columns to validate results\n",
    "df_predict['TARGET_HIGH_CHECK'] = atgt[:,0]\n",
    "df_predict['TARGET_LOW_CHECK'] = atgt[:,1]\n",
    "\n",
    "#... add RMSE error\n",
    "df_predict['RMSE'] = armse[:]\n",
    "\n",
    "# Visualize first rows for visual debugging\n",
    "df_predict.head()"
   ]
  },
  {
   "cell_type": "markdown",
   "metadata": {},
   "source": [
    "Now I carry on a visual inspection of results obtained. I can range the visualization plot to zoom in or out.\n",
    "\n",
    "Target range (real range between high and low prices) is coloured in grey, while predicted range (area between predicted high and low) is coloured in yellow."
   ]
  },
  {
   "cell_type": "code",
   "execution_count": null,
   "metadata": {},
   "outputs": [],
   "source": [
    "plt.figure(figsize=(16,16))\n",
    "i=-10\n",
    "x = np.arange(10)\n",
    "y1 = df_predict['TARGET_HIGH'].values[i:]\n",
    "y2 = df_predict['TARGET_LOW'].values[i:]\n",
    "y3 = df_predict['PREDICT_HIGH'].values[i:]\n",
    "y4 = df_predict['PREDICT_LOW'].values[i:]\n",
    "plt.plot(x,y1, color='black')\n",
    "plt.plot(x,y2, color = 'brown')\n",
    "plt.plot(x,y3, color = 'red')\n",
    "plt.plot(x,y4, color = 'green')\n",
    "plt.legend(['target_hi','target_lo', 'predict_hi', 'predict_lo'])\n",
    "plt.fill_between(x,y1,y2, color='grey', alpha='0.5')\n",
    "plt.fill_between(x,y3,y4, color='yellow', alpha='0.5')\n",
    "#plt.plot(df_predict['TARGET_HIGH_CHECK'].values[i:j])\n",
    "#plt.plot(df_predict['TARGET_LOW_CHECK'].values[i:j])\n"
   ]
  },
  {
   "cell_type": "markdown",
   "metadata": {},
   "source": [
    "As can be seen, there exist a small prediction error. In general, predicted range between High and Low prices as greater than real High-Low range.\n"
   ]
  },
  {
   "cell_type": "markdown",
   "metadata": {},
   "source": [
    "### Next steps\n",
    "\n",
    "Once verified that prediction is valid for my purposes, it's time to build a dataframe for the next stage: A3C-LSTM agent.\n",
    "\n",
    "In this new stage, the agent will require real time market data (bars, quotes, account info and predictions) to start its training process as a RL problem.\n",
    "\n",
    "Now we are going to build a dataframe (only with bars, targets, predictions) for this next stage:"
   ]
  },
  {
   "cell_type": "code",
   "execution_count": null,
   "metadata": {},
   "outputs": [],
   "source": [
    "# split historic data into input (X) and output (Y) variables and executes predictions\n",
    "X = dfnorm.values[:,:(num_inputs*n_in)]\n",
    "Y = dfnorm.values[:,(num_inputs*n_in):]\n",
    "predictions = model.predict(X.reshape(X.shape[0], n_in, num_inputs), batch_size=1)"
   ]
  },
  {
   "cell_type": "code",
   "execution_count": null,
   "metadata": {},
   "outputs": [],
   "source": [
    "# let's copy dfnorm and add predictions as new columns\n",
    "df_predict = dfnorm.copy()\n",
    "df_predict['OUT_HIGH(t+1)'] = predictions[:,0]\n",
    "df_predict['OUT_LOW(t+1)']  = predictions[:,1]\n",
    "df_predict.tail()"
   ]
  },
  {
   "cell_type": "code",
   "execution_count": null,
   "metadata": {},
   "outputs": [],
   "source": [
    "# de-normalize data\n",
    "df_predict = utils.denormalize_data(df_predict, scaler)\n",
    "df_predict.tail()"
   ]
  },
  {
   "cell_type": "code",
   "execution_count": null,
   "metadata": {},
   "outputs": [],
   "source": [
    "# Add new columns for expected targets\n",
    "df_predict['TARGET_HIGH'] = df_nn['OUT_HIGH(t+1)'] \n",
    "df_predict['TARGET_LOW'] = df_nn['OUT_LOW(t+1)'] \n",
    "\n",
    "#... calculate RMSE error between targets and predictions\n",
    "df_predict['RMSE'] = df_predict.apply(lambda row: math.sqrt(sk.mean_squared_error(np.asarray([row['TARGET_HIGH'], row['TARGET_LOW']]), np.asarray([row['OUT_HIGH(t+1)'], row['OUT_LOW(t+1)']]), multioutput = 'uniform_average')), axis=1)\n",
    "\n",
    "# add new columns to get targets and predictions as absolute price values\n",
    "df_predict['PREDICT_HIGH_PRICE'] = df_predict['CLOSE(t)'] + df_predict['OUT_HIGH(t+1)']\n",
    "df_predict['PREDICT_LOW_PRICE'] = df_predict['CLOSE(t)'] + df_predict['OUT_LOW(t+1)']\n",
    "df_predict['TARGET_HIGH_PRICE'] = df_predict['CLOSE(t)'] + df_predict['TARGET_HIGH']\n",
    "df_predict['TARGET_LOW_PRICE'] = df_predict['CLOSE(t)'] + df_predict['TARGET_LOW']\n",
    "\n",
    "#... and calculate RMSE error using absolute price values\n",
    "df_predict['RMSE_PRICE'] = df_predict.apply(lambda row: math.sqrt(sk.mean_squared_error(np.asarray([row['TARGET_HIGH_PRICE'], row['TARGET_LOW_PRICE']]), np.asarray([row['PREDICT_HIGH_PRICE'], row['PREDICT_LOW_PRICE']]), multioutput = 'uniform_average')), axis=1)\n",
    "\n",
    "df_predict.head()"
   ]
  },
  {
   "cell_type": "code",
   "execution_count": null,
   "metadata": {},
   "outputs": [],
   "source": [
    "# Select only required columns for next stage\n",
    "df_predict = df_predict[['OPEN(t)','HIGH(t)','LOW(t)','CLOSE(t)','OUT_HIGH(t+1)','OUT_LOW(t+1)','TARGET_HIGH','TARGET_LOW','RMSE','PREDICT_HIGH_PRICE','PREDICT_LOW_PRICE','TARGET_HIGH_PRICE','TARGET_LOW_PRICE', 'RMSE_PRICE']]\n",
    "df_predict.tail()                      "
   ]
  },
  {
   "cell_type": "code",
   "execution_count": null,
   "metadata": {},
   "outputs": [],
   "source": [
    "# Show targets (grey area) vs predictions (yellow area)\n",
    "plt.figure(figsize=(16,16))\n",
    "# Zoom in range to plot (can be changed)\n",
    "i=-20\n",
    "x = np.arange(-i)\n",
    "y1 = df_predict['TARGET_HIGH_PRICE'].values[i:]\n",
    "y2 = df_predict['TARGET_LOW_PRICE'].values[i:]\n",
    "y3 = df_predict['PREDICT_HIGH_PRICE'].values[i:]\n",
    "y4 = df_predict['PREDICT_LOW_PRICE'].values[i:]\n",
    "plt.plot(x,y1, color='black')\n",
    "plt.plot(x,y2, color = 'brown')\n",
    "plt.plot(x,y3, color = 'red')\n",
    "plt.plot(x,y4, color = 'green')\n",
    "plt.legend(['target_hi','target_lo', 'predict_hi', 'predict_lo'])\n",
    "plt.fill_between(x,y1,y2, color='grey', alpha='0.5')\n",
    "plt.fill_between(x,y3,y4, color='yellow', alpha='0.5')\n",
    "#plt.plot(df_predict['TARGET_HIGH_CHECK'].values[i:j])\n",
    "#plt.plot(df_predict['TARGET_LOW_CHECK'].values[i:j])"
   ]
  },
  {
   "cell_type": "code",
   "execution_count": null,
   "metadata": {},
   "outputs": [],
   "source": [
    "# Show RMSE errors\n",
    "plt.subplot(1,2,1)\n",
    "plt.plot(df_predict['RMSE'], color='b')\n",
    "plt.legend(['RMSE_prediction'])\n",
    "plt.subplot(1,2,2)\n",
    "plt.plot(df_predict['RMSE_PRICE'], color = 'r')\n",
    "plt.legend(['RMSE_price'])"
   ]
  },
  {
   "cell_type": "code",
   "execution_count": null,
   "metadata": {},
   "outputs": [],
   "source": [
    "# Save file on disk\n",
    "df_predict.to_csv('../csv_data/EURUSD_H4_predictions.csv', sep=';')\n",
    "print('File saved!')"
   ]
  },
  {
   "cell_type": "code",
   "execution_count": null,
   "metadata": {},
   "outputs": [],
   "source": []
  }
 ],
 "metadata": {
  "accelerator": "TPU",
  "colab": {
   "collapsed_sections": [],
   "name": "FinTech_LSTM.ipynb",
   "provenance": [],
   "version": "0.3.2"
  },
  "kernelspec": {
   "display_name": "Python [conda env:keras]",
   "language": "python",
   "name": "conda-env-keras-py"
  },
  "language_info": {
   "codemirror_mode": {
    "name": "ipython",
    "version": 3
   },
   "file_extension": ".py",
   "mimetype": "text/x-python",
   "name": "python",
   "nbconvert_exporter": "python",
   "pygments_lexer": "ipython3",
   "version": "3.6.6"
  }
 },
 "nbformat": 4,
 "nbformat_minor": 1
}

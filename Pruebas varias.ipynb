{
 "cells": [
  {
   "cell_type": "code",
   "execution_count": 3,
   "metadata": {},
   "outputs": [
    {
     "name": "stdout",
     "output_type": "stream",
     "text": [
      "Done!\n"
     ]
    }
   ],
   "source": [
    "\n",
    "####################################################################################\n",
    "# Librerías de manejo de datos \n",
    "import pandas as pd\n",
    "from pandas import concat\n",
    "import numpy as np\n",
    "\n",
    "####################################################################################\n",
    "# Librerías de visualización\n",
    "import matplotlib.pyplot as plt\n",
    "from matplotlib import dates, ticker\n",
    "from matplotlib.dates import (MONDAY, DateFormatter, MonthLocator, WeekdayLocator, date2num)\n",
    "import matplotlib as mpl\n",
    "import plotly\n",
    "import plotly.plotly as py\n",
    "import plotly.graph_objs as go\n",
    "from plotly.graph_objs import Scatter, Layout\n",
    "import plotly.tools as tls\n",
    "tls.set_credentials_file(username='raulMrello', api_key='qX9S30YRQ866mGF9b89u')\n",
    "\n",
    "####################################################################################\n",
    "# TA-Lib: instalación y carga de la librería\n",
    "import talib\n",
    "\n",
    "####################################################################################\n",
    "# Otras utilidades\n",
    "import datetime\n",
    "import time\n",
    "import os\n",
    "import sys\n",
    "import math\n",
    "\n",
    "####################################################################################\n",
    "print('Done!')"
   ]
  },
  {
   "cell_type": "code",
   "execution_count": 4,
   "metadata": {},
   "outputs": [
    {
     "name": "stdout",
     "output_type": "stream",
     "text": [
      "         DATE      TIME    OPEN    HIGH     LOW   CLOSE  TICKVOL  VOL  SPREAD\n",
      "0  2001.01.01  00:00:00  0.9421  0.9423  0.9419  0.9419        5    0      50\n",
      "1  2001.01.01  08:00:00  0.9422  0.9424  0.9422  0.9424        2    0      50\n",
      "2  2001.01.01  14:00:00  0.9425  0.9425  0.9425  0.9425        1    0      50\n",
      "3  2001.01.01  15:00:00  0.9419  0.9419  0.9419  0.9419        1    0      50\n",
      "4  2001.01.01  18:00:00  0.9397  0.9399  0.9390  0.9395       20    0      50 \n",
      "--------------------------\n",
      "            timestamp    OPEN    HIGH     LOW   CLOSE  TICKVOL  VOL  SPREAD\n",
      "0 2001-01-01 00:00:00  0.9421  0.9423  0.9419  0.9419        5    0      50\n",
      "1 2001-01-01 08:00:00  0.9422  0.9424  0.9422  0.9424        2    0      50\n",
      "2 2001-01-01 14:00:00  0.9425  0.9425  0.9425  0.9425        1    0      50\n",
      "3 2001-01-01 15:00:00  0.9419  0.9419  0.9419  0.9419        1    0      50\n",
      "4 2001-01-01 18:00:00  0.9397  0.9399  0.9390  0.9395       20    0      50 \n",
      "--------------------------\n",
      "                       OPEN    HIGH     LOW   CLOSE  TICKVOL  VOL  SPREAD\n",
      "2001-01-01 00:00:00  0.9421  0.9423  0.9419  0.9419      5.0  0.0    50.0\n",
      "2001-01-01 01:00:00  0.9421  0.9423  0.9419  0.9419      5.0  0.0    50.0\n",
      "2001-01-01 02:00:00  0.9421  0.9423  0.9419  0.9419      5.0  0.0    50.0\n",
      "2001-01-01 03:00:00  0.9421  0.9423  0.9419  0.9419      5.0  0.0    50.0\n",
      "2001-01-01 04:00:00  0.9421  0.9423  0.9419  0.9419      5.0  0.0    50.0\n"
     ]
    },
    {
     "data": {
      "text/html": [
       "<iframe id=\"igraph\" scrolling=\"no\" style=\"border:none;\" seamless=\"seamless\" src=\"https://plot.ly/~raulMrello/102.embed\" height=\"700px\" width=\"1000px\"></iframe>"
      ],
      "text/plain": [
       "<plotly.tools.PlotlyDisplay object>"
      ]
     },
     "execution_count": 4,
     "metadata": {},
     "output_type": "execute_result"
    },
    {
     "data": {
      "image/png": "[encoded data removed]",
      "text/plain": [
       "<Figure size 432x288 with 1 Axes>"
      ]
     },
     "metadata": {
      "needs_background": "light"
     },
     "output_type": "display_data"
    }
   ],
   "source": [
    "####################################################################################\n",
    "# PASO 3: Carga el archivo csv en un dataframe, con posibilidad de rellenar espacios vacíos\n",
    "def load_hist(filename, **kwargs):\n",
    "    '''\n",
    "        :param filename Archivo csv a leer\n",
    "        :param kwargs lista de opciones:\n",
    "            sep CSV Separator\n",
    "            reindex_fillna Flag para rellenar espacios en blanco\n",
    "            plot_it Flag para visualizar el archivo\n",
    "        :return dataframe creado\n",
    "    '''\n",
    "    sep = ','\n",
    "    reindex_fillna=False\n",
    "    plot_it=False    \n",
    "    if kwargs is not None:\n",
    "        for key, value in kwargs.items():\n",
    "            if key == 'sep': sep = value\n",
    "            if key == 'reindex_fillna': reindex_fillna = value\n",
    "            if key == 'plot_it': plot_it = value\n",
    "                \n",
    "    df = pd.read_csv(filename, sep=sep) \n",
    "    print(df.head(),'\\r\\n--------------------------')\n",
    "    # crea una nueva columna de timestamp uniendo date & time y crea columnas para el día de la semana, el día del mes, el mes y la hora del día actual \n",
    "    df['timestamp'] = df['DATE'] + '  ' + df['TIME'] \n",
    "    df['timestamp'] = df['timestamp'].map(lambda x: datetime.datetime.strptime(x, '%Y.%m.%d %H:%M:%S'))  \n",
    "    df['weekday'] = df['timestamp'].map(lambda x: x.dayofweek) \n",
    "    df['day'] = df['timestamp'].map(lambda x: x.day) \n",
    "    df['month'] = df['timestamp'].map(lambda x: x.month) \n",
    "    df['hhmm'] = df['timestamp'].map(lambda x: x.hour*60 + x.minute) \n",
    "    df['timestamp'] = pd.to_datetime(df['timestamp'])\n",
    "    df = df[['timestamp','OPEN','HIGH','LOW','CLOSE','TICKVOL','VOL','SPREAD']]\n",
    "    print(df.head(),'\\r\\n--------------------------')\n",
    "    # establece como índice la columna de timestamp con una cadencia de 30min para encontrar los valores NaN\n",
    "    if reindex_fillna:\n",
    "        df.set_index('timestamp', inplace=True)\n",
    "        df = df.reindex(pd.date_range(min(df.index), max(df.index), freq=\"1H\"))\n",
    "        # elimina los valores nulos y los rellena con el valor anterior\n",
    "        df.fillna(method='ffill', inplace =True)\n",
    "        print(df.head())\n",
    "    if plot_it:\n",
    "        plt.plot(df.OPEN)\n",
    "        plt.plot(df.HIGH)\n",
    "        plt.plot(df.LOW)\n",
    "        plt.plot(df.CLOSE)\n",
    "        plt.legend(['open','high','low','close'], loc='upper right')        \n",
    "    return df\n",
    "        \n",
    "    \n",
    "####################################################################################\n",
    "####################################################################################\n",
    "\n",
    "df = load_hist('EURUSD_H1.csv',sep=';', reindex_fillna=True, plot_it=True)    \n",
    "\n",
    "# visualizo una sección\n",
    "trace = go.Candlestick(x=df.index[-100:],\n",
    "                               open=df.OPEN[-100:],\n",
    "                               high=df.HIGH[-100:],\n",
    "                               low=df.LOW[-100:],\n",
    "                               close=df.CLOSE[-100:])\n",
    "data = [trace]\n",
    "layout = go.Layout(\n",
    "    autosize=False,\n",
    "    width=1000,\n",
    "    height=700,    \n",
    "    title='Mostrando últimos 100 datos',\n",
    ")\n",
    "fig = go.Figure(data=data, layout=layout)\n",
    "py.iplot(fig)"
   ]
  },
  {
   "cell_type": "code",
   "execution_count": 15,
   "metadata": {},
   "outputs": [
    {
     "data": {
      "text/html": [
       "<div>\n",
       "<style scoped>\n",
       "    .dataframe tbody tr th:only-of-type {\n",
       "        vertical-align: middle;\n",
       "    }\n",
       "\n",
       "    .dataframe tbody tr th {\n",
       "        vertical-align: top;\n",
       "    }\n",
       "\n",
       "    .dataframe thead th {\n",
       "        text-align: right;\n",
       "    }\n",
       "</style>\n",
       "<table border=\"1\" class=\"dataframe\">\n",
       "  <thead>\n",
       "    <tr style=\"text-align: right;\">\n",
       "      <th></th>\n",
       "      <th>OPEN</th>\n",
       "      <th>HIGH</th>\n",
       "      <th>LOW</th>\n",
       "      <th>CLOSE</th>\n",
       "      <th>TICKVOL</th>\n",
       "      <th>VOL</th>\n",
       "      <th>SPREAD</th>\n",
       "    </tr>\n",
       "  </thead>\n",
       "  <tbody>\n",
       "    <tr>\n",
       "      <th>2001-01-01 02:00:00</th>\n",
       "      <td>0.9421</td>\n",
       "      <td>0.9423</td>\n",
       "      <td>0.9419</td>\n",
       "      <td>0.9419</td>\n",
       "      <td>5.0</td>\n",
       "      <td>0.0</td>\n",
       "      <td>50.0</td>\n",
       "    </tr>\n",
       "  </tbody>\n",
       "</table>\n",
       "</div>"
      ],
      "text/plain": [
       "                       OPEN    HIGH     LOW   CLOSE  TICKVOL  VOL  SPREAD\n",
       "2001-01-01 02:00:00  0.9421  0.9423  0.9419  0.9419      5.0  0.0    50.0"
      ]
     },
     "execution_count": 15,
     "metadata": {},
     "output_type": "execute_result"
    }
   ],
   "source": [
    "v = df.values\n",
    "x = pd.DataFrame(data=df.iloc[2:3],columns=df.columns, index = df.iloc[2:3].index)\n",
    "x.head()"
   ]
  },
  {
   "cell_type": "code",
   "execution_count": 23,
   "metadata": {},
   "outputs": [
    {
     "data": {
      "text/html": [
       "<div>\n",
       "<style scoped>\n",
       "    .dataframe tbody tr th:only-of-type {\n",
       "        vertical-align: middle;\n",
       "    }\n",
       "\n",
       "    .dataframe tbody tr th {\n",
       "        vertical-align: top;\n",
       "    }\n",
       "\n",
       "    .dataframe thead th {\n",
       "        text-align: right;\n",
       "    }\n",
       "</style>\n",
       "<table border=\"1\" class=\"dataframe\">\n",
       "  <thead>\n",
       "    <tr style=\"text-align: right;\">\n",
       "      <th></th>\n",
       "      <th>OPEN</th>\n",
       "      <th>HIGH</th>\n",
       "      <th>LOW</th>\n",
       "      <th>CLOSE</th>\n",
       "      <th>TICKVOL</th>\n",
       "      <th>VOL</th>\n",
       "      <th>SPREAD</th>\n",
       "    </tr>\n",
       "  </thead>\n",
       "  <tbody>\n",
       "    <tr>\n",
       "      <th>2001-01-01 04:00:00</th>\n",
       "      <td>0.9421</td>\n",
       "      <td>0.9423</td>\n",
       "      <td>0.9419</td>\n",
       "      <td>0.9419</td>\n",
       "      <td>5.0</td>\n",
       "      <td>0.0</td>\n",
       "      <td>50.0</td>\n",
       "    </tr>\n",
       "    <tr>\n",
       "      <th>2001-01-01 05:00:00</th>\n",
       "      <td>0.9421</td>\n",
       "      <td>0.9423</td>\n",
       "      <td>0.9419</td>\n",
       "      <td>0.9419</td>\n",
       "      <td>5.0</td>\n",
       "      <td>0.0</td>\n",
       "      <td>50.0</td>\n",
       "    </tr>\n",
       "    <tr>\n",
       "      <th>2001-01-01 06:00:00</th>\n",
       "      <td>0.9421</td>\n",
       "      <td>0.9423</td>\n",
       "      <td>0.9419</td>\n",
       "      <td>0.9419</td>\n",
       "      <td>5.0</td>\n",
       "      <td>0.0</td>\n",
       "      <td>50.0</td>\n",
       "    </tr>\n",
       "    <tr>\n",
       "      <th>2001-01-01 07:00:00</th>\n",
       "      <td>0.9421</td>\n",
       "      <td>0.9423</td>\n",
       "      <td>0.9419</td>\n",
       "      <td>0.9419</td>\n",
       "      <td>5.0</td>\n",
       "      <td>0.0</td>\n",
       "      <td>50.0</td>\n",
       "    </tr>\n",
       "    <tr>\n",
       "      <th>2001-01-01 08:00:00</th>\n",
       "      <td>0.9422</td>\n",
       "      <td>0.9424</td>\n",
       "      <td>0.9422</td>\n",
       "      <td>0.9424</td>\n",
       "      <td>2.0</td>\n",
       "      <td>0.0</td>\n",
       "      <td>50.0</td>\n",
       "    </tr>\n",
       "  </tbody>\n",
       "</table>\n",
       "</div>"
      ],
      "text/plain": [
       "                       OPEN    HIGH     LOW   CLOSE  TICKVOL  VOL  SPREAD\n",
       "2001-01-01 04:00:00  0.9421  0.9423  0.9419  0.9419      5.0  0.0    50.0\n",
       "2001-01-01 05:00:00  0.9421  0.9423  0.9419  0.9419      5.0  0.0    50.0\n",
       "2001-01-01 06:00:00  0.9421  0.9423  0.9419  0.9419      5.0  0.0    50.0\n",
       "2001-01-01 07:00:00  0.9421  0.9423  0.9419  0.9419      5.0  0.0    50.0\n",
       "2001-01-01 08:00:00  0.9422  0.9424  0.9422  0.9424      2.0  0.0    50.0"
      ]
     },
     "execution_count": 23,
     "metadata": {},
     "output_type": "execute_result"
    }
   ],
   "source": [
    "x = df[df.index >= df.iloc[4].name]\n",
    "x.head()"
   ]
  },
  {
   "cell_type": "code",
   "execution_count": 10,
   "metadata": {},
   "outputs": [
    {
     "data": {
      "text/plain": [
       "(1,)"
      ]
     },
     "execution_count": 10,
     "metadata": {},
     "output_type": "execute_result"
    }
   ],
   "source": [
    "b.shape"
   ]
  },
  {
   "cell_type": "code",
   "execution_count": 22,
   "metadata": {},
   "outputs": [
    {
     "data": {
      "text/plain": [
       "array([[21, 22, 23, 24],\n",
       "       [11, 12, 13, 14]])"
      ]
     },
     "execution_count": 22,
     "metadata": {},
     "output_type": "execute_result"
    }
   ],
   "source": [
    "b =a \n",
    "b"
   ]
  },
  {
   "cell_type": "code",
   "execution_count": 20,
   "metadata": {},
   "outputs": [
    {
     "data": {
      "text/plain": [
       "array([[11, 12, 13, 14],\n",
       "       [21, 22, 23, 24]])"
      ]
     },
     "execution_count": 20,
     "metadata": {},
     "output_type": "execute_result"
    }
   ],
   "source": [
    "b"
   ]
  },
  {
   "cell_type": "code",
   "execution_count": 23,
   "metadata": {},
   "outputs": [
    {
     "data": {
      "text/plain": [
       "array([[21, 22, 23, 24],\n",
       "       [11, 12, 13, 14]])"
      ]
     },
     "execution_count": 23,
     "metadata": {},
     "output_type": "execute_result"
    }
   ],
   "source": [
    "np.random.shuffle(b)\n",
    "b"
   ]
  },
  {
   "cell_type": "code",
   "execution_count": null,
   "metadata": {},
   "outputs": [],
   "source": []
  }
 ],
 "metadata": {
  "kernelspec": {
   "display_name": "Python [default]",
   "language": "python",
   "name": "python3"
  },
  "language_info": {
   "codemirror_mode": {
    "name": "ipython",
    "version": 3
   },
   "file_extension": ".py",
   "mimetype": "text/x-python",
   "name": "python",
   "nbconvert_exporter": "python",
   "pygments_lexer": "ipython3",
   "version": "3.6.6"
  }
 },
 "nbformat": 4,
 "nbformat_minor": 2
}

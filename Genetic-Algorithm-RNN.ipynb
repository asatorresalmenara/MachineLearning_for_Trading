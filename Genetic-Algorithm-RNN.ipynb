{
 "cells": [
  {
   "cell_type": "markdown",
   "metadata": {},
   "source": [
    "### Optimizing RNN using Genetic Algorithm "
   ]
  },
  {
   "cell_type": "markdown",
   "metadata": {},
   "source": [
    "#### Importing required packages"
   ]
  },
  {
   "cell_type": "code",
   "execution_count": 2,
   "metadata": {},
   "outputs": [],
   "source": [
    "import numpy as np\n",
    "import pandas as pd\n",
    "from sklearn.metrics import mean_squared_error\n",
    "from sklearn.model_selection import train_test_split as split\n",
    "\n",
    "from keras.layers import LSTM, Input, Dense\n",
    "from keras.models import Model\n",
    "\n",
    "from deap import base, creator, tools, algorithms\n",
    "from scipy.stats import bernoulli\n",
    "from bitstring import BitArray\n",
    "\n",
    "np.random.seed(1120)"
   ]
  },
  {
   "cell_type": "markdown",
   "metadata": {},
   "source": [
    "#### Reading dataset and using first 17,257 points as training/validation and rest of the 1500 points as test set."
   ]
  },
  {
   "cell_type": "code",
   "execution_count": 3,
   "metadata": {},
   "outputs": [],
   "source": [
    "data = pd.read_csv('train.csv')\n",
    "data = np.reshape(np.array(data['wp1']),(len(data['wp1']),1))\n",
    "\n",
    "train_data = data[0:17257]\n",
    "test_data = data[17257:]"
   ]
  },
  {
   "cell_type": "markdown",
   "metadata": {},
   "source": [
    "#### Defining Helper Functions"
   ]
  },
  {
   "cell_type": "code",
   "execution_count": 4,
   "metadata": {},
   "outputs": [],
   "source": [
    "def prepare_dataset(data, window_size):\n",
    "    X, Y = np.empty((0,window_size)), np.empty((0))\n",
    "    for i in range(len(data)-window_size-1):\n",
    "        X = np.vstack([X,data[i:(i + window_size),0]])\n",
    "        Y = np.append(Y,data[i + window_size,0])   \n",
    "    X = np.reshape(X,(len(X),window_size,1))\n",
    "    Y = np.reshape(Y,(len(Y),1))\n",
    "    return X, Y\n",
    "\n",
    "def train_evaluate(ga_individual_solution):   \n",
    "    # Decode GA solution to integer for window_size and num_units\n",
    "    window_size_bits = BitArray(ga_individual_solution[0:6])\n",
    "    num_units_bits = BitArray(ga_individual_solution[6:]) \n",
    "    window_size = window_size_bits.uint\n",
    "    num_units = num_units_bits.uint\n",
    "    print('\\nWindow Size: ', window_size, ', Num of Units: ', num_units)\n",
    "    \n",
    "    # Return fitness score of 100 if window_size or num_unit is zero\n",
    "    if window_size == 0 or num_units == 0:\n",
    "        return 100, \n",
    "    \n",
    "    # Segment the train_data based on new window_size; split into train and validation (80/20)\n",
    "    X,Y = prepare_dataset(train_data,window_size)\n",
    "    X_train, X_val, y_train, y_val = split(X, Y, test_size = 0.20, random_state = 1120)\n",
    "    \n",
    "    # Train LSTM model and predict on validation set\n",
    "    inputs = Input(shape=(window_size,1))\n",
    "    x = LSTM(num_units, input_shape=(window_size,1))(inputs)\n",
    "    predictions = Dense(1, activation='linear')(x)\n",
    "    model = Model(inputs=inputs, outputs=predictions)\n",
    "    model.compile(optimizer='adam',loss='mean_squared_error')\n",
    "    model.fit(X_train, y_train, epochs=5, batch_size=10,shuffle=True)\n",
    "    y_pred = model.predict(X_val)\n",
    "    \n",
    "    # Calculate the RMSE score as fitness score for GA\n",
    "    rmse = np.sqrt(mean_squared_error(y_val, y_pred))\n",
    "    print('Validation RMSE: ', rmse,'\\n')\n",
    "    \n",
    "    return rmse,"
   ]
  },
  {
   "cell_type": "markdown",
   "metadata": {},
   "source": [
    "#### Genetic Representation of the Solution"
   ]
  },
  {
   "cell_type": "markdown",
   "metadata": {},
   "source": [
    "<img src=\"genetic_representation.png\" alt=\"Genetic representation of a solution\">"
   ]
  },
  {
   "cell_type": "markdown",
   "metadata": {},
   "source": [
    "#### Genetic Algorithm Overview"
   ]
  },
  {
   "cell_type": "markdown",
   "metadata": {},
   "source": [
    "<img src=\"ga.png\" alt=\"Genetic Algorithm\">"
   ]
  },
  {
   "cell_type": "code",
   "execution_count": 5,
   "metadata": {
    "scrolled": false
   },
   "outputs": [
    {
     "name": "stdout",
     "output_type": "stream",
     "text": [
      "\n",
      "Window Size:  36 , Num of Units:  2\n",
      "Epoch 1/5\n",
      "13776/13776 [==============================] - 15s 1ms/step - loss: 0.0188\n",
      "Epoch 2/5\n",
      "13776/13776 [==============================] - 14s 1ms/step - loss: 0.0089\n",
      "Epoch 3/5\n",
      "13776/13776 [==============================] - 14s 1ms/step - loss: 0.0068\n",
      "Epoch 4/5\n",
      "13776/13776 [==============================] - 14s 1ms/step - loss: 0.0060\n",
      "Epoch 5/5\n",
      "13776/13776 [==============================] - 14s 1ms/step - loss: 0.0057\n",
      "Validation RMSE:  0.07637770768580437 \n",
      "\n",
      "\n",
      "Window Size:  56 , Num of Units:  8\n",
      "Epoch 1/5\n",
      "13760/13760 [==============================] - 22s 2ms/step - loss: 0.0131\n",
      "Epoch 2/5\n",
      "13760/13760 [==============================] - 22s 2ms/step - loss: 0.0064\n",
      "Epoch 3/5\n",
      "13760/13760 [==============================] - 22s 2ms/step - loss: 0.0058\n",
      "Epoch 4/5\n",
      "13760/13760 [==============================] - 22s 2ms/step - loss: 0.0057\n",
      "Epoch 5/5\n",
      "13760/13760 [==============================] - 22s 2ms/step - loss: 0.0057\n",
      "Validation RMSE:  0.07415823310219684 \n",
      "\n",
      "\n",
      "Window Size:  60 , Num of Units:  9\n",
      "Epoch 1/5\n",
      "13756/13756 [==============================] - 23s 2ms/step - loss: 0.0184\n",
      "Epoch 2/5\n",
      "13756/13756 [==============================] - 23s 2ms/step - loss: 0.0074\n",
      "Epoch 3/5\n",
      "13756/13756 [==============================] - 23s 2ms/step - loss: 0.0060\n",
      "Epoch 4/5\n",
      "13756/13756 [==============================] - 23s 2ms/step - loss: 0.0057\n",
      "Epoch 5/5\n",
      "13756/13756 [==============================] - 23s 2ms/step - loss: 0.0057\n",
      "Validation RMSE:  0.07467205677736015 \n",
      "\n",
      "\n",
      "Window Size:  49 , Num of Units:  9\n",
      "Epoch 1/5\n",
      "13765/13765 [==============================] - 19s 1ms/step - loss: 0.0148\n",
      "Epoch 2/5\n",
      "13765/13765 [==============================] - 19s 1ms/step - loss: 0.0066\n",
      "Epoch 3/5\n",
      "13765/13765 [==============================] - 19s 1ms/step - loss: 0.0059\n",
      "Epoch 4/5\n",
      "13765/13765 [==============================] - 19s 1ms/step - loss: 0.0058\n",
      "Epoch 5/5\n",
      "13765/13765 [==============================] - 19s 1ms/step - loss: 0.0058\n",
      "Validation RMSE:  0.07400060879658416 \n",
      "\n",
      "\n",
      "Window Size:  38 , Num of Units:  13\n",
      "Epoch 1/5\n",
      "13774/13774 [==============================] - 16s 1ms/step - loss: 0.0128: 0s \n",
      "Epoch 2/5\n",
      "13774/13774 [==============================] - 16s 1ms/step - loss: 0.0061\n",
      "Epoch 3/5\n",
      "13774/13774 [==============================] - 16s 1ms/step - loss: 0.0058\n",
      "Epoch 4/5\n",
      "13774/13774 [==============================] - 16s 1ms/step - loss: 0.0058\n",
      "Epoch 5/5\n",
      "13774/13774 [==============================] - 16s 1ms/step - loss: 0.0058\n",
      "Validation RMSE:  0.07468905254738221 \n",
      "\n",
      "\n",
      "Window Size:  56 , Num of Units:  9\n",
      "Epoch 1/5\n",
      "13760/13760 [==============================] - 23s 2ms/step - loss: 0.0129\n",
      "Epoch 2/5\n",
      "13760/13760 [==============================] - 22s 2ms/step - loss: 0.0063\n",
      "Epoch 3/5\n",
      "13760/13760 [==============================] - 22s 2ms/step - loss: 0.0058\n",
      "Epoch 4/5\n",
      "13760/13760 [==============================] - 22s 2ms/step - loss: 0.0058\n",
      "Epoch 5/5\n",
      "13760/13760 [==============================] - 22s 2ms/step - loss: 0.0057\n",
      "Validation RMSE:  0.07508720915992195 \n",
      "\n",
      "\n",
      "Window Size:  56 , Num of Units:  9\n",
      "Epoch 1/5\n",
      "13760/13760 [==============================] - 22s 2ms/step - loss: 0.0130\n",
      "Epoch 2/5\n",
      "13760/13760 [==============================] - 21s 2ms/step - loss: 0.0070: 0\n",
      "Epoch 3/5\n",
      "13760/13760 [==============================] - 21s 2ms/step - loss: 0.0061\n",
      "Epoch 4/5\n",
      "13760/13760 [==============================] - 22s 2ms/step - loss: 0.0058\n",
      "Epoch 5/5\n",
      "13760/13760 [==============================] - 22s 2ms/step - loss: 0.0058\n",
      "Validation RMSE:  0.07477915321042444 \n",
      "\n",
      "\n",
      "Window Size:  60 , Num of Units:  8\n",
      "Epoch 1/5\n",
      "13756/13756 [==============================] - 25s 2ms/step - loss: 0.0109\n",
      "Epoch 2/5\n",
      "13756/13756 [==============================] - 24s 2ms/step - loss: 0.0062\n",
      "Epoch 3/5\n",
      "13756/13756 [==============================] - 25s 2ms/step - loss: 0.0058\n",
      "Epoch 4/5\n",
      "13756/13756 [==============================] - 24s 2ms/step - loss: 0.0058\n",
      "Epoch 5/5\n",
      "13756/13756 [==============================] - 24s 2ms/step - loss: 0.0058\n",
      "Validation RMSE:  0.07592817109674126 \n",
      "\n",
      "\n",
      "Window Size:  54 , Num of Units:  9\n",
      "Epoch 1/5\n",
      "13761/13761 [==============================] - 23s 2ms/step - loss: 0.0190\n",
      "Epoch 2/5\n",
      "13761/13761 [==============================] - 22s 2ms/step - loss: 0.0069\n",
      "Epoch 3/5\n",
      "13761/13761 [==============================] - 22s 2ms/step - loss: 0.0058\n",
      "Epoch 4/5\n",
      "13761/13761 [==============================] - 22s 2ms/step - loss: 0.0057\n",
      "Epoch 5/5\n",
      "13761/13761 [==============================] - 22s 2ms/step - loss: 0.0057\n",
      "Validation RMSE:  0.07497289953173172 \n",
      "\n",
      "\n",
      "Window Size:  46 , Num of Units:  8\n",
      "Epoch 1/5\n",
      "13768/13768 [==============================] - 19s 1ms/step - loss: 0.0205\n",
      "Epoch 2/5\n",
      "13768/13768 [==============================] - 18s 1ms/step - loss: 0.0066\n",
      "Epoch 3/5\n",
      "13768/13768 [==============================] - 17s 1ms/step - loss: 0.0059\n",
      "Epoch 4/5\n",
      "13768/13768 [==============================] - 17s 1ms/step - loss: 0.0057\n",
      "Epoch 5/5\n",
      "13768/13768 [==============================] - 17s 1ms/step - loss: 0.0057\n",
      "Validation RMSE:  0.07641452693948933 \n",
      "\n"
     ]
    }
   ],
   "source": [
    "population_size = 4\n",
    "num_generations = 4\n",
    "gene_length = 10\n",
    "\n",
    "# As we are trying to minimize the RMSE score, that's why using -1.0. \n",
    "# In case, when you want to maximize accuracy for instance, use 1.0\n",
    "creator.create('FitnessMax', base.Fitness, weights = (-1.0,))\n",
    "creator.create('Individual', list , fitness = creator.FitnessMax)\n",
    "\n",
    "toolbox = base.Toolbox()\n",
    "toolbox.register('binary', bernoulli.rvs, 0.5)\n",
    "toolbox.register('individual', tools.initRepeat, creator.Individual, toolbox.binary, n = gene_length)\n",
    "toolbox.register('population', tools.initRepeat, list , toolbox.individual)\n",
    "\n",
    "toolbox.register('mate', tools.cxOrdered)\n",
    "toolbox.register('mutate', tools.mutShuffleIndexes, indpb = 0.6)\n",
    "toolbox.register('select', tools.selRoulette)\n",
    "toolbox.register('evaluate', train_evaluate)\n",
    "\n",
    "population = toolbox.population(n = population_size)\n",
    "r = algorithms.eaSimple(population, toolbox, cxpb = 0.4, mutpb = 0.1, ngen = num_generations, verbose = False)"
   ]
  },
  {
   "cell_type": "markdown",
   "metadata": {},
   "source": [
    "#### Print top N solutions - (1st only, for now)"
   ]
  },
  {
   "cell_type": "code",
   "execution_count": null,
   "metadata": {},
   "outputs": [],
   "source": [
    "best_individuals = tools.selBest(population,k = 1)\n",
    "best_window_size = None\n",
    "best_num_units = None\n",
    "\n",
    "for bi in best_individuals:\n",
    "    window_size_bits = BitArray(bi[0:6])\n",
    "    num_units_bits = BitArray(bi[6:]) \n",
    "    best_window_size = window_size_bits.uint\n",
    "    best_num_units = num_units_bits.uint\n",
    "    print('\\nWindow Size: ', best_window_size, ', Num of Units: ', best_num_units)"
   ]
  },
  {
   "cell_type": "markdown",
   "metadata": {},
   "source": [
    "#### Train the model using best configuration on complete training set and make predictions on the test set"
   ]
  },
  {
   "cell_type": "code",
   "execution_count": null,
   "metadata": {
    "collapsed": true
   },
   "outputs": [],
   "source": [
    "X_train,y_train = prepare_dataset(train_data,best_window_size)\n",
    "X_test, y_test = prepare_dataset(test_data,best_window_size)\n",
    "\n",
    "inputs = Input(shape=(best_window_size,1))\n",
    "x = LSTM(best_num_units, input_shape=(best_window_size,1))(inputs)\n",
    "predictions = Dense(1, activation='linear')(x)\n",
    "model = Model(inputs = inputs, outputs = predictions)\n",
    "model.compile(optimizer='adam',loss='mean_squared_error')\n",
    "model.fit(X_train, y_train, epochs=5, batch_size=10,shuffle=True)\n",
    "y_pred = model.predict(X_test)\n",
    "\n",
    "rmse = np.sqrt(mean_squared_error(y_test, y_pred))\n",
    "print('Test RMSE: ', rmse)"
   ]
  }
 ],
 "metadata": {
  "kernelspec": {
   "display_name": "Python [default]",
   "language": "python",
   "name": "python3"
  },
  "language_info": {
   "codemirror_mode": {
    "name": "ipython",
    "version": 3
   },
   "file_extension": ".py",
   "mimetype": "text/x-python",
   "name": "python",
   "nbconvert_exporter": "python",
   "pygments_lexer": "ipython3",
   "version": "3.6.6"
  }
 },
 "nbformat": 4,
 "nbformat_minor": 2
}

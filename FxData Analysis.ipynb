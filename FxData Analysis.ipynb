{
 "cells": [
  {
   "cell_type": "markdown",
   "metadata": {
    "colab_type": "text",
    "id": "pQWfP-VMvX7c"
   },
   "source": [
    "# Análisis de datos\n",
    "\n",
    "En este notebook, voy a realizar un análisis de los datos para extraer alguna conclusión que guíe el futuro desarrollo del modelo predictivo.\n",
    "\n",
    "Para ello utilizo mi propio módulo 'MyUtils' en el que están funciones para carga de archivos csv, integración de indicadores técnicos, visualización de datos, etc...\n"
   ]
  },
  {
   "cell_type": "code",
   "execution_count": 84,
   "metadata": {},
   "outputs": [],
   "source": [
    "####################################################################################\n",
    "# Librerías de manejo de datos \n",
    "import pandas as pd\n",
    "from pandas import concat\n",
    "import numpy as np\n",
    "\n",
    "####################################################################################\n",
    "# Librerías de machine learning\n",
    "import sklearn\n",
    "from sklearn import preprocessing\n",
    "from sklearn import metrics as sk\n",
    "from sklearn.externals import joblib\n",
    "import keras\n",
    "from keras.models import Model, Sequential\n",
    "from keras.layers import Input, LSTM, Dense, Dropout, BatchNormalization\n",
    "from keras.optimizers import Adam\n",
    "from keras.callbacks import TensorBoard, ModelCheckpoint\n",
    "from keras.optimizers import Adam\n",
    "from keras.constraints import max_norm\n",
    "\n",
    "####################################################################################\n",
    "# Librerías de visualización\n",
    "import seaborn as sns\n",
    "import matplotlib.pyplot as plt\n",
    "from matplotlib import dates, ticker\n",
    "from matplotlib.dates import (MONDAY, DateFormatter, MonthLocator, WeekdayLocator, date2num)\n",
    "import matplotlib as mpl\n",
    "import plotly\n",
    "import plotly.plotly as py\n",
    "import plotly.graph_objs as go\n",
    "from plotly.graph_objs import Scatter, Layout\n",
    "import plotly.tools as tls\n",
    "tls.set_credentials_file(username='raulMrello', api_key='qX9S30YRQ866mGF9b89u')\n",
    "\n",
    "####################################################################################\n",
    "# TA-Lib: instalación y carga de la librería\n",
    "import talib\n",
    "\n",
    "####################################################################################\n",
    "# Otras utilidades\n",
    "import datetime\n",
    "import time\n",
    "import os\n",
    "import sys\n",
    "import math"
   ]
  },
  {
   "cell_type": "code",
   "execution_count": 2,
   "metadata": {},
   "outputs": [
    {
     "name": "stdout",
     "output_type": "stream",
     "text": [
      "Ready!\n"
     ]
    }
   ],
   "source": [
    "import MyUtils as utils\n",
    "print('Ready!')"
   ]
  },
  {
   "cell_type": "markdown",
   "metadata": {},
   "source": [
    "##### Cargo el histórico de un archivo csv\n",
    "\n",
    "Además, hago lo siguiente:\n",
    "\n",
    "- Obtengo todos los datos hora a hora y los que faltan los relleno con el último dato anterior válido.\n",
    "- Elimino los días sin cotización (fines de semana)."
   ]
  },
  {
   "cell_type": "code",
   "execution_count": 3,
   "metadata": {},
   "outputs": [
    {
     "name": "stdout",
     "output_type": "stream",
     "text": [
      "Deleting weekends...\n"
     ]
    },
    {
     "data": {
      "text/html": [
       "<div>\n",
       "<style scoped>\n",
       "    .dataframe tbody tr th:only-of-type {\n",
       "        vertical-align: middle;\n",
       "    }\n",
       "\n",
       "    .dataframe tbody tr th {\n",
       "        vertical-align: top;\n",
       "    }\n",
       "\n",
       "    .dataframe thead th {\n",
       "        text-align: right;\n",
       "    }\n",
       "</style>\n",
       "<table border=\"1\" class=\"dataframe\">\n",
       "  <thead>\n",
       "    <tr style=\"text-align: right;\">\n",
       "      <th></th>\n",
       "      <th>OPEN</th>\n",
       "      <th>HIGH</th>\n",
       "      <th>LOW</th>\n",
       "      <th>CLOSE</th>\n",
       "      <th>OC2</th>\n",
       "      <th>HLC3</th>\n",
       "      <th>OHLC4</th>\n",
       "      <th>CLOSE_DIFF</th>\n",
       "      <th>HHMM</th>\n",
       "      <th>WEEKDAY</th>\n",
       "      <th>TICKVOL</th>\n",
       "      <th>VOL</th>\n",
       "      <th>SPREAD</th>\n",
       "    </tr>\n",
       "  </thead>\n",
       "  <tbody>\n",
       "    <tr>\n",
       "      <th>2001-01-01 01:00:00</th>\n",
       "      <td>0.9421</td>\n",
       "      <td>0.9423</td>\n",
       "      <td>0.9419</td>\n",
       "      <td>0.9419</td>\n",
       "      <td>0.942</td>\n",
       "      <td>0.942033</td>\n",
       "      <td>0.94205</td>\n",
       "      <td>0.0</td>\n",
       "      <td>60</td>\n",
       "      <td>0</td>\n",
       "      <td>5.0</td>\n",
       "      <td>0.0</td>\n",
       "      <td>50.0</td>\n",
       "    </tr>\n",
       "    <tr>\n",
       "      <th>2001-01-01 02:00:00</th>\n",
       "      <td>0.9421</td>\n",
       "      <td>0.9423</td>\n",
       "      <td>0.9419</td>\n",
       "      <td>0.9419</td>\n",
       "      <td>0.942</td>\n",
       "      <td>0.942033</td>\n",
       "      <td>0.94205</td>\n",
       "      <td>0.0</td>\n",
       "      <td>120</td>\n",
       "      <td>0</td>\n",
       "      <td>5.0</td>\n",
       "      <td>0.0</td>\n",
       "      <td>50.0</td>\n",
       "    </tr>\n",
       "    <tr>\n",
       "      <th>2001-01-01 03:00:00</th>\n",
       "      <td>0.9421</td>\n",
       "      <td>0.9423</td>\n",
       "      <td>0.9419</td>\n",
       "      <td>0.9419</td>\n",
       "      <td>0.942</td>\n",
       "      <td>0.942033</td>\n",
       "      <td>0.94205</td>\n",
       "      <td>0.0</td>\n",
       "      <td>180</td>\n",
       "      <td>0</td>\n",
       "      <td>5.0</td>\n",
       "      <td>0.0</td>\n",
       "      <td>50.0</td>\n",
       "    </tr>\n",
       "    <tr>\n",
       "      <th>2001-01-01 04:00:00</th>\n",
       "      <td>0.9421</td>\n",
       "      <td>0.9423</td>\n",
       "      <td>0.9419</td>\n",
       "      <td>0.9419</td>\n",
       "      <td>0.942</td>\n",
       "      <td>0.942033</td>\n",
       "      <td>0.94205</td>\n",
       "      <td>0.0</td>\n",
       "      <td>240</td>\n",
       "      <td>0</td>\n",
       "      <td>5.0</td>\n",
       "      <td>0.0</td>\n",
       "      <td>50.0</td>\n",
       "    </tr>\n",
       "    <tr>\n",
       "      <th>2001-01-01 05:00:00</th>\n",
       "      <td>0.9421</td>\n",
       "      <td>0.9423</td>\n",
       "      <td>0.9419</td>\n",
       "      <td>0.9419</td>\n",
       "      <td>0.942</td>\n",
       "      <td>0.942033</td>\n",
       "      <td>0.94205</td>\n",
       "      <td>0.0</td>\n",
       "      <td>300</td>\n",
       "      <td>0</td>\n",
       "      <td>5.0</td>\n",
       "      <td>0.0</td>\n",
       "      <td>50.0</td>\n",
       "    </tr>\n",
       "  </tbody>\n",
       "</table>\n",
       "</div>"
      ],
      "text/plain": [
       "                       OPEN    HIGH     LOW   CLOSE    OC2      HLC3    OHLC4  \\\n",
       "2001-01-01 01:00:00  0.9421  0.9423  0.9419  0.9419  0.942  0.942033  0.94205   \n",
       "2001-01-01 02:00:00  0.9421  0.9423  0.9419  0.9419  0.942  0.942033  0.94205   \n",
       "2001-01-01 03:00:00  0.9421  0.9423  0.9419  0.9419  0.942  0.942033  0.94205   \n",
       "2001-01-01 04:00:00  0.9421  0.9423  0.9419  0.9419  0.942  0.942033  0.94205   \n",
       "2001-01-01 05:00:00  0.9421  0.9423  0.9419  0.9419  0.942  0.942033  0.94205   \n",
       "\n",
       "                     CLOSE_DIFF  HHMM  WEEKDAY  TICKVOL  VOL  SPREAD  \n",
       "2001-01-01 01:00:00         0.0    60        0      5.0  0.0    50.0  \n",
       "2001-01-01 02:00:00         0.0   120        0      5.0  0.0    50.0  \n",
       "2001-01-01 03:00:00         0.0   180        0      5.0  0.0    50.0  \n",
       "2001-01-01 04:00:00         0.0   240        0      5.0  0.0    50.0  \n",
       "2001-01-01 05:00:00         0.0   300        0      5.0  0.0    50.0  "
      ]
     },
     "execution_count": 3,
     "metadata": {},
     "output_type": "execute_result"
    }
   ],
   "source": [
    "# Carga el histórico\n",
    "df = utils.load_hist('EURUSD_H1.csv', sep=';', remove_weekends=True)\n",
    "df.head()\n"
   ]
  },
  {
   "cell_type": "code",
   "execution_count": 4,
   "metadata": {},
   "outputs": [
    {
     "data": {
      "text/plain": [
       "[<matplotlib.lines.Line2D at 0x32895978>]"
      ]
     },
     "execution_count": 4,
     "metadata": {},
     "output_type": "execute_result"
    },
    {
     "data": {
      "image/png": "[encoded data removed]",
      "text/plain": [
       "<Figure size 576x288 with 2 Axes>"
      ]
     },
     "metadata": {
      "needs_background": "light"
     },
     "output_type": "display_data"
    }
   ],
   "source": [
    "plt.figure(figsize=(8,4))\n",
    "plt.subplot(1,2,1)\n",
    "plt.plot(df.CLOSE[0:200])\n",
    "plt.subplot(1,2,2)\n",
    "plt.plot(df.CLOSE.values[0:200])"
   ]
  },
  {
   "cell_type": "markdown",
   "metadata": {},
   "source": [
    "#### Incluyo diferentes indicadores técnicos como MACD, RSI, Bollinger, etc..."
   ]
  },
  {
   "cell_type": "code",
   "execution_count": 5,
   "metadata": {},
   "outputs": [
    {
     "data": {
      "text/html": [
       "<div>\n",
       "<style scoped>\n",
       "    .dataframe tbody tr th:only-of-type {\n",
       "        vertical-align: middle;\n",
       "    }\n",
       "\n",
       "    .dataframe tbody tr th {\n",
       "        vertical-align: top;\n",
       "    }\n",
       "\n",
       "    .dataframe thead th {\n",
       "        text-align: right;\n",
       "    }\n",
       "</style>\n",
       "<table border=\"1\" class=\"dataframe\">\n",
       "  <thead>\n",
       "    <tr style=\"text-align: right;\">\n",
       "      <th></th>\n",
       "      <th>OPEN</th>\n",
       "      <th>HIGH</th>\n",
       "      <th>LOW</th>\n",
       "      <th>CLOSE</th>\n",
       "      <th>OC2</th>\n",
       "      <th>HLC3</th>\n",
       "      <th>OHLC4</th>\n",
       "      <th>BB_UPPER_CLOSE</th>\n",
       "      <th>BB_MIDDLE_CLOSE</th>\n",
       "      <th>BB_LOWER_CLOSE</th>\n",
       "      <th>...</th>\n",
       "      <th>BB_WIDTH_SMA50_CLOSE</th>\n",
       "      <th>SMA4_CLOSE</th>\n",
       "      <th>SMA16_CLOSE</th>\n",
       "      <th>SMA40_CLOSE</th>\n",
       "      <th>MACD_CLOSE</th>\n",
       "      <th>MACD_SIG_CLOSE</th>\n",
       "      <th>MACD_HIST_CLOSE</th>\n",
       "      <th>RSI_CLOSE</th>\n",
       "      <th>WILLR</th>\n",
       "      <th>ATR</th>\n",
       "    </tr>\n",
       "  </thead>\n",
       "  <tbody>\n",
       "    <tr>\n",
       "      <th>2001-01-03 21:00:00</th>\n",
       "      <td>0.9298</td>\n",
       "      <td>0.9301</td>\n",
       "      <td>0.9277</td>\n",
       "      <td>0.929</td>\n",
       "      <td>0.9294</td>\n",
       "      <td>0.928933</td>\n",
       "      <td>0.92915</td>\n",
       "      <td>0.963335</td>\n",
       "      <td>0.947855</td>\n",
       "      <td>0.932375</td>\n",
       "      <td>...</td>\n",
       "      <td>0.984695</td>\n",
       "      <td>0.9343</td>\n",
       "      <td>0.947169</td>\n",
       "      <td>0.946955</td>\n",
       "      <td>-0.003375</td>\n",
       "      <td>-0.000444</td>\n",
       "      <td>-0.00293</td>\n",
       "      <td>22.470458</td>\n",
       "      <td>-94.966443</td>\n",
       "      <td>0.003942</td>\n",
       "    </tr>\n",
       "  </tbody>\n",
       "</table>\n",
       "<p>1 rows × 22 columns</p>\n",
       "</div>"
      ],
      "text/plain": [
       "                       OPEN    HIGH     LOW  CLOSE     OC2      HLC3    OHLC4  \\\n",
       "2001-01-03 21:00:00  0.9298  0.9301  0.9277  0.929  0.9294  0.928933  0.92915   \n",
       "\n",
       "                     BB_UPPER_CLOSE  BB_MIDDLE_CLOSE  BB_LOWER_CLOSE  \\\n",
       "2001-01-03 21:00:00        0.963335         0.947855        0.932375   \n",
       "\n",
       "                       ...     BB_WIDTH_SMA50_CLOSE  SMA4_CLOSE  SMA16_CLOSE  \\\n",
       "2001-01-03 21:00:00    ...                 0.984695      0.9343     0.947169   \n",
       "\n",
       "                     SMA40_CLOSE  MACD_CLOSE  MACD_SIG_CLOSE  MACD_HIST_CLOSE  \\\n",
       "2001-01-03 21:00:00     0.946955   -0.003375       -0.000444         -0.00293   \n",
       "\n",
       "                     RSI_CLOSE      WILLR       ATR  \n",
       "2001-01-03 21:00:00  22.470458 -94.966443  0.003942  \n",
       "\n",
       "[1 rows x 22 columns]"
      ]
     },
     "execution_count": 5,
     "metadata": {},
     "output_type": "execute_result"
    }
   ],
   "source": [
    "df = utils.add_indicators(df, applied=['CLOSE'], base_cols=['OPEN','HIGH','LOW','CLOSE','OC2','HLC3','OHLC4'])\n",
    "df.head(1)"
   ]
  },
  {
   "cell_type": "markdown",
   "metadata": {},
   "source": [
    "#### Incluyo diferentes columnas de salida\n",
    "\n",
    "Incluyo las siguientes predicciones:\n",
    "\n",
    "1. Predicción de la diferencia de cierre entre el instante actual y las siguientes N horas\n",
    "2. Máximo drawdown 'bullish' para ese periodo\n",
    "3. Máximo drawdown 'bearish para ese periodo"
   ]
  },
  {
   "cell_type": "code",
   "execution_count": 17,
   "metadata": {},
   "outputs": [
    {
     "name": "stdout",
     "output_type": "stream",
     "text": [
      "Done!\n"
     ]
    }
   ],
   "source": [
    "forecast_candles = 6\n",
    "df['OUT_DIF'] = 0.0\n",
    "df['OUT_DRAWD_BULL'] = 0.0\n",
    "df['OUT_DRAWD_BEAR'] = 0.0\n",
    "values = df.CLOSE.values\n",
    "for i in range(df.shape[0]-forecast_candles):\n",
    "  v0,v1,v2 = utils.drawdown_calculator(values[i:i+forecast_candles])\n",
    "  df.iloc[i]['OUT_DIF'], df.iloc[i]['OUT_DRAWD_BULL'], df.iloc[i]['OUT_DRAWD_BEAR'] = v0, v1, v2\n",
    "\n",
    "# elimino las últimas 'forecast_candles' filas ya que no contienen datos válidos\n",
    "df = df[:-forecast_candles]\n",
    "print('Done!')\n"
   ]
  },
  {
   "cell_type": "code",
   "execution_count": 44,
   "metadata": {},
   "outputs": [
    {
     "name": "stdout",
     "output_type": "stream",
     "text": [
      "r: 22856\n",
      "Calculado: 0.0029000000000001247 -0.0010999999999998789 0.0040000000000000036\n",
      "En tabla: 0.0029000000000001247 -0.0010999999999998789 0.0040000000000000036\n"
     ]
    },
    {
     "data": {
      "image/png": "[encoded data removed]",
      "text/plain": [
       "<Figure size 432x288 with 1 Axes>"
      ]
     },
     "metadata": {
      "needs_background": "light"
     },
     "output_type": "display_data"
    }
   ],
   "source": [
    "# chequeo de forma aleatoria que las salidas están bien formadas:\n",
    "r = np.random.randint(df.shape[0]-forecast_candles)\n",
    "v0,v1,v2 = utils.drawdown_calculator(df.CLOSE.values[r:r+forecast_candles], True)\n",
    "print('r:',r)\n",
    "print('Calculado:',v0,v1,v2)\n",
    "print('En tabla:',df.iloc[r]['OUT_DIF'],df.iloc[r]['OUT_DRAWD_BULL'],df.iloc[r]['OUT_DRAWD_BEAR'])\n"
   ]
  },
  {
   "cell_type": "markdown",
   "metadata": {},
   "source": [
    "#### Incluyo patrones de vela\n",
    "\n",
    "Añado todos los patrones que proporciona la librería TA-Lib:\n",
    "\n",
    "- Los valores (-1) indican la presencia de una vela 'bullish'\n",
    "- Los valores (+1) indican la presencia de una vela 'bearish'\n",
    "\n",
    "Además añado las columnas de salida a predecir:\n",
    "\n",
    "- OUT_DIR: Dirección del cierre en la próxima vela (+1(crece sobre), -1(cae bajo) la desviación estándar del cierre diario\n",
    "- OUT_QTY: Cantidad del movimiento en la diferencia del cierre diario"
   ]
  },
  {
   "cell_type": "code",
   "execution_count": 45,
   "metadata": {},
   "outputs": [
    {
     "data": {
      "text/html": [
       "<div>\n",
       "<style scoped>\n",
       "    .dataframe tbody tr th:only-of-type {\n",
       "        vertical-align: middle;\n",
       "    }\n",
       "\n",
       "    .dataframe tbody tr th {\n",
       "        vertical-align: top;\n",
       "    }\n",
       "\n",
       "    .dataframe thead th {\n",
       "        text-align: right;\n",
       "    }\n",
       "</style>\n",
       "<table border=\"1\" class=\"dataframe\">\n",
       "  <thead>\n",
       "    <tr style=\"text-align: right;\">\n",
       "      <th></th>\n",
       "      <th>OPEN</th>\n",
       "      <th>HIGH</th>\n",
       "      <th>LOW</th>\n",
       "      <th>CLOSE</th>\n",
       "      <th>OC2</th>\n",
       "      <th>HLC3</th>\n",
       "      <th>OHLC4</th>\n",
       "      <th>BB_UPPER_CLOSE</th>\n",
       "      <th>BB_MIDDLE_CLOSE</th>\n",
       "      <th>BB_LOWER_CLOSE</th>\n",
       "      <th>...</th>\n",
       "      <th>CDLSPINNINGTOP</th>\n",
       "      <th>CDLSTALLEDPATTERN</th>\n",
       "      <th>CDLSTICKSANDWICH</th>\n",
       "      <th>CDLTAKURI</th>\n",
       "      <th>CDLTASUKIGAP</th>\n",
       "      <th>CDLTHRUSTING</th>\n",
       "      <th>CDLTRISTAR</th>\n",
       "      <th>CDLUNIQUE3RIVER</th>\n",
       "      <th>CDLUPSIDEGAP2CROWS</th>\n",
       "      <th>CDLXSIDEGAP3METHODS</th>\n",
       "    </tr>\n",
       "  </thead>\n",
       "  <tbody>\n",
       "    <tr>\n",
       "      <th>2001-01-03 21:00:00</th>\n",
       "      <td>0.9298</td>\n",
       "      <td>0.9301</td>\n",
       "      <td>0.9277</td>\n",
       "      <td>0.9290</td>\n",
       "      <td>0.92940</td>\n",
       "      <td>0.928933</td>\n",
       "      <td>0.929150</td>\n",
       "      <td>0.963335</td>\n",
       "      <td>0.947855</td>\n",
       "      <td>0.932375</td>\n",
       "      <td>...</td>\n",
       "      <td>0</td>\n",
       "      <td>0</td>\n",
       "      <td>0</td>\n",
       "      <td>0</td>\n",
       "      <td>0</td>\n",
       "      <td>0</td>\n",
       "      <td>0</td>\n",
       "      <td>0</td>\n",
       "      <td>0</td>\n",
       "      <td>0</td>\n",
       "    </tr>\n",
       "    <tr>\n",
       "      <th>2001-01-03 22:00:00</th>\n",
       "      <td>0.9290</td>\n",
       "      <td>0.9296</td>\n",
       "      <td>0.9270</td>\n",
       "      <td>0.9271</td>\n",
       "      <td>0.92805</td>\n",
       "      <td>0.927900</td>\n",
       "      <td>0.928175</td>\n",
       "      <td>0.964534</td>\n",
       "      <td>0.946680</td>\n",
       "      <td>0.928826</td>\n",
       "      <td>...</td>\n",
       "      <td>0</td>\n",
       "      <td>0</td>\n",
       "      <td>0</td>\n",
       "      <td>0</td>\n",
       "      <td>0</td>\n",
       "      <td>0</td>\n",
       "      <td>0</td>\n",
       "      <td>0</td>\n",
       "      <td>0</td>\n",
       "      <td>0</td>\n",
       "    </tr>\n",
       "    <tr>\n",
       "      <th>2001-01-03 23:00:00</th>\n",
       "      <td>0.9270</td>\n",
       "      <td>0.9283</td>\n",
       "      <td>0.9262</td>\n",
       "      <td>0.9276</td>\n",
       "      <td>0.92730</td>\n",
       "      <td>0.927367</td>\n",
       "      <td>0.927275</td>\n",
       "      <td>0.965136</td>\n",
       "      <td>0.945545</td>\n",
       "      <td>0.925954</td>\n",
       "      <td>...</td>\n",
       "      <td>0</td>\n",
       "      <td>0</td>\n",
       "      <td>0</td>\n",
       "      <td>0</td>\n",
       "      <td>0</td>\n",
       "      <td>0</td>\n",
       "      <td>0</td>\n",
       "      <td>0</td>\n",
       "      <td>0</td>\n",
       "      <td>0</td>\n",
       "    </tr>\n",
       "    <tr>\n",
       "      <th>2001-01-04 00:00:00</th>\n",
       "      <td>0.9276</td>\n",
       "      <td>0.9288</td>\n",
       "      <td>0.9269</td>\n",
       "      <td>0.9286</td>\n",
       "      <td>0.92810</td>\n",
       "      <td>0.928100</td>\n",
       "      <td>0.927975</td>\n",
       "      <td>0.965212</td>\n",
       "      <td>0.944445</td>\n",
       "      <td>0.923678</td>\n",
       "      <td>...</td>\n",
       "      <td>0</td>\n",
       "      <td>0</td>\n",
       "      <td>0</td>\n",
       "      <td>0</td>\n",
       "      <td>0</td>\n",
       "      <td>0</td>\n",
       "      <td>0</td>\n",
       "      <td>0</td>\n",
       "      <td>0</td>\n",
       "      <td>0</td>\n",
       "    </tr>\n",
       "    <tr>\n",
       "      <th>2001-01-04 01:00:00</th>\n",
       "      <td>0.9287</td>\n",
       "      <td>0.9312</td>\n",
       "      <td>0.9284</td>\n",
       "      <td>0.9299</td>\n",
       "      <td>0.92930</td>\n",
       "      <td>0.929833</td>\n",
       "      <td>0.929550</td>\n",
       "      <td>0.964862</td>\n",
       "      <td>0.943395</td>\n",
       "      <td>0.921928</td>\n",
       "      <td>...</td>\n",
       "      <td>0</td>\n",
       "      <td>0</td>\n",
       "      <td>0</td>\n",
       "      <td>0</td>\n",
       "      <td>0</td>\n",
       "      <td>0</td>\n",
       "      <td>0</td>\n",
       "      <td>0</td>\n",
       "      <td>0</td>\n",
       "      <td>0</td>\n",
       "    </tr>\n",
       "  </tbody>\n",
       "</table>\n",
       "<p>5 rows × 86 columns</p>\n",
       "</div>"
      ],
      "text/plain": [
       "                       OPEN    HIGH     LOW   CLOSE      OC2      HLC3  \\\n",
       "2001-01-03 21:00:00  0.9298  0.9301  0.9277  0.9290  0.92940  0.928933   \n",
       "2001-01-03 22:00:00  0.9290  0.9296  0.9270  0.9271  0.92805  0.927900   \n",
       "2001-01-03 23:00:00  0.9270  0.9283  0.9262  0.9276  0.92730  0.927367   \n",
       "2001-01-04 00:00:00  0.9276  0.9288  0.9269  0.9286  0.92810  0.928100   \n",
       "2001-01-04 01:00:00  0.9287  0.9312  0.9284  0.9299  0.92930  0.929833   \n",
       "\n",
       "                        OHLC4  BB_UPPER_CLOSE  BB_MIDDLE_CLOSE  \\\n",
       "2001-01-03 21:00:00  0.929150        0.963335         0.947855   \n",
       "2001-01-03 22:00:00  0.928175        0.964534         0.946680   \n",
       "2001-01-03 23:00:00  0.927275        0.965136         0.945545   \n",
       "2001-01-04 00:00:00  0.927975        0.965212         0.944445   \n",
       "2001-01-04 01:00:00  0.929550        0.964862         0.943395   \n",
       "\n",
       "                     BB_LOWER_CLOSE         ...           CDLSPINNINGTOP  \\\n",
       "2001-01-03 21:00:00        0.932375         ...                        0   \n",
       "2001-01-03 22:00:00        0.928826         ...                        0   \n",
       "2001-01-03 23:00:00        0.925954         ...                        0   \n",
       "2001-01-04 00:00:00        0.923678         ...                        0   \n",
       "2001-01-04 01:00:00        0.921928         ...                        0   \n",
       "\n",
       "                     CDLSTALLEDPATTERN  CDLSTICKSANDWICH  CDLTAKURI  \\\n",
       "2001-01-03 21:00:00                  0                 0          0   \n",
       "2001-01-03 22:00:00                  0                 0          0   \n",
       "2001-01-03 23:00:00                  0                 0          0   \n",
       "2001-01-04 00:00:00                  0                 0          0   \n",
       "2001-01-04 01:00:00                  0                 0          0   \n",
       "\n",
       "                     CDLTASUKIGAP  CDLTHRUSTING  CDLTRISTAR  CDLUNIQUE3RIVER  \\\n",
       "2001-01-03 21:00:00             0             0           0                0   \n",
       "2001-01-03 22:00:00             0             0           0                0   \n",
       "2001-01-03 23:00:00             0             0           0                0   \n",
       "2001-01-04 00:00:00             0             0           0                0   \n",
       "2001-01-04 01:00:00             0             0           0                0   \n",
       "\n",
       "                     CDLUPSIDEGAP2CROWS  CDLXSIDEGAP3METHODS  \n",
       "2001-01-03 21:00:00                   0                    0  \n",
       "2001-01-03 22:00:00                   0                    0  \n",
       "2001-01-03 23:00:00                   0                    0  \n",
       "2001-01-04 00:00:00                   0                    0  \n",
       "2001-01-04 01:00:00                   0                    0  \n",
       "\n",
       "[5 rows x 86 columns]"
      ]
     },
     "execution_count": 45,
     "metadata": {},
     "output_type": "execute_result"
    }
   ],
   "source": [
    "# añado todos los patrones de velas de la librería TALib\n",
    "df = utils.add_candle_patterns(df)\n",
    "df.head()"
   ]
  },
  {
   "cell_type": "code",
   "execution_count": 46,
   "metadata": {},
   "outputs": [
    {
     "name": "stdout",
     "output_type": "stream",
     "text": [
      "OPEN : 1.6015\n",
      "HIGH : 1.6038\n",
      "LOW : 1.5992\n",
      "CLOSE : 1.6016\n",
      "OC2 : 1.6006\n",
      "HLC3 : 1.6006\n",
      "OHLC4 : 1.6005249999999998\n",
      "BB_UPPER_CLOSE : 1.6046511646182784\n",
      "BB_MIDDLE_CLOSE : 1.598254999999991\n",
      "BB_LOWER_CLOSE : 1.5957986001523528\n",
      "BB_WIDTH_CLOSE : 0.0797492670862825\n",
      "BB_PERCENT_CLOSE : 1.5897247321435966\n",
      "BB_WIDTH_SMA50_CLOSE : 2.283743844977028\n",
      "SMA4_CLOSE : 1.5998500000000013\n",
      "SMA16_CLOSE : 1.5986062499999945\n",
      "SMA40_CLOSE : 1.5949025000000052\n",
      "MACD_CLOSE : 0.013127821459353317\n",
      "MACD_SIG_CLOSE : 0.012040058549434126\n",
      "MACD_HIST_CLOSE : 0.004799704358736596\n",
      "RSI_CLOSE : 96.78748813965564\n",
      "WILLR : -0.0\n",
      "ATR : 0.01253704413370088\n",
      "OUT_DIF : 0.03820000000000001\n",
      "OUT_DRAWD_BULL : 0.0\n",
      "OUT_DRAWD_BEAR : 0.039799999999999836\n",
      "CDL2CROWS : 0.0\n",
      "CDL3BLACKCROWS : 0.0\n",
      "CDL3INSIDE : 1.0\n",
      "CDL3LINESTRIKE : 1.0\n",
      "CDL3OUTSIDE : 1.0\n",
      "CDL3STARSINSOUTH : 0.0\n",
      "CDL3WHITESOLDIERS : 1.0\n",
      "CDLABANDONEDBABY : 0.0\n",
      "CDLADVANCEBLOCK : 0.0\n",
      "CDLBELTHOLD : 1.0\n",
      "CDLBREAKAWAY : 1.0\n",
      "CDLCLOSINGMARUBOZU : 1.0\n",
      "CDLCONCEALBABYSWALL : 1.0\n",
      "CDLCOUNTERATTACK : 1.0\n",
      "CDLDARKCLOUDCOVER : 0.0\n",
      "CDLDOJI : 1.0\n",
      "CDLDOJISTAR : 1.0\n",
      "CDLDRAGONFLYDOJI : 1.0\n",
      "CDLENGULFING : 1.0\n",
      "CDLEVENINGDOJISTAR : 0.0\n",
      "CDLEVENINGSTAR : 0.0\n",
      "CDLGAPSIDESIDEWHITE : 1.0\n",
      "CDLGRAVESTONEDOJI : 1.0\n",
      "CDLHAMMER : 1.0\n",
      "CDLHANGINGMAN : 0.0\n",
      "CDLHARAMI : 1.0\n",
      "CDLHARAMICROSS : 1.0\n",
      "CDLHIGHWAVE : 1.0\n",
      "CDLHIKKAKE : 1.0\n",
      "CDLHIKKAKEMOD : 1.0\n",
      "CDLHOMINGPIGEON : 1.0\n",
      "CDLIDENTICAL3CROWS : 0.0\n",
      "CDLINNECK : 0.0\n",
      "CDLINVERTEDHAMMER : 1.0\n",
      "CDLKICKING : 0.0\n",
      "CDLKICKINGBYLENGTH : 0.0\n",
      "CDLLADDERBOTTOM : 1.0\n",
      "CDLLONGLEGGEDDOJI : 1.0\n",
      "CDLLONGLINE : 1.0\n",
      "CDLMARUBOZU : 1.0\n",
      "CDLMATCHINGLOW : 1.0\n",
      "CDLMATHOLD : 0.0\n",
      "CDLMORNINGDOJISTAR : 1.0\n",
      "CDLMORNINGSTAR : 1.0\n",
      "CDLONNECK : 0.0\n",
      "CDLPIERCING : 1.0\n",
      "CDLRICKSHAWMAN : 1.0\n",
      "CDLRISEFALL3METHODS : 1.0\n",
      "CDLSEPARATINGLINES : 1.0\n",
      "CDLSHOOTINGSTAR : 0.0\n",
      "CDLSHORTLINE : 1.0\n",
      "CDLSPINNINGTOP : 1.0\n",
      "CDLSTALLEDPATTERN : 0.0\n",
      "CDLSTICKSANDWICH : 1.0\n",
      "CDLTAKURI : 1.0\n",
      "CDLTASUKIGAP : 1.0\n",
      "CDLTHRUSTING : 0.0\n",
      "CDLTRISTAR : 1.0\n",
      "CDLUNIQUE3RIVER : 1.0\n",
      "CDLUPSIDEGAP2CROWS : 0.0\n",
      "CDLXSIDEGAP3METHODS : 1.0\n"
     ]
    }
   ],
   "source": [
    "# Limito el valor de los patrones al rango (-1,+1)\n",
    "for c in df.columns:\n",
    "  if 'CDL' in c:\n",
    "    vmax = max(abs(df[c].max()), abs(df[c].min()))\n",
    "    if vmax != 0.0:\n",
    "      df[c] = df[c]/vmax\n",
    "    \n",
    "for c in df.columns:\n",
    "  print(c,':',df[c].describe()['max'])"
   ]
  },
  {
   "cell_type": "markdown",
   "metadata": {},
   "source": [
    "#### Creo listas de features por tipo"
   ]
  },
  {
   "cell_type": "code",
   "execution_count": 49,
   "metadata": {
    "scrolled": true
   },
   "outputs": [
    {
     "data": {
      "text/plain": [
       "['OPEN', 'HIGH', 'LOW', 'CLOSE', 'OC2', 'HLC3', 'OHLC4']"
      ]
     },
     "execution_count": 49,
     "metadata": {},
     "output_type": "execute_result"
    }
   ],
   "source": [
    "# columnas relativas al precio\n",
    "cols_price = ['OPEN','HIGH','LOW','CLOSE','OC2','HLC3','OHLC4']\n",
    "cols_price"
   ]
  },
  {
   "cell_type": "code",
   "execution_count": 50,
   "metadata": {},
   "outputs": [
    {
     "data": {
      "text/plain": [
       "['CDL2CROWS',\n",
       " 'CDL3BLACKCROWS',\n",
       " 'CDL3INSIDE',\n",
       " 'CDL3LINESTRIKE',\n",
       " 'CDL3OUTSIDE',\n",
       " 'CDL3STARSINSOUTH',\n",
       " 'CDL3WHITESOLDIERS',\n",
       " 'CDLABANDONEDBABY',\n",
       " 'CDLADVANCEBLOCK',\n",
       " 'CDLBELTHOLD',\n",
       " 'CDLBREAKAWAY',\n",
       " 'CDLCLOSINGMARUBOZU',\n",
       " 'CDLCONCEALBABYSWALL',\n",
       " 'CDLCOUNTERATTACK',\n",
       " 'CDLDARKCLOUDCOVER',\n",
       " 'CDLDOJI',\n",
       " 'CDLDOJISTAR',\n",
       " 'CDLDRAGONFLYDOJI',\n",
       " 'CDLENGULFING',\n",
       " 'CDLEVENINGDOJISTAR',\n",
       " 'CDLEVENINGSTAR',\n",
       " 'CDLGAPSIDESIDEWHITE',\n",
       " 'CDLGRAVESTONEDOJI',\n",
       " 'CDLHAMMER',\n",
       " 'CDLHANGINGMAN',\n",
       " 'CDLHARAMI',\n",
       " 'CDLHARAMICROSS',\n",
       " 'CDLHIGHWAVE',\n",
       " 'CDLHIKKAKE',\n",
       " 'CDLHIKKAKEMOD',\n",
       " 'CDLHOMINGPIGEON',\n",
       " 'CDLIDENTICAL3CROWS',\n",
       " 'CDLINNECK',\n",
       " 'CDLINVERTEDHAMMER',\n",
       " 'CDLKICKING',\n",
       " 'CDLKICKINGBYLENGTH',\n",
       " 'CDLLADDERBOTTOM',\n",
       " 'CDLLONGLEGGEDDOJI',\n",
       " 'CDLLONGLINE',\n",
       " 'CDLMARUBOZU',\n",
       " 'CDLMATCHINGLOW',\n",
       " 'CDLMATHOLD',\n",
       " 'CDLMORNINGDOJISTAR',\n",
       " 'CDLMORNINGSTAR',\n",
       " 'CDLONNECK',\n",
       " 'CDLPIERCING',\n",
       " 'CDLRICKSHAWMAN',\n",
       " 'CDLRISEFALL3METHODS',\n",
       " 'CDLSEPARATINGLINES',\n",
       " 'CDLSHOOTINGSTAR',\n",
       " 'CDLSHORTLINE',\n",
       " 'CDLSPINNINGTOP',\n",
       " 'CDLSTALLEDPATTERN',\n",
       " 'CDLSTICKSANDWICH',\n",
       " 'CDLTAKURI',\n",
       " 'CDLTASUKIGAP',\n",
       " 'CDLTHRUSTING',\n",
       " 'CDLTRISTAR',\n",
       " 'CDLUNIQUE3RIVER',\n",
       " 'CDLUPSIDEGAP2CROWS',\n",
       " 'CDLXSIDEGAP3METHODS']"
      ]
     },
     "execution_count": 50,
     "metadata": {},
     "output_type": "execute_result"
    }
   ],
   "source": [
    "# columnas relativas a patrones de velas\n",
    "cols_patterns = [c for c in df.columns if 'CDL' in c]\n",
    "cols_patterns"
   ]
  },
  {
   "cell_type": "code",
   "execution_count": 53,
   "metadata": {},
   "outputs": [
    {
     "data": {
      "text/plain": [
       "['OUT_DIF', 'OUT_DRAWD_BULL', 'OUT_DRAWD_BEAR']"
      ]
     },
     "execution_count": 53,
     "metadata": {},
     "output_type": "execute_result"
    }
   ],
   "source": [
    "# columnas relativas a las salidas a predecir\n",
    "cols_out = [c for c in df.columns if 'OUT_' in c]\n",
    "cols_out"
   ]
  },
  {
   "cell_type": "code",
   "execution_count": 72,
   "metadata": {},
   "outputs": [
    {
     "data": {
      "text/plain": [
       "['BB_UPPER_CLOSE',\n",
       " 'BB_MIDDLE_CLOSE',\n",
       " 'BB_LOWER_CLOSE',\n",
       " 'BB_WIDTH_CLOSE',\n",
       " 'BB_PERCENT_CLOSE',\n",
       " 'BB_WIDTH_SMA50_CLOSE',\n",
       " 'SMA4_CLOSE',\n",
       " 'SMA16_CLOSE',\n",
       " 'SMA40_CLOSE',\n",
       " 'MACD_CLOSE',\n",
       " 'MACD_SIG_CLOSE',\n",
       " 'MACD_HIST_CLOSE',\n",
       " 'RSI_CLOSE',\n",
       " 'WILLR',\n",
       " 'ATR']"
      ]
     },
     "execution_count": 72,
     "metadata": {},
     "output_type": "execute_result"
    }
   ],
   "source": [
    "# columnas relativas a indicadores técnicos\n",
    "l = df.columns.tolist()\n",
    "for c in (cols_price + cols_patterns + cols_out):\n",
    "  l.remove(c)\n",
    "cols_indicators = l\n",
    "cols_indicators"
   ]
  },
  {
   "cell_type": "markdown",
   "metadata": {},
   "source": [
    "### Análisis estadístico\n",
    "\n",
    "A continuación voy a realizar un análisis para ver si consigo extraer algo en claro de los datos de entrada"
   ]
  },
  {
   "cell_type": "code",
   "execution_count": 83,
   "metadata": {},
   "outputs": [
    {
     "data": {
      "text/plain": [
       "<matplotlib.image.AxesImage at 0x364421d0>"
      ]
     },
     "execution_count": 83,
     "metadata": {},
     "output_type": "execute_result"
    },
    {
     "data": {
      "text/plain": [
       "<Figure size 1440x1440 with 0 Axes>"
      ]
     },
     "metadata": {},
     "output_type": "display_data"
    },
    {
     "data": {
      "image/png": "[encoded data removed]",
      "text/plain": [
       "<Figure size 288x288 with 1 Axes>"
      ]
     },
     "metadata": {
      "needs_background": "light"
     },
     "output_type": "display_data"
    }
   ],
   "source": [
    "# Visualizo la matriz de correlación\n",
    "plt.figure(figsize=(20,20))\n",
    "plt.matshow(df.corr())\n",
    "f, ax = plt.subplots(figsize=(20, 20))\n",
    "corr = df.corr()\n",
    "sns.heatmap(corr, mask=np.zeros_like(corr, dtype=np.bool), cmap=sns.diverging_palette(220, 10, as_cmap=True),\n",
    "            square=True, ax=ax)"
   ]
  },
  {
   "cell_type": "markdown",
   "metadata": {},
   "source": [
    "En primer lugar voy a mostrar algunas gráficas de 'features' en relación con diferentes salidas:"
   ]
  },
  {
   "cell_type": "code",
   "execution_count": 78,
   "metadata": {},
   "outputs": [
    {
     "data": {
      "text/plain": [
       "<matplotlib.collections.PathCollection at 0x32a93ac8>"
      ]
     },
     "execution_count": 78,
     "metadata": {},
     "output_type": "execute_result"
    },
    {
     "data": {
      "image/png": "[encoded data removed]",
      "text/plain": [
       "<Figure size 864x288 with 3 Axes>"
      ]
     },
     "metadata": {
      "needs_background": "light"
     },
     "output_type": "display_data"
    }
   ],
   "source": [
    "plt.figure(figsize=(12,4))\n",
    "plt.subplot(1,3,1)\n",
    "plt.scatter(df.CLOSE.values, df.OUT_DIF.values)\n",
    "plt.subplot(1,3,2)\n",
    "plt.scatter(df.CLOSE.values, df.OUT_DRAWD_BULL.values)\n",
    "plt.subplot(1,3,3)\n",
    "plt.scatter(df.CLOSE.values, df.OUT_DRAWD_BEAR.values)"
   ]
  },
  {
   "cell_type": "code",
   "execution_count": 80,
   "metadata": {},
   "outputs": [
    {
     "data": {
      "text/plain": [
       "<matplotlib.collections.PathCollection at 0x2aeddb38>"
      ]
     },
     "execution_count": 80,
     "metadata": {},
     "output_type": "execute_result"
    },
    {
     "data": {
      "image/png": "[encoded data removed]",
      "text/plain": [
       "<Figure size 864x288 with 3 Axes>"
      ]
     },
     "metadata": {
      "needs_background": "light"
     },
     "output_type": "display_data"
    }
   ],
   "source": [
    "plt.figure(figsize=(12,4))\n",
    "plt.subplot(1,3,1)\n",
    "plt.scatter(df.MACD_CLOSE.values, df.RSI_CLOSE.values)\n",
    "plt.subplot(1,3,2)\n",
    "plt.scatter(df.MACD_CLOSE.values, df.BB_PERCENT_CLOSE.values)\n",
    "plt.subplot(1,3,3)\n",
    "plt.scatter(df.MACD_CLOSE.values, df.ATR.values)"
   ]
  }
 ],
 "metadata": {
  "accelerator": "TPU",
  "colab": {
   "collapsed_sections": [],
   "name": "FinTech_LSTM.ipynb",
   "provenance": [],
   "version": "0.3.2"
  },
  "kernelspec": {
   "display_name": "Python [conda env:keras]",
   "language": "python",
   "name": "conda-env-keras-py"
  },
  "language_info": {
   "codemirror_mode": {
    "name": "ipython",
    "version": 3
   },
   "file_extension": ".py",
   "mimetype": "text/x-python",
   "name": "python",
   "nbconvert_exporter": "python",
   "pygments_lexer": "ipython3",
   "version": "3.6.6"
  }
 },
 "nbformat": 4,
 "nbformat_minor": 1
}

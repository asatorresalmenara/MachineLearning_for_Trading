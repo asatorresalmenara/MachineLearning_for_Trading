{
 "cells": [
  {
   "cell_type": "markdown",
   "metadata": {
    "colab_type": "text",
    "id": "pQWfP-VMvX7c"
   },
   "source": [
    "# Análisis de datos\n",
    "\n",
    "En este notebook, voy a realizar un análisis de los datos para extraer alguna conclusión que guíe el futuro desarrollo del modelo predictivo.\n",
    "\n",
    "Para ello utilizo mi propio módulo 'MyUtils' en el que están funciones para carga de archivos csv, integración de indicadores técnicos, visualización de datos, etc...\n"
   ]
  },
  {
   "cell_type": "code",
   "execution_count": 1,
   "metadata": {},
   "outputs": [
    {
     "name": "stderr",
     "output_type": "stream",
     "text": [
      "Using TensorFlow backend.\n"
     ]
    }
   ],
   "source": [
    "####################################################################################\n",
    "# Librerías de manejo de datos \n",
    "import pandas as pd\n",
    "from pandas import concat\n",
    "from pandas.plotting import scatter_matrix\n",
    "import numpy as np\n",
    "\n",
    "####################################################################################\n",
    "# Librerías de machine learning\n",
    "import sklearn\n",
    "from sklearn import preprocessing\n",
    "from sklearn import metrics as sk\n",
    "from sklearn.externals import joblib\n",
    "import keras\n",
    "from keras.models import Model, Sequential\n",
    "from keras.layers import Input, LSTM, Dense, Dropout, BatchNormalization\n",
    "from keras.optimizers import Adam\n",
    "from keras.callbacks import TensorBoard, ModelCheckpoint\n",
    "from keras.optimizers import Adam\n",
    "from keras.constraints import max_norm\n",
    "\n",
    "####################################################################################\n",
    "# Librerías de visualización\n",
    "import seaborn as sns\n",
    "import matplotlib.pyplot as plt\n",
    "from matplotlib import dates, ticker\n",
    "from matplotlib.dates import (MONDAY, DateFormatter, MonthLocator, WeekdayLocator, date2num)\n",
    "import matplotlib as mpl\n",
    "import plotly\n",
    "import plotly.plotly as py\n",
    "import plotly.graph_objs as go\n",
    "from plotly.graph_objs import Scatter, Layout\n",
    "import plotly.tools as tls\n",
    "tls.set_credentials_file(username='raulMrello', api_key='qX9S30YRQ866mGF9b89u')\n",
    "\n",
    "####################################################################################\n",
    "# TA-Lib: instalación y carga de la librería\n",
    "import talib\n",
    "\n",
    "####################################################################################\n",
    "# Otras utilidades\n",
    "import datetime\n",
    "import time\n",
    "import os\n",
    "import sys\n",
    "import math"
   ]
  },
  {
   "cell_type": "code",
   "execution_count": 2,
   "metadata": {},
   "outputs": [
    {
     "name": "stdout",
     "output_type": "stream",
     "text": [
      "Ready!\n"
     ]
    }
   ],
   "source": [
    "import MyUtils as utils\n",
    "print('Ready!')"
   ]
  },
  {
   "cell_type": "markdown",
   "metadata": {},
   "source": [
    "##### Cargo el histórico de un archivo csv\n",
    "\n",
    "Además, hago lo siguiente:\n",
    "\n",
    "- Obtengo todos los datos hora a hora y los que faltan los relleno con el último dato anterior válido.\n",
    "- Elimino los días sin cotización (fines de semana)."
   ]
  },
  {
   "cell_type": "code",
   "execution_count": 3,
   "metadata": {},
   "outputs": [
    {
     "name": "stdout",
     "output_type": "stream",
     "text": [
      "Deleting weekends...\n"
     ]
    },
    {
     "data": {
      "text/html": [
       "<div>\n",
       "<style scoped>\n",
       "    .dataframe tbody tr th:only-of-type {\n",
       "        vertical-align: middle;\n",
       "    }\n",
       "\n",
       "    .dataframe tbody tr th {\n",
       "        vertical-align: top;\n",
       "    }\n",
       "\n",
       "    .dataframe thead th {\n",
       "        text-align: right;\n",
       "    }\n",
       "</style>\n",
       "<table border=\"1\" class=\"dataframe\">\n",
       "  <thead>\n",
       "    <tr style=\"text-align: right;\">\n",
       "      <th></th>\n",
       "      <th>OPEN</th>\n",
       "      <th>HIGH</th>\n",
       "      <th>LOW</th>\n",
       "      <th>CLOSE</th>\n",
       "      <th>OC2</th>\n",
       "      <th>HLC3</th>\n",
       "      <th>OHLC4</th>\n",
       "      <th>CLOSE_DIFF</th>\n",
       "      <th>HHMM</th>\n",
       "      <th>WEEKDAY</th>\n",
       "      <th>TICKVOL</th>\n",
       "      <th>VOL</th>\n",
       "      <th>SPREAD</th>\n",
       "    </tr>\n",
       "  </thead>\n",
       "  <tbody>\n",
       "    <tr>\n",
       "      <th>2001-01-01 01:00:00</th>\n",
       "      <td>0.9421</td>\n",
       "      <td>0.9423</td>\n",
       "      <td>0.9419</td>\n",
       "      <td>0.9419</td>\n",
       "      <td>0.942</td>\n",
       "      <td>0.942033</td>\n",
       "      <td>0.94205</td>\n",
       "      <td>0.0</td>\n",
       "      <td>60</td>\n",
       "      <td>0</td>\n",
       "      <td>5.0</td>\n",
       "      <td>0.0</td>\n",
       "      <td>50.0</td>\n",
       "    </tr>\n",
       "    <tr>\n",
       "      <th>2001-01-01 02:00:00</th>\n",
       "      <td>0.9421</td>\n",
       "      <td>0.9423</td>\n",
       "      <td>0.9419</td>\n",
       "      <td>0.9419</td>\n",
       "      <td>0.942</td>\n",
       "      <td>0.942033</td>\n",
       "      <td>0.94205</td>\n",
       "      <td>0.0</td>\n",
       "      <td>120</td>\n",
       "      <td>0</td>\n",
       "      <td>5.0</td>\n",
       "      <td>0.0</td>\n",
       "      <td>50.0</td>\n",
       "    </tr>\n",
       "    <tr>\n",
       "      <th>2001-01-01 03:00:00</th>\n",
       "      <td>0.9421</td>\n",
       "      <td>0.9423</td>\n",
       "      <td>0.9419</td>\n",
       "      <td>0.9419</td>\n",
       "      <td>0.942</td>\n",
       "      <td>0.942033</td>\n",
       "      <td>0.94205</td>\n",
       "      <td>0.0</td>\n",
       "      <td>180</td>\n",
       "      <td>0</td>\n",
       "      <td>5.0</td>\n",
       "      <td>0.0</td>\n",
       "      <td>50.0</td>\n",
       "    </tr>\n",
       "    <tr>\n",
       "      <th>2001-01-01 04:00:00</th>\n",
       "      <td>0.9421</td>\n",
       "      <td>0.9423</td>\n",
       "      <td>0.9419</td>\n",
       "      <td>0.9419</td>\n",
       "      <td>0.942</td>\n",
       "      <td>0.942033</td>\n",
       "      <td>0.94205</td>\n",
       "      <td>0.0</td>\n",
       "      <td>240</td>\n",
       "      <td>0</td>\n",
       "      <td>5.0</td>\n",
       "      <td>0.0</td>\n",
       "      <td>50.0</td>\n",
       "    </tr>\n",
       "    <tr>\n",
       "      <th>2001-01-01 05:00:00</th>\n",
       "      <td>0.9421</td>\n",
       "      <td>0.9423</td>\n",
       "      <td>0.9419</td>\n",
       "      <td>0.9419</td>\n",
       "      <td>0.942</td>\n",
       "      <td>0.942033</td>\n",
       "      <td>0.94205</td>\n",
       "      <td>0.0</td>\n",
       "      <td>300</td>\n",
       "      <td>0</td>\n",
       "      <td>5.0</td>\n",
       "      <td>0.0</td>\n",
       "      <td>50.0</td>\n",
       "    </tr>\n",
       "  </tbody>\n",
       "</table>\n",
       "</div>"
      ],
      "text/plain": [
       "                       OPEN    HIGH     LOW   CLOSE    OC2      HLC3    OHLC4  \\\n",
       "2001-01-01 01:00:00  0.9421  0.9423  0.9419  0.9419  0.942  0.942033  0.94205   \n",
       "2001-01-01 02:00:00  0.9421  0.9423  0.9419  0.9419  0.942  0.942033  0.94205   \n",
       "2001-01-01 03:00:00  0.9421  0.9423  0.9419  0.9419  0.942  0.942033  0.94205   \n",
       "2001-01-01 04:00:00  0.9421  0.9423  0.9419  0.9419  0.942  0.942033  0.94205   \n",
       "2001-01-01 05:00:00  0.9421  0.9423  0.9419  0.9419  0.942  0.942033  0.94205   \n",
       "\n",
       "                     CLOSE_DIFF  HHMM  WEEKDAY  TICKVOL  VOL  SPREAD  \n",
       "2001-01-01 01:00:00         0.0    60        0      5.0  0.0    50.0  \n",
       "2001-01-01 02:00:00         0.0   120        0      5.0  0.0    50.0  \n",
       "2001-01-01 03:00:00         0.0   180        0      5.0  0.0    50.0  \n",
       "2001-01-01 04:00:00         0.0   240        0      5.0  0.0    50.0  \n",
       "2001-01-01 05:00:00         0.0   300        0      5.0  0.0    50.0  "
      ]
     },
     "execution_count": 3,
     "metadata": {},
     "output_type": "execute_result"
    }
   ],
   "source": [
    "# Carga el histórico\n",
    "df = utils.load_hist('EURUSD_H1.csv', sep=';', remove_weekends=True)\n",
    "df.head()\n"
   ]
  },
  {
   "cell_type": "code",
   "execution_count": null,
   "metadata": {},
   "outputs": [
    {
     "data": {
      "text/plain": [
       "[<matplotlib.lines.Line2D at 0x315aa518>]"
      ]
     },
     "execution_count": 4,
     "metadata": {},
     "output_type": "execute_result"
    },
    {
     "data": {
      "image/png": "[encoded data removed]",
      "text/plain": [
       "<Figure size 576x288 with 2 Axes>"
      ]
     },
     "metadata": {
      "needs_background": "light"
     },
     "output_type": "display_data"
    }
   ],
   "source": [
    "plt.figure(figsize=(8,4))\n",
    "plt.subplot(1,2,1)\n",
    "plt.plot(df.CLOSE[0:200])\n",
    "plt.subplot(1,2,2)\n",
    "plt.plot(df.CLOSE.values[0:200])"
   ]
  },
  {
   "cell_type": "markdown",
   "metadata": {},
   "source": [
    "#### Incluyo diferentes indicadores técnicos como MACD, RSI, Bollinger, etc..."
   ]
  },
  {
   "cell_type": "code",
   "execution_count": null,
   "metadata": {},
   "outputs": [
    {
     "data": {
      "text/html": [
       "<div>\n",
       "<style scoped>\n",
       "    .dataframe tbody tr th:only-of-type {\n",
       "        vertical-align: middle;\n",
       "    }\n",
       "\n",
       "    .dataframe tbody tr th {\n",
       "        vertical-align: top;\n",
       "    }\n",
       "\n",
       "    .dataframe thead th {\n",
       "        text-align: right;\n",
       "    }\n",
       "</style>\n",
       "<table border=\"1\" class=\"dataframe\">\n",
       "  <thead>\n",
       "    <tr style=\"text-align: right;\">\n",
       "      <th></th>\n",
       "      <th>OPEN</th>\n",
       "      <th>HIGH</th>\n",
       "      <th>LOW</th>\n",
       "      <th>CLOSE</th>\n",
       "      <th>OC2</th>\n",
       "      <th>HLC3</th>\n",
       "      <th>OHLC4</th>\n",
       "      <th>BB_UPPER_CLOSE</th>\n",
       "      <th>BB_MIDDLE_CLOSE</th>\n",
       "      <th>BB_LOWER_CLOSE</th>\n",
       "      <th>...</th>\n",
       "      <th>SMA16_CLOSE</th>\n",
       "      <th>SMA40_CLOSE</th>\n",
       "      <th>MACD_CLOSE</th>\n",
       "      <th>MACD_SIG_CLOSE</th>\n",
       "      <th>MACD_HIST_CLOSE</th>\n",
       "      <th>RSI_CLOSE</th>\n",
       "      <th>WILLR</th>\n",
       "      <th>ATR</th>\n",
       "      <th>ATR_SMA4</th>\n",
       "      <th>ATR_SMA12</th>\n",
       "    </tr>\n",
       "  </thead>\n",
       "  <tbody>\n",
       "    <tr>\n",
       "      <th>2001-01-02 16:00:00</th>\n",
       "      <td>0.9417</td>\n",
       "      <td>0.9489</td>\n",
       "      <td>0.9412</td>\n",
       "      <td>0.9475</td>\n",
       "      <td>0.9446</td>\n",
       "      <td>0.945867</td>\n",
       "      <td>0.944825</td>\n",
       "      <td>0.947421</td>\n",
       "      <td>0.94187</td>\n",
       "      <td>0.936319</td>\n",
       "      <td>...</td>\n",
       "      <td>0.941994</td>\n",
       "      <td>0.941877</td>\n",
       "      <td>0.00076</td>\n",
       "      <td>0.000284</td>\n",
       "      <td>0.000476</td>\n",
       "      <td>65.237858</td>\n",
       "      <td>-12.5</td>\n",
       "      <td>0.002463</td>\n",
       "      <td>0.002102</td>\n",
       "      <td>0.001739</td>\n",
       "    </tr>\n",
       "  </tbody>\n",
       "</table>\n",
       "<p>1 rows × 25 columns</p>\n",
       "</div>"
      ],
      "text/plain": [
       "                       OPEN    HIGH     LOW   CLOSE     OC2      HLC3  \\\n",
       "2001-01-02 16:00:00  0.9417  0.9489  0.9412  0.9475  0.9446  0.945867   \n",
       "\n",
       "                        OHLC4  BB_UPPER_CLOSE  BB_MIDDLE_CLOSE  \\\n",
       "2001-01-02 16:00:00  0.944825        0.947421          0.94187   \n",
       "\n",
       "                     BB_LOWER_CLOSE    ...      SMA16_CLOSE  SMA40_CLOSE  \\\n",
       "2001-01-02 16:00:00        0.936319    ...         0.941994     0.941877   \n",
       "\n",
       "                     MACD_CLOSE  MACD_SIG_CLOSE  MACD_HIST_CLOSE  RSI_CLOSE  \\\n",
       "2001-01-02 16:00:00     0.00076        0.000284         0.000476  65.237858   \n",
       "\n",
       "                     WILLR       ATR  ATR_SMA4  ATR_SMA12  \n",
       "2001-01-02 16:00:00  -12.5  0.002463  0.002102   0.001739  \n",
       "\n",
       "[1 rows x 25 columns]"
      ]
     },
     "execution_count": 5,
     "metadata": {},
     "output_type": "execute_result"
    }
   ],
   "source": [
    "df = utils.add_indicators(df, applied=['CLOSE'], base_cols=['OPEN','HIGH','LOW','CLOSE','OC2','HLC3','OHLC4'])\n",
    "df.head(1)"
   ]
  },
  {
   "cell_type": "markdown",
   "metadata": {},
   "source": [
    "## Análisis de la volatilidad"
   ]
  },
  {
   "cell_type": "markdown",
   "metadata": {},
   "source": [
    "Me interesa saber, si es posible predecir la volatilidad de la próxima sesión, dado:\n",
    "\n",
    "- ATR       : atr actual\n",
    "- ATR_SMA4  : media móvil del atr de 4 periodos\n",
    "- ATR_SMA12 : idem para 12 periodos\n",
    "- BB_WIDTH  : anchura de las bandas bollinger\n",
    "- BB_WIDTH_SMA4  : media móvil de la anchura de bandas de 4 periodos\n",
    "- BB_WIDTH_SMA12 : idem para 12 periodos"
   ]
  },
  {
   "cell_type": "code",
   "execution_count": null,
   "metadata": {},
   "outputs": [
    {
     "data": {
      "text/plain": [
       "array([[<matplotlib.axes._subplots.AxesSubplot object at 0x000000001AE7AF98>,\n",
       "        <matplotlib.axes._subplots.AxesSubplot object at 0x000000001AEEB400>,\n",
       "        <matplotlib.axes._subplots.AxesSubplot object at 0x0000000030082978>,\n",
       "        <matplotlib.axes._subplots.AxesSubplot object at 0x00000000300A9EF0>,\n",
       "        <matplotlib.axes._subplots.AxesSubplot object at 0x00000000300DA4A8>,\n",
       "        <matplotlib.axes._subplots.AxesSubplot object at 0x0000000030100A20>,\n",
       "        <matplotlib.axes._subplots.AxesSubplot object at 0x000000003012AF98>],\n",
       "       [<matplotlib.axes._subplots.AxesSubplot object at 0x0000000030159588>,\n",
       "        <matplotlib.axes._subplots.AxesSubplot object at 0x00000000301595C0>,\n",
       "        <matplotlib.axes._subplots.AxesSubplot object at 0x00000000301B3080>,\n",
       "        <matplotlib.axes._subplots.AxesSubplot object at 0x00000000301D85F8>,\n",
       "        <matplotlib.axes._subplots.AxesSubplot object at 0x0000000030203B70>,\n",
       "        <matplotlib.axes._subplots.AxesSubplot object at 0x0000000030236128>,\n",
       "        <matplotlib.axes._subplots.AxesSubplot object at 0x000000003025C6A0>],\n",
       "       [<matplotlib.axes._subplots.AxesSubplot object at 0x0000000030283C18>,\n",
       "        <matplotlib.axes._subplots.AxesSubplot object at 0x00000000302B51D0>,\n",
       "        <matplotlib.axes._subplots.AxesSubplot object at 0x00000000302DD748>,\n",
       "        <matplotlib.axes._subplots.AxesSubplot object at 0x0000000030305CC0>,\n",
       "        <matplotlib.axes._subplots.AxesSubplot object at 0x0000000030337278>,\n",
       "        <matplotlib.axes._subplots.AxesSubplot object at 0x000000003035E7F0>,\n",
       "        <matplotlib.axes._subplots.AxesSubplot object at 0x0000000030388D68>],\n",
       "       [<matplotlib.axes._subplots.AxesSubplot object at 0x00000000303B6320>,\n",
       "        <matplotlib.axes._subplots.AxesSubplot object at 0x00000000303DF898>,\n",
       "        <matplotlib.axes._subplots.AxesSubplot object at 0x0000000030407DD8>,\n",
       "        <matplotlib.axes._subplots.AxesSubplot object at 0x0000000030438390>,\n",
       "        <matplotlib.axes._subplots.AxesSubplot object at 0x0000000030462908>,\n",
       "        <matplotlib.axes._subplots.AxesSubplot object at 0x0000000030489E80>,\n",
       "        <matplotlib.axes._subplots.AxesSubplot object at 0x00000000304BB438>],\n",
       "       [<matplotlib.axes._subplots.AxesSubplot object at 0x00000000304E19B0>,\n",
       "        <matplotlib.axes._subplots.AxesSubplot object at 0x000000003050AF28>,\n",
       "        <matplotlib.axes._subplots.AxesSubplot object at 0x000000003053C4E0>,\n",
       "        <matplotlib.axes._subplots.AxesSubplot object at 0x0000000030563A58>,\n",
       "        <matplotlib.axes._subplots.AxesSubplot object at 0x000000003058CFD0>,\n",
       "        <matplotlib.axes._subplots.AxesSubplot object at 0x00000000305BE588>,\n",
       "        <matplotlib.axes._subplots.AxesSubplot object at 0x00000000305E5B00>],\n",
       "       [<matplotlib.axes._subplots.AxesSubplot object at 0x00000000306160B8>,\n",
       "        <matplotlib.axes._subplots.AxesSubplot object at 0x000000003063D630>,\n",
       "        <matplotlib.axes._subplots.AxesSubplot object at 0x0000000030665BA8>,\n",
       "        <matplotlib.axes._subplots.AxesSubplot object at 0x0000000030696160>,\n",
       "        <matplotlib.axes._subplots.AxesSubplot object at 0x00000000306BE6D8>,\n",
       "        <matplotlib.axes._subplots.AxesSubplot object at 0x00000000306E7C50>,\n",
       "        <matplotlib.axes._subplots.AxesSubplot object at 0x0000000030718208>],\n",
       "       [<matplotlib.axes._subplots.AxesSubplot object at 0x0000000030740780>,\n",
       "        <matplotlib.axes._subplots.AxesSubplot object at 0x0000000030768CF8>,\n",
       "        <matplotlib.axes._subplots.AxesSubplot object at 0x00000000307992B0>,\n",
       "        <matplotlib.axes._subplots.AxesSubplot object at 0x00000000307C0828>,\n",
       "        <matplotlib.axes._subplots.AxesSubplot object at 0x00000000307EADA0>,\n",
       "        <matplotlib.axes._subplots.AxesSubplot object at 0x000000003081A358>,\n",
       "        <matplotlib.axes._subplots.AxesSubplot object at 0x00000000308418D0>]],\n",
       "      dtype=object)"
      ]
     },
     "execution_count": 6,
     "metadata": {},
     "output_type": "execute_result"
    }
   ],
   "source": [
    "df_atr = df[['BB_WIDTH_SMA12_CLOSE','BB_WIDTH_SMA4_CLOSE','BB_WIDTH_CLOSE','ATR_SMA12','ATR_SMA4','ATR']].copy()\n",
    "df_atr['OUT'] = df_atr.ATR.shift(-1)\n",
    "scatter_matrix(df_atr, figsize=(16,16))\n"
   ]
  },
  {
   "cell_type": "markdown",
   "metadata": {},
   "source": [
    "Visualizo la matriz de correlación para ver cómo se relacionan las variables entre si."
   ]
  },
  {
   "cell_type": "code",
   "execution_count": null,
   "metadata": {},
   "outputs": [],
   "source": [
    "# Visualizo la matriz de correlación\n",
    "utils.plot_heatmap('', df_atr, (18,10))"
   ]
  },
  {
   "cell_type": "markdown",
   "metadata": {},
   "source": [
    "Parece que el indicador Bollinger no tiene mucho efecto, sin embargo es un indicador que mide la volatilidad (al menos la anchura de bandas).\n",
    "\n",
    "Voy a crear un par de indicadores sintéticos para medir la diferencia de la anchura de bandas y el atr en el corto plazo (4 peridos) frente al medio plazo (12 periodos), para intentar extraer tendencias de volatilidad"
   ]
  },
  {
   "cell_type": "code",
   "execution_count": null,
   "metadata": {},
   "outputs": [],
   "source": [
    "df_atr2 = df_atr.copy()\n",
    "df_atr2['BBWr'] = (df_atr2.BB_WIDTH_CLOSE - df_atr2.BB_WIDTH_SMA4_CLOSE)/(df_atr2.BB_WIDTH_SMA4_CLOSE - df_atr2.BB_WIDTH_SMA12_CLOSE)\n",
    "df_atr2['ATRr'] = (df_atr2.ATR - df_atr2.ATR_SMA4)/(df_atr2.ATR_SMA4 - df_atr2.ATR_SMA12)\n",
    "df_atr2 = df_atr2[['BBWr','ATRr','OUT']]\n",
    "utils.plot_heatmap('', df_atr2, (18,10))\n"
   ]
  },
  {
   "cell_type": "markdown",
   "metadata": {},
   "source": [
    "Está claro que no hay una correlación. Voy a probar a unificar ambas variables de entrada en otra sintética"
   ]
  },
  {
   "cell_type": "code",
   "execution_count": null,
   "metadata": {},
   "outputs": [],
   "source": [
    "df_atr2['BBWATR'] = df_atr2.BBWr * df_atr2.ATRr\n",
    "df_atr3 = df_atr2[['BBWATR','OUT']].copy()\n",
    "scatter_matrix(df_atr3)\n",
    "utils.plot_heatmap('', df_atr3, (18,10))\n"
   ]
  },
  {
   "cell_type": "code",
   "execution_count": null,
   "metadata": {},
   "outputs": [],
   "source": [
    "df_atr3.describe()"
   ]
  },
  {
   "cell_type": "code",
   "execution_count": null,
   "metadata": {},
   "outputs": [],
   "source": [
    "# vamos a ver esos datos extraños de BBWATR\n",
    "df_atr3.BBWATR.plot()"
   ]
  },
  {
   "cell_type": "code",
   "execution_count": null,
   "metadata": {},
   "outputs": [],
   "source": [
    "# elimino los outliers\n",
    "mean = df_atr3.BBWATR.mean()\n",
    "sd = df_atr3.BBWATR.std()\n",
    "df_atr3['BBWATR'] = df_atr3['BBWATR'].apply(lambda x: utils.solve_outliers(x, mean, sd))\n",
    "df_atr3.BBWATR.plot()\n",
    "df_atr3.describe()"
   ]
  },
  {
   "cell_type": "code",
   "execution_count": null,
   "metadata": {},
   "outputs": [],
   "source": [
    "# creo un scaler\n",
    "scaler = preprocessing.MinMaxScaler(feature_range=(-1,1))\n",
    "values = scaler.fit_transform(df_atr3.values.astype('float32'))\n",
    "df_atr_scaled = pd.DataFrame(data=values, columns=df_atr3.columns, index=df_atr3.index)      \n",
    "# Visualizo las distribuciones de cada atributo, en forma de densidades en una matriz de 4 columnas\n",
    "df_atr_scaled.plot(kind='density', subplots=True, layout=(1,2), sharex=False)"
   ]
  },
  {
   "cell_type": "code",
   "execution_count": null,
   "metadata": {},
   "outputs": [],
   "source": [
    "df_atr_scaled.loc[abs(df_atr_scaled.BBWATR) > 0.5]"
   ]
  },
  {
   "cell_type": "markdown",
   "metadata": {},
   "source": [
    "Voy a recupera los datos originales y eliminar estos outliers para reescalar."
   ]
  },
  {
   "cell_type": "markdown",
   "metadata": {},
   "source": [
    "#### Incluyo diferentes columnas de salida\n",
    "\n",
    "Incluyo las siguientes predicciones:\n",
    "\n",
    "1. Predicción de la diferencia de cierre entre el instante actual y las siguientes N horas\n",
    "2. Máximo drawdown 'bullish' para ese periodo\n",
    "3. Máximo drawdown 'bearish para ese periodo"
   ]
  },
  {
   "cell_type": "code",
   "execution_count": null,
   "metadata": {},
   "outputs": [],
   "source": [
    "df['OUT_DIF'] = 0.0\n",
    "df['OUT_DRAWD_BULL'] = 0.0\n",
    "df['OUT_DRAWD_BEAR'] = 0.0\n",
    "forecast_candles = 6\n",
    "values = df.CLOSE.values\n",
    "\n",
    "utils.drawdown_calculator.i=0\n",
    "df['OUT_DIF'] = df['OUT_DIF'].apply(lambda x: utils.drawdown_calculator(values,forecast_candles,0))\n",
    "\n",
    "utils.drawdown_calculator.i=0\n",
    "df['OUT_DRAWD_BULL'] = df['OUT_DRAWD_BULL'].apply(lambda x: utils.drawdown_calculator(values,forecast_candles,1))\n",
    "\n",
    "utils.drawdown_calculator.i=0\n",
    "df['OUT_DRAWD_BEAR'] = df['OUT_DRAWD_BEAR'].apply(lambda x: utils.drawdown_calculator(values,forecast_candles,2))\n",
    "\n",
    "# elimino las últimas 'forecast_candles' filas ya que no contienen datos válidos\n",
    "df = df[:-forecast_candles]\n",
    "print('Done!')"
   ]
  },
  {
   "cell_type": "code",
   "execution_count": null,
   "metadata": {},
   "outputs": [],
   "source": [
    "# chequeo de forma aleatoria que las salidas están bien formadas:\n",
    "r = np.random.randint(df.shape[0]-forecast_candles)\n",
    "utils.drawdown_calculator.i=r\n",
    "v0,v1,v2 = utils.drawdown_calculator(df.CLOSE.values, forecast_candles, 3, True)\n",
    "print('r:',r)\n",
    "print('Calculado:',v0,v1,v2)\n",
    "print('En tabla:',df.iloc[r]['OUT_DIF'],df.iloc[r]['OUT_DRAWD_BULL'],df.iloc[r]['OUT_DRAWD_BEAR'])\n"
   ]
  },
  {
   "cell_type": "markdown",
   "metadata": {},
   "source": [
    "#### Incluyo patrones de vela\n",
    "\n",
    "Añado todos los patrones que proporciona la librería TA-Lib:\n",
    "\n",
    "- Los valores (-1) indican la presencia de una vela 'bullish'\n",
    "- Los valores (+1) indican la presencia de una vela 'bearish'\n",
    "\n",
    "Además añado las columnas de salida a predecir:\n",
    "\n",
    "- OUT_DIR: Dirección del cierre en la próxima vela (+1(crece sobre), -1(cae bajo) la desviación estándar del cierre diario\n",
    "- OUT_QTY: Cantidad del movimiento en la diferencia del cierre diario"
   ]
  },
  {
   "cell_type": "code",
   "execution_count": null,
   "metadata": {},
   "outputs": [],
   "source": [
    "# añado todos los patrones de velas de la librería TALib\n",
    "df = utils.add_candle_patterns(df)\n",
    "df.head()"
   ]
  },
  {
   "cell_type": "code",
   "execution_count": null,
   "metadata": {},
   "outputs": [],
   "source": [
    "# Limito el valor de los patrones al rango (-1,+1)\n",
    "for c in df.columns:\n",
    "  if 'CDL' in c:\n",
    "    vmax = max(abs(df[c].max()), abs(df[c].min()))\n",
    "    if vmax != 0.0:\n",
    "      df[c] = df[c]/vmax\n",
    "    \n",
    "for c in df.columns:\n",
    "  print(c,':',df[c].describe()['max'])"
   ]
  },
  {
   "cell_type": "markdown",
   "metadata": {},
   "source": [
    "#### Creo listas de features por tipo"
   ]
  },
  {
   "cell_type": "code",
   "execution_count": null,
   "metadata": {
    "scrolled": true
   },
   "outputs": [],
   "source": [
    "# columnas relativas al precio\n",
    "cols_price = ['OPEN','HIGH','LOW','CLOSE','OC2','HLC3','OHLC4']\n",
    "cols_price"
   ]
  },
  {
   "cell_type": "code",
   "execution_count": null,
   "metadata": {},
   "outputs": [],
   "source": [
    "# columnas relativas a patrones de velas\n",
    "cols_patterns = [c for c in df.columns if 'CDL' in c]\n",
    "cols_patterns"
   ]
  },
  {
   "cell_type": "code",
   "execution_count": null,
   "metadata": {},
   "outputs": [],
   "source": [
    "# columnas relativas a las salidas a predecir\n",
    "cols_out = [c for c in df.columns if 'OUT_' in c]\n",
    "cols_out"
   ]
  },
  {
   "cell_type": "code",
   "execution_count": null,
   "metadata": {},
   "outputs": [],
   "source": [
    "# columnas relativas a indicadores técnicos\n",
    "l = df.columns.tolist()\n",
    "for c in (cols_price + cols_patterns + cols_out):\n",
    "  l.remove(c)\n",
    "cols_indicators = l\n",
    "cols_indicators"
   ]
  },
  {
   "cell_type": "markdown",
   "metadata": {},
   "source": [
    "### Análisis estadístico\n",
    "\n",
    "A continuación voy a realizar un análisis para ver si consigo extraer algo en claro de los datos de entrada"
   ]
  },
  {
   "cell_type": "code",
   "execution_count": null,
   "metadata": {},
   "outputs": [],
   "source": [
    "# Visualizo la matriz de correlación\n",
    "f, ax = plt.subplots(figsize=(20, 20))\n",
    "corr = df.corr()\n",
    "sns.heatmap(corr, mask=np.zeros_like(corr, dtype=np.bool), cmap=sns.diverging_palette(220, 10, as_cmap=True),\n",
    "            square=True, ax=ax)"
   ]
  },
  {
   "cell_type": "code",
   "execution_count": null,
   "metadata": {},
   "outputs": [],
   "source": [
    "# Visualizo un scatter matrix de los indicadores técnicos y su relación con las salidas a predecir\n",
    "scatter_matrix(df[['BB_UPPER_CLOSE',\n",
    "                   'BB_MIDDLE_CLOSE',\n",
    "                   'BB_LOWER_CLOSE',\n",
    "                   'BB_WIDTH_CLOSE',\n",
    "                   'BB_PERCENT_CLOSE',\n",
    "                   'BB_WIDTH_SMA50_CLOSE',\n",
    "                   'SMA4_CLOSE',\n",
    "                   'SMA16_CLOSE',\n",
    "                   'SMA40_CLOSE',\n",
    "                   'MACD_CLOSE',\n",
    "                   'MACD_SIG_CLOSE',\n",
    "                   'MACD_HIST_CLOSE',\n",
    "                   'RSI_CLOSE',\n",
    "                   'WILLR',\n",
    "                   'ATR',\n",
    "                   'OUT_DIF', 'OUT_DRAWD_BULL', 'OUT_DRAWD_BEAR']],\n",
    "                figsize=(30,20))\n"
   ]
  },
  {
   "cell_type": "code",
   "execution_count": null,
   "metadata": {},
   "outputs": [],
   "source": [
    "# Visualizo las distribuciones de cada atributo, en forma de densidades en una matriz de 4 columnas\n",
    "df[cols_indicators+cols_out].plot(kind='density', title = df[cols_indicators+cols_out].columns, subplots=True, layout=(5,4), figsize=(16,20), sharex=False)"
   ]
  },
  {
   "cell_type": "code",
   "execution_count": null,
   "metadata": {},
   "outputs": [],
   "source": [
    "df.ATR.hist()"
   ]
  }
 ],
 "metadata": {
  "accelerator": "TPU",
  "colab": {
   "collapsed_sections": [],
   "name": "FinTech_LSTM.ipynb",
   "provenance": [],
   "version": "0.3.2"
  },
  "kernelspec": {
   "display_name": "Python [conda env:keras]",
   "language": "python",
   "name": "conda-env-keras-py"
  },
  "language_info": {
   "codemirror_mode": {
    "name": "ipython",
    "version": 3
   },
   "file_extension": ".py",
   "mimetype": "text/x-python",
   "name": "python",
   "nbconvert_exporter": "python",
   "pygments_lexer": "ipython3",
   "version": "3.6.6"
  }
 },
 "nbformat": 4,
 "nbformat_minor": 1
}

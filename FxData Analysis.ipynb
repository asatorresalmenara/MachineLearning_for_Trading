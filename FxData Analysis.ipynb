{
 "cells": [
  {
   "cell_type": "markdown",
   "metadata": {
    "colab_type": "text",
    "id": "pQWfP-VMvX7c"
   },
   "source": [
    "# Análisis de datos\n",
    "\n",
    "En este notebook, voy a realizar un análisis de los datos para extraer alguna conclusión que guíe el futuro desarrollo del modelo predictivo.\n",
    "\n",
    "Para ello utilizo mi propio módulo 'MyUtils' en el que están funciones para carga de archivos csv, integración de indicadores técnicos, visualización de datos, etc...\n"
   ]
  },
  {
   "cell_type": "code",
   "execution_count": 1,
   "metadata": {},
   "outputs": [
    {
     "name": "stderr",
     "output_type": "stream",
     "text": [
      "Using TensorFlow backend.\n"
     ]
    }
   ],
   "source": [
    "####################################################################################\n",
    "# Librerías de manejo de datos \n",
    "import pandas as pd\n",
    "from pandas import concat\n",
    "from pandas.plotting import scatter_matrix\n",
    "import numpy as np\n",
    "\n",
    "####################################################################################\n",
    "# Librerías de machine learning\n",
    "import sklearn\n",
    "from sklearn import preprocessing\n",
    "from sklearn import metrics as sk\n",
    "from sklearn.externals import joblib\n",
    "import keras\n",
    "from keras.models import Model, Sequential\n",
    "from keras.layers import Input, LSTM, Dense, Dropout, BatchNormalization\n",
    "from keras.optimizers import Adam\n",
    "from keras.callbacks import TensorBoard, ModelCheckpoint\n",
    "from keras.optimizers import Adam\n",
    "from keras.constraints import max_norm\n",
    "\n",
    "####################################################################################\n",
    "# Librerías de visualización\n",
    "import seaborn as sns\n",
    "import matplotlib.pyplot as plt\n",
    "from matplotlib import dates, ticker\n",
    "from matplotlib.dates import (MONDAY, DateFormatter, MonthLocator, WeekdayLocator, date2num)\n",
    "import matplotlib as mpl\n",
    "import plotly\n",
    "import plotly.plotly as py\n",
    "import plotly.graph_objs as go\n",
    "from plotly.graph_objs import Scatter, Layout\n",
    "import plotly.tools as tls\n",
    "tls.set_credentials_file(username='raulMrello', api_key='qX9S30YRQ866mGF9b89u')\n",
    "\n",
    "####################################################################################\n",
    "# TA-Lib: instalación y carga de la librería\n",
    "import talib\n",
    "\n",
    "####################################################################################\n",
    "# Otras utilidades\n",
    "import datetime\n",
    "import time\n",
    "import os\n",
    "import sys\n",
    "import math"
   ]
  },
  {
   "cell_type": "code",
   "execution_count": 2,
   "metadata": {},
   "outputs": [
    {
     "name": "stdout",
     "output_type": "stream",
     "text": [
      "Ready!\n"
     ]
    }
   ],
   "source": [
    "import MyUtils as utils\n",
    "print('Ready!')"
   ]
  },
  {
   "cell_type": "markdown",
   "metadata": {},
   "source": [
    "##### Cargo el histórico de un archivo csv\n",
    "\n",
    "Además, hago lo siguiente:\n",
    "\n",
    "- Obtengo todos los datos hora a hora y los que faltan los relleno con el último dato anterior válido.\n",
    "- Elimino los días sin cotización (fines de semana)."
   ]
  },
  {
   "cell_type": "code",
   "execution_count": 3,
   "metadata": {},
   "outputs": [
    {
     "name": "stdout",
     "output_type": "stream",
     "text": [
      "Deleting weekends...\n"
     ]
    },
    {
     "data": {
      "text/html": [
       "<div>\n",
       "<style scoped>\n",
       "    .dataframe tbody tr th:only-of-type {\n",
       "        vertical-align: middle;\n",
       "    }\n",
       "\n",
       "    .dataframe tbody tr th {\n",
       "        vertical-align: top;\n",
       "    }\n",
       "\n",
       "    .dataframe thead th {\n",
       "        text-align: right;\n",
       "    }\n",
       "</style>\n",
       "<table border=\"1\" class=\"dataframe\">\n",
       "  <thead>\n",
       "    <tr style=\"text-align: right;\">\n",
       "      <th></th>\n",
       "      <th>OPEN</th>\n",
       "      <th>HIGH</th>\n",
       "      <th>LOW</th>\n",
       "      <th>CLOSE</th>\n",
       "      <th>OC2</th>\n",
       "      <th>HLC3</th>\n",
       "      <th>OHLC4</th>\n",
       "      <th>CLOSE_DIFF</th>\n",
       "      <th>HHMM</th>\n",
       "      <th>WEEKDAY</th>\n",
       "      <th>TICKVOL</th>\n",
       "      <th>VOL</th>\n",
       "      <th>SPREAD</th>\n",
       "    </tr>\n",
       "  </thead>\n",
       "  <tbody>\n",
       "    <tr>\n",
       "      <th>2001-01-01 01:00:00</th>\n",
       "      <td>0.9421</td>\n",
       "      <td>0.9423</td>\n",
       "      <td>0.9419</td>\n",
       "      <td>0.9419</td>\n",
       "      <td>0.942</td>\n",
       "      <td>0.942033</td>\n",
       "      <td>0.94205</td>\n",
       "      <td>0.0</td>\n",
       "      <td>60</td>\n",
       "      <td>0</td>\n",
       "      <td>5.0</td>\n",
       "      <td>0.0</td>\n",
       "      <td>50.0</td>\n",
       "    </tr>\n",
       "    <tr>\n",
       "      <th>2001-01-01 02:00:00</th>\n",
       "      <td>0.9421</td>\n",
       "      <td>0.9423</td>\n",
       "      <td>0.9419</td>\n",
       "      <td>0.9419</td>\n",
       "      <td>0.942</td>\n",
       "      <td>0.942033</td>\n",
       "      <td>0.94205</td>\n",
       "      <td>0.0</td>\n",
       "      <td>120</td>\n",
       "      <td>0</td>\n",
       "      <td>5.0</td>\n",
       "      <td>0.0</td>\n",
       "      <td>50.0</td>\n",
       "    </tr>\n",
       "    <tr>\n",
       "      <th>2001-01-01 03:00:00</th>\n",
       "      <td>0.9421</td>\n",
       "      <td>0.9423</td>\n",
       "      <td>0.9419</td>\n",
       "      <td>0.9419</td>\n",
       "      <td>0.942</td>\n",
       "      <td>0.942033</td>\n",
       "      <td>0.94205</td>\n",
       "      <td>0.0</td>\n",
       "      <td>180</td>\n",
       "      <td>0</td>\n",
       "      <td>5.0</td>\n",
       "      <td>0.0</td>\n",
       "      <td>50.0</td>\n",
       "    </tr>\n",
       "    <tr>\n",
       "      <th>2001-01-01 04:00:00</th>\n",
       "      <td>0.9421</td>\n",
       "      <td>0.9423</td>\n",
       "      <td>0.9419</td>\n",
       "      <td>0.9419</td>\n",
       "      <td>0.942</td>\n",
       "      <td>0.942033</td>\n",
       "      <td>0.94205</td>\n",
       "      <td>0.0</td>\n",
       "      <td>240</td>\n",
       "      <td>0</td>\n",
       "      <td>5.0</td>\n",
       "      <td>0.0</td>\n",
       "      <td>50.0</td>\n",
       "    </tr>\n",
       "    <tr>\n",
       "      <th>2001-01-01 05:00:00</th>\n",
       "      <td>0.9421</td>\n",
       "      <td>0.9423</td>\n",
       "      <td>0.9419</td>\n",
       "      <td>0.9419</td>\n",
       "      <td>0.942</td>\n",
       "      <td>0.942033</td>\n",
       "      <td>0.94205</td>\n",
       "      <td>0.0</td>\n",
       "      <td>300</td>\n",
       "      <td>0</td>\n",
       "      <td>5.0</td>\n",
       "      <td>0.0</td>\n",
       "      <td>50.0</td>\n",
       "    </tr>\n",
       "  </tbody>\n",
       "</table>\n",
       "</div>"
      ],
      "text/plain": [
       "                       OPEN    HIGH     LOW   CLOSE    OC2      HLC3    OHLC4  \\\n",
       "2001-01-01 01:00:00  0.9421  0.9423  0.9419  0.9419  0.942  0.942033  0.94205   \n",
       "2001-01-01 02:00:00  0.9421  0.9423  0.9419  0.9419  0.942  0.942033  0.94205   \n",
       "2001-01-01 03:00:00  0.9421  0.9423  0.9419  0.9419  0.942  0.942033  0.94205   \n",
       "2001-01-01 04:00:00  0.9421  0.9423  0.9419  0.9419  0.942  0.942033  0.94205   \n",
       "2001-01-01 05:00:00  0.9421  0.9423  0.9419  0.9419  0.942  0.942033  0.94205   \n",
       "\n",
       "                     CLOSE_DIFF  HHMM  WEEKDAY  TICKVOL  VOL  SPREAD  \n",
       "2001-01-01 01:00:00         0.0    60        0      5.0  0.0    50.0  \n",
       "2001-01-01 02:00:00         0.0   120        0      5.0  0.0    50.0  \n",
       "2001-01-01 03:00:00         0.0   180        0      5.0  0.0    50.0  \n",
       "2001-01-01 04:00:00         0.0   240        0      5.0  0.0    50.0  \n",
       "2001-01-01 05:00:00         0.0   300        0      5.0  0.0    50.0  "
      ]
     },
     "execution_count": 3,
     "metadata": {},
     "output_type": "execute_result"
    }
   ],
   "source": [
    "# Carga el histórico\n",
    "df = utils.load_hist('EURUSD_H1.csv', sep=';', remove_weekends=True)\n",
    "df.head()\n"
   ]
  },
  {
   "cell_type": "code",
   "execution_count": 4,
   "metadata": {},
   "outputs": [
    {
     "data": {
      "text/plain": [
       "[<matplotlib.lines.Line2D at 0x30c642e8>]"
      ]
     },
     "execution_count": 4,
     "metadata": {},
     "output_type": "execute_result"
    },
    {
     "data": {
      "image/png": "[encoded data removed]",
      "text/plain": [
       "<Figure size 576x288 with 2 Axes>"
      ]
     },
     "metadata": {
      "needs_background": "light"
     },
     "output_type": "display_data"
    }
   ],
   "source": [
    "plt.figure(figsize=(8,4))\n",
    "plt.subplot(1,2,1)\n",
    "plt.plot(df.CLOSE[0:200])\n",
    "plt.subplot(1,2,2)\n",
    "plt.plot(df.CLOSE.values[0:200])"
   ]
  },
  {
   "cell_type": "markdown",
   "metadata": {},
   "source": [
    "#### Incluyo diferentes indicadores técnicos como MACD, RSI, Bollinger, etc..."
   ]
  },
  {
   "cell_type": "code",
   "execution_count": 7,
   "metadata": {},
   "outputs": [
    {
     "name": "stdout",
     "output_type": "stream",
     "text": [
      "Index(['OPEN', 'HIGH', 'LOW', 'CLOSE', 'OC2', 'HLC3', 'OHLC4',\n",
      "       'IND_BB_UPPER_HIGH', 'IND_BB_MIDDLE_HIGH', 'IND_BB_LOWER_HIGH',\n",
      "       'IND_BB_WIDTH_HIGH', 'IND_BB_PERCENT_HIGH', 'IND_BB_WIDTH_SMA4_HIGH',\n",
      "       'IND_BB_WIDTH_SMA12_HIGH', 'IND_SMA4_HIGH', 'IND_SMA16_HIGH',\n",
      "       'IND_SMA40_HIGH', 'IND_MACD_HIGH', 'IND_MACD_SIG_HIGH',\n",
      "       'IND_MACD_HIST_HIGH', 'IND_RSI_HIGH', 'IND_APO_HIGH', 'IND_MOM_HIGH',\n",
      "       'IND_ROCP_HIGH', 'IND_ROCR_HIGH', 'IND_BB_UPPER_LOW',\n",
      "       'IND_BB_MIDDLE_LOW', 'IND_BB_LOWER_LOW', 'IND_BB_WIDTH_LOW',\n",
      "       'IND_BB_PERCENT_LOW', 'IND_BB_WIDTH_SMA4_LOW', 'IND_BB_WIDTH_SMA12_LOW',\n",
      "       'IND_SMA4_LOW', 'IND_SMA16_LOW', 'IND_SMA40_LOW', 'IND_MACD_LOW',\n",
      "       'IND_MACD_SIG_LOW', 'IND_MACD_HIST_LOW', 'IND_RSI_LOW', 'IND_APO_LOW',\n",
      "       'IND_MOM_LOW', 'IND_ROCP_LOW', 'IND_ROCR_LOW', 'IND_WILLR', 'IND_ATR',\n",
      "       'IND_ATR_SMA4', 'IND_ATR_SMA12', 'IND_ADX', 'IND_ADXR', 'IND_CCI',\n",
      "       'IND_SLOWK', 'IND_SLOWD', 'IND_SAR'],\n",
      "      dtype='object')\n"
     ]
    },
    {
     "data": {
      "text/html": [
       "<div>\n",
       "<style scoped>\n",
       "    .dataframe tbody tr th:only-of-type {\n",
       "        vertical-align: middle;\n",
       "    }\n",
       "\n",
       "    .dataframe tbody tr th {\n",
       "        vertical-align: top;\n",
       "    }\n",
       "\n",
       "    .dataframe thead th {\n",
       "        text-align: right;\n",
       "    }\n",
       "</style>\n",
       "<table border=\"1\" class=\"dataframe\">\n",
       "  <thead>\n",
       "    <tr style=\"text-align: right;\">\n",
       "      <th></th>\n",
       "      <th>OPEN</th>\n",
       "      <th>HIGH</th>\n",
       "      <th>LOW</th>\n",
       "      <th>CLOSE</th>\n",
       "      <th>OC2</th>\n",
       "      <th>HLC3</th>\n",
       "      <th>OHLC4</th>\n",
       "      <th>IND_BB_UPPER_HIGH</th>\n",
       "      <th>IND_BB_MIDDLE_HIGH</th>\n",
       "      <th>IND_BB_LOWER_HIGH</th>\n",
       "      <th>...</th>\n",
       "      <th>IND_WILLR</th>\n",
       "      <th>IND_ATR</th>\n",
       "      <th>IND_ATR_SMA4</th>\n",
       "      <th>IND_ATR_SMA12</th>\n",
       "      <th>IND_ADX</th>\n",
       "      <th>IND_ADXR</th>\n",
       "      <th>IND_CCI</th>\n",
       "      <th>IND_SLOWK</th>\n",
       "      <th>IND_SLOWD</th>\n",
       "      <th>IND_SAR</th>\n",
       "    </tr>\n",
       "  </thead>\n",
       "  <tbody>\n",
       "    <tr>\n",
       "      <th>2001-01-08 01:00:00</th>\n",
       "      <td>0.9585</td>\n",
       "      <td>0.9587</td>\n",
       "      <td>0.9563</td>\n",
       "      <td>0.9575</td>\n",
       "      <td>0.958</td>\n",
       "      <td>0.9575</td>\n",
       "      <td>0.95775</td>\n",
       "      <td>0.960341</td>\n",
       "      <td>0.95675</td>\n",
       "      <td>0.953159</td>\n",
       "      <td>...</td>\n",
       "      <td>-11.111111</td>\n",
       "      <td>0.003162</td>\n",
       "      <td>0.003284</td>\n",
       "      <td>0.003631</td>\n",
       "      <td>26.691663</td>\n",
       "      <td>37.024928</td>\n",
       "      <td>68.893528</td>\n",
       "      <td>73.196448</td>\n",
       "      <td>78.614238</td>\n",
       "      <td>0.9421</td>\n",
       "    </tr>\n",
       "  </tbody>\n",
       "</table>\n",
       "<p>1 rows × 53 columns</p>\n",
       "</div>"
      ],
      "text/plain": [
       "                       OPEN    HIGH     LOW   CLOSE    OC2    HLC3    OHLC4  \\\n",
       "2001-01-08 01:00:00  0.9585  0.9587  0.9563  0.9575  0.958  0.9575  0.95775   \n",
       "\n",
       "                     IND_BB_UPPER_HIGH  IND_BB_MIDDLE_HIGH  IND_BB_LOWER_HIGH  \\\n",
       "2001-01-08 01:00:00           0.960341             0.95675           0.953159   \n",
       "\n",
       "                      ...     IND_WILLR   IND_ATR  IND_ATR_SMA4  \\\n",
       "2001-01-08 01:00:00   ...    -11.111111  0.003162      0.003284   \n",
       "\n",
       "                     IND_ATR_SMA12    IND_ADX   IND_ADXR    IND_CCI  \\\n",
       "2001-01-08 01:00:00       0.003631  26.691663  37.024928  68.893528   \n",
       "\n",
       "                     IND_SLOWK  IND_SLOWD  IND_SAR  \n",
       "2001-01-08 01:00:00  73.196448  78.614238   0.9421  \n",
       "\n",
       "[1 rows x 53 columns]"
      ]
     },
     "execution_count": 7,
     "metadata": {},
     "output_type": "execute_result"
    }
   ],
   "source": [
    "df = utils.add_indicators(df, applied=['HIGH','LOW'], base_cols=['OPEN','HIGH','LOW','CLOSE','OC2','HLC3','OHLC4'])\n",
    "print(df.columns)\n",
    "df.head(1)"
   ]
  },
  {
   "cell_type": "markdown",
   "metadata": {},
   "source": [
    "## Predicción"
   ]
  },
  {
   "cell_type": "markdown",
   "metadata": {},
   "source": [
    "La idea es predecir los valores aproximados en los que estará situado el valor HIGH y LOW en la siguiente vela. De esta forma, el agente podrá tomar decisiones de compra-venta cuando el precio se sitúe cerca de esos límites.\n",
    "\n",
    "Por lo tanto existirá la salida 'OUT_HIGH' y la salida 'OUT_LOW'"
   ]
  },
  {
   "cell_type": "code",
   "execution_count": 8,
   "metadata": {},
   "outputs": [
    {
     "data": {
      "text/html": [
       "<div>\n",
       "<style scoped>\n",
       "    .dataframe tbody tr th:only-of-type {\n",
       "        vertical-align: middle;\n",
       "    }\n",
       "\n",
       "    .dataframe tbody tr th {\n",
       "        vertical-align: top;\n",
       "    }\n",
       "\n",
       "    .dataframe thead th {\n",
       "        text-align: right;\n",
       "    }\n",
       "</style>\n",
       "<table border=\"1\" class=\"dataframe\">\n",
       "  <thead>\n",
       "    <tr style=\"text-align: right;\">\n",
       "      <th></th>\n",
       "      <th>OPEN</th>\n",
       "      <th>HIGH</th>\n",
       "      <th>LOW</th>\n",
       "      <th>CLOSE</th>\n",
       "      <th>OC2</th>\n",
       "      <th>HLC3</th>\n",
       "      <th>OHLC4</th>\n",
       "      <th>IND_BB_UPPER_HIGH</th>\n",
       "      <th>IND_BB_MIDDLE_HIGH</th>\n",
       "      <th>IND_BB_LOWER_HIGH</th>\n",
       "      <th>...</th>\n",
       "      <th>IND_ATR_SMA4</th>\n",
       "      <th>IND_ATR_SMA12</th>\n",
       "      <th>IND_ADX</th>\n",
       "      <th>IND_ADXR</th>\n",
       "      <th>IND_CCI</th>\n",
       "      <th>IND_SLOWK</th>\n",
       "      <th>IND_SLOWD</th>\n",
       "      <th>IND_SAR</th>\n",
       "      <th>OUT_HIGH</th>\n",
       "      <th>OUT_LOW</th>\n",
       "    </tr>\n",
       "  </thead>\n",
       "  <tbody>\n",
       "    <tr>\n",
       "      <th>2001-01-08 01:00:00</th>\n",
       "      <td>0.9585</td>\n",
       "      <td>0.9587</td>\n",
       "      <td>0.9563</td>\n",
       "      <td>0.9575</td>\n",
       "      <td>0.95800</td>\n",
       "      <td>0.957500</td>\n",
       "      <td>0.957750</td>\n",
       "      <td>0.960341</td>\n",
       "      <td>0.956750</td>\n",
       "      <td>0.953159</td>\n",
       "      <td>...</td>\n",
       "      <td>0.003284</td>\n",
       "      <td>0.003631</td>\n",
       "      <td>26.691663</td>\n",
       "      <td>37.024928</td>\n",
       "      <td>68.893528</td>\n",
       "      <td>73.196448</td>\n",
       "      <td>78.614238</td>\n",
       "      <td>0.9421</td>\n",
       "      <td>0.9575</td>\n",
       "      <td>0.9561</td>\n",
       "    </tr>\n",
       "    <tr>\n",
       "      <th>2001-01-08 02:00:00</th>\n",
       "      <td>0.9575</td>\n",
       "      <td>0.9575</td>\n",
       "      <td>0.9561</td>\n",
       "      <td>0.9568</td>\n",
       "      <td>0.95715</td>\n",
       "      <td>0.956800</td>\n",
       "      <td>0.956975</td>\n",
       "      <td>0.960341</td>\n",
       "      <td>0.956750</td>\n",
       "      <td>0.953159</td>\n",
       "      <td>...</td>\n",
       "      <td>0.003195</td>\n",
       "      <td>0.003570</td>\n",
       "      <td>24.910065</td>\n",
       "      <td>35.678777</td>\n",
       "      <td>42.341804</td>\n",
       "      <td>60.784314</td>\n",
       "      <td>71.483696</td>\n",
       "      <td>0.9421</td>\n",
       "      <td>0.9575</td>\n",
       "      <td>0.9564</td>\n",
       "    </tr>\n",
       "    <tr>\n",
       "      <th>2001-01-08 03:00:00</th>\n",
       "      <td>0.9569</td>\n",
       "      <td>0.9575</td>\n",
       "      <td>0.9564</td>\n",
       "      <td>0.9569</td>\n",
       "      <td>0.95690</td>\n",
       "      <td>0.956933</td>\n",
       "      <td>0.956925</td>\n",
       "      <td>0.960373</td>\n",
       "      <td>0.956770</td>\n",
       "      <td>0.953167</td>\n",
       "      <td>...</td>\n",
       "      <td>0.003079</td>\n",
       "      <td>0.003482</td>\n",
       "      <td>23.255725</td>\n",
       "      <td>33.349938</td>\n",
       "      <td>40.476944</td>\n",
       "      <td>46.078431</td>\n",
       "      <td>60.019731</td>\n",
       "      <td>0.9421</td>\n",
       "      <td>0.9574</td>\n",
       "      <td>0.9563</td>\n",
       "    </tr>\n",
       "    <tr>\n",
       "      <th>2001-01-08 04:00:00</th>\n",
       "      <td>0.9568</td>\n",
       "      <td>0.9574</td>\n",
       "      <td>0.9563</td>\n",
       "      <td>0.9563</td>\n",
       "      <td>0.95655</td>\n",
       "      <td>0.956667</td>\n",
       "      <td>0.956700</td>\n",
       "      <td>0.960038</td>\n",
       "      <td>0.956660</td>\n",
       "      <td>0.953282</td>\n",
       "      <td>...</td>\n",
       "      <td>0.002966</td>\n",
       "      <td>0.003386</td>\n",
       "      <td>21.657449</td>\n",
       "      <td>31.156392</td>\n",
       "      <td>25.115741</td>\n",
       "      <td>28.851541</td>\n",
       "      <td>45.238095</td>\n",
       "      <td>0.9421</td>\n",
       "      <td>0.9573</td>\n",
       "      <td>0.9554</td>\n",
       "    </tr>\n",
       "    <tr>\n",
       "      <th>2001-01-08 05:00:00</th>\n",
       "      <td>0.9568</td>\n",
       "      <td>0.9573</td>\n",
       "      <td>0.9554</td>\n",
       "      <td>0.9563</td>\n",
       "      <td>0.95655</td>\n",
       "      <td>0.956333</td>\n",
       "      <td>0.956450</td>\n",
       "      <td>0.960062</td>\n",
       "      <td>0.956675</td>\n",
       "      <td>0.953288</td>\n",
       "      <td>...</td>\n",
       "      <td>0.002852</td>\n",
       "      <td>0.003293</td>\n",
       "      <td>20.598766</td>\n",
       "      <td>29.332244</td>\n",
       "      <td>2.179613</td>\n",
       "      <td>25.197352</td>\n",
       "      <td>33.375775</td>\n",
       "      <td>0.9421</td>\n",
       "      <td>0.9571</td>\n",
       "      <td>0.9557</td>\n",
       "    </tr>\n",
       "  </tbody>\n",
       "</table>\n",
       "<p>5 rows × 55 columns</p>\n",
       "</div>"
      ],
      "text/plain": [
       "                       OPEN    HIGH     LOW   CLOSE      OC2      HLC3  \\\n",
       "2001-01-08 01:00:00  0.9585  0.9587  0.9563  0.9575  0.95800  0.957500   \n",
       "2001-01-08 02:00:00  0.9575  0.9575  0.9561  0.9568  0.95715  0.956800   \n",
       "2001-01-08 03:00:00  0.9569  0.9575  0.9564  0.9569  0.95690  0.956933   \n",
       "2001-01-08 04:00:00  0.9568  0.9574  0.9563  0.9563  0.95655  0.956667   \n",
       "2001-01-08 05:00:00  0.9568  0.9573  0.9554  0.9563  0.95655  0.956333   \n",
       "\n",
       "                        OHLC4  IND_BB_UPPER_HIGH  IND_BB_MIDDLE_HIGH  \\\n",
       "2001-01-08 01:00:00  0.957750           0.960341            0.956750   \n",
       "2001-01-08 02:00:00  0.956975           0.960341            0.956750   \n",
       "2001-01-08 03:00:00  0.956925           0.960373            0.956770   \n",
       "2001-01-08 04:00:00  0.956700           0.960038            0.956660   \n",
       "2001-01-08 05:00:00  0.956450           0.960062            0.956675   \n",
       "\n",
       "                     IND_BB_LOWER_HIGH   ...     IND_ATR_SMA4  IND_ATR_SMA12  \\\n",
       "2001-01-08 01:00:00           0.953159   ...         0.003284       0.003631   \n",
       "2001-01-08 02:00:00           0.953159   ...         0.003195       0.003570   \n",
       "2001-01-08 03:00:00           0.953167   ...         0.003079       0.003482   \n",
       "2001-01-08 04:00:00           0.953282   ...         0.002966       0.003386   \n",
       "2001-01-08 05:00:00           0.953288   ...         0.002852       0.003293   \n",
       "\n",
       "                       IND_ADX   IND_ADXR    IND_CCI  IND_SLOWK  IND_SLOWD  \\\n",
       "2001-01-08 01:00:00  26.691663  37.024928  68.893528  73.196448  78.614238   \n",
       "2001-01-08 02:00:00  24.910065  35.678777  42.341804  60.784314  71.483696   \n",
       "2001-01-08 03:00:00  23.255725  33.349938  40.476944  46.078431  60.019731   \n",
       "2001-01-08 04:00:00  21.657449  31.156392  25.115741  28.851541  45.238095   \n",
       "2001-01-08 05:00:00  20.598766  29.332244   2.179613  25.197352  33.375775   \n",
       "\n",
       "                     IND_SAR  OUT_HIGH  OUT_LOW  \n",
       "2001-01-08 01:00:00   0.9421    0.9575   0.9561  \n",
       "2001-01-08 02:00:00   0.9421    0.9575   0.9564  \n",
       "2001-01-08 03:00:00   0.9421    0.9574   0.9563  \n",
       "2001-01-08 04:00:00   0.9421    0.9573   0.9554  \n",
       "2001-01-08 05:00:00   0.9421    0.9571   0.9557  \n",
       "\n",
       "[5 rows x 55 columns]"
      ]
     },
     "execution_count": 8,
     "metadata": {},
     "output_type": "execute_result"
    }
   ],
   "source": [
    "df['OUT_HIGH'] = df.HIGH.shift(-1)\n",
    "df['OUT_LOW'] = df.LOW.shift(-1)\n",
    "df.head()"
   ]
  },
  {
   "cell_type": "markdown",
   "metadata": {},
   "source": [
    "Visualizo la matriz de correlación para ver cómo se relacionan las variables entre si."
   ]
  },
  {
   "cell_type": "code",
   "execution_count": null,
   "metadata": {},
   "outputs": [],
   "source": [
    "# Visualizo la matriz de correlación\n",
    "utils.plot_heatmap('', df, (18,10))"
   ]
  },
  {
   "cell_type": "markdown",
   "metadata": {},
   "source": [
    "Parece que el indicador Bollinger no tiene mucho efecto, sin embargo es un indicador que mide la volatilidad (al menos la anchura de bandas).\n",
    "\n",
    "Voy a crear un par de indicadores sintéticos para medir la diferencia de la anchura de bandas y el atr en el corto plazo (4 peridos) frente al medio plazo (12 periodos), para intentar extraer tendencias de volatilidad"
   ]
  },
  {
   "cell_type": "code",
   "execution_count": 7,
   "metadata": {},
   "outputs": [
    {
     "data": {
      "image/png": "[encoded data removed]",
      "text/plain": [
       "<Figure size 1296x720 with 2 Axes>"
      ]
     },
     "metadata": {
      "needs_background": "light"
     },
     "output_type": "display_data"
    }
   ],
   "source": [
    "df_atr2 = df_atr.copy()\n",
    "df_atr2['BBWr'] = (df_atr2.BB_WIDTH_CLOSE - df_atr2.BB_WIDTH_SMA4_CLOSE)/(df_atr2.BB_WIDTH_SMA4_CLOSE - df_atr2.BB_WIDTH_SMA12_CLOSE)\n",
    "df_atr2['ATRr'] = (df_atr2.ATR - df_atr2.ATR_SMA4)/(df_atr2.ATR_SMA4 - df_atr2.ATR_SMA12)\n",
    "df_atr2 = df_atr2[['BBWr','ATRr','OUT']]\n",
    "utils.plot_heatmap('', df_atr2, (18,10))\n"
   ]
  },
  {
   "cell_type": "markdown",
   "metadata": {},
   "source": [
    "Está claro que no hay una correlación. Voy a probar a unificar ambas variables de entrada en otra sintética"
   ]
  },
  {
   "cell_type": "code",
   "execution_count": 10,
   "metadata": {},
   "outputs": [
    {
     "data": {
      "image/png": "[encoded data removed]",
      "text/plain": [
       "<Figure size 432x288 with 4 Axes>"
      ]
     },
     "metadata": {
      "needs_background": "light"
     },
     "output_type": "display_data"
    },
    {
     "data": {
      "image/png": "[encoded data removed]",
      "text/plain": [
       "<Figure size 1296x720 with 2 Axes>"
      ]
     },
     "metadata": {
      "needs_background": "light"
     },
     "output_type": "display_data"
    }
   ],
   "source": [
    "df_atr2['BBWATR'] = df_atr2.BBWr * df_atr2.ATRr\n",
    "df_atr3 = df_atr2[['BBWATR','OUT']].copy()\n",
    "scatter_matrix(df_atr3)\n",
    "utils.plot_heatmap('', df_atr3, (18,10))\n"
   ]
  },
  {
   "cell_type": "code",
   "execution_count": 11,
   "metadata": {},
   "outputs": [
    {
     "data": {
      "text/html": [
       "<div>\n",
       "<style scoped>\n",
       "    .dataframe tbody tr th:only-of-type {\n",
       "        vertical-align: middle;\n",
       "    }\n",
       "\n",
       "    .dataframe tbody tr th {\n",
       "        vertical-align: top;\n",
       "    }\n",
       "\n",
       "    .dataframe thead th {\n",
       "        text-align: right;\n",
       "    }\n",
       "</style>\n",
       "<table border=\"1\" class=\"dataframe\">\n",
       "  <thead>\n",
       "    <tr style=\"text-align: right;\">\n",
       "      <th></th>\n",
       "      <th>BBWATR</th>\n",
       "      <th>OUT</th>\n",
       "    </tr>\n",
       "  </thead>\n",
       "  <tbody>\n",
       "    <tr>\n",
       "      <th>count</th>\n",
       "      <td>111081.000000</td>\n",
       "      <td>111080.000000</td>\n",
       "    </tr>\n",
       "    <tr>\n",
       "      <th>mean</th>\n",
       "      <td>5.134769</td>\n",
       "      <td>0.002539</td>\n",
       "    </tr>\n",
       "    <tr>\n",
       "      <th>std</th>\n",
       "      <td>2272.019033</td>\n",
       "      <td>0.001045</td>\n",
       "    </tr>\n",
       "    <tr>\n",
       "      <th>min</th>\n",
       "      <td>-363450.830475</td>\n",
       "      <td>0.000221</td>\n",
       "    </tr>\n",
       "    <tr>\n",
       "      <th>25%</th>\n",
       "      <td>-0.239185</td>\n",
       "      <td>0.001832</td>\n",
       "    </tr>\n",
       "    <tr>\n",
       "      <th>50%</th>\n",
       "      <td>0.012622</td>\n",
       "      <td>0.002386</td>\n",
       "    </tr>\n",
       "    <tr>\n",
       "      <th>75%</th>\n",
       "      <td>0.371453</td>\n",
       "      <td>0.002993</td>\n",
       "    </tr>\n",
       "    <tr>\n",
       "      <th>max</th>\n",
       "      <td>655136.471156</td>\n",
       "      <td>0.012537</td>\n",
       "    </tr>\n",
       "  </tbody>\n",
       "</table>\n",
       "</div>"
      ],
      "text/plain": [
       "              BBWATR            OUT\n",
       "count  111081.000000  111080.000000\n",
       "mean        5.134769       0.002539\n",
       "std      2272.019033       0.001045\n",
       "min   -363450.830475       0.000221\n",
       "25%        -0.239185       0.001832\n",
       "50%         0.012622       0.002386\n",
       "75%         0.371453       0.002993\n",
       "max    655136.471156       0.012537"
      ]
     },
     "execution_count": 11,
     "metadata": {},
     "output_type": "execute_result"
    }
   ],
   "source": [
    "df_atr3.describe()"
   ]
  },
  {
   "cell_type": "code",
   "execution_count": 12,
   "metadata": {},
   "outputs": [
    {
     "data": {
      "text/plain": [
       "<matplotlib.axes._subplots.AxesSubplot at 0x3aee9cc0>"
      ]
     },
     "execution_count": 12,
     "metadata": {},
     "output_type": "execute_result"
    },
    {
     "data": {
      "image/png": "[encoded data removed]",
      "text/plain": [
       "<Figure size 432x288 with 1 Axes>"
      ]
     },
     "metadata": {
      "needs_background": "light"
     },
     "output_type": "display_data"
    }
   ],
   "source": [
    "# vamos a ver esos datos extraños de BBWATR\n",
    "df_atr3.BBWATR.plot()"
   ]
  },
  {
   "cell_type": "code",
   "execution_count": 14,
   "metadata": {},
   "outputs": [
    {
     "data": {
      "text/html": [
       "<div>\n",
       "<style scoped>\n",
       "    .dataframe tbody tr th:only-of-type {\n",
       "        vertical-align: middle;\n",
       "    }\n",
       "\n",
       "    .dataframe tbody tr th {\n",
       "        vertical-align: top;\n",
       "    }\n",
       "\n",
       "    .dataframe thead th {\n",
       "        text-align: right;\n",
       "    }\n",
       "</style>\n",
       "<table border=\"1\" class=\"dataframe\">\n",
       "  <thead>\n",
       "    <tr style=\"text-align: right;\">\n",
       "      <th></th>\n",
       "      <th>BBWATR</th>\n",
       "      <th>OUT</th>\n",
       "    </tr>\n",
       "  </thead>\n",
       "  <tbody>\n",
       "    <tr>\n",
       "      <th>count</th>\n",
       "      <td>111081.000000</td>\n",
       "      <td>111080.000000</td>\n",
       "    </tr>\n",
       "    <tr>\n",
       "      <th>mean</th>\n",
       "      <td>0.774421</td>\n",
       "      <td>0.002539</td>\n",
       "    </tr>\n",
       "    <tr>\n",
       "      <th>std</th>\n",
       "      <td>100.490632</td>\n",
       "      <td>0.001045</td>\n",
       "    </tr>\n",
       "    <tr>\n",
       "      <th>min</th>\n",
       "      <td>-4538.903297</td>\n",
       "      <td>0.000221</td>\n",
       "    </tr>\n",
       "    <tr>\n",
       "      <th>25%</th>\n",
       "      <td>-0.239185</td>\n",
       "      <td>0.001832</td>\n",
       "    </tr>\n",
       "    <tr>\n",
       "      <th>50%</th>\n",
       "      <td>0.012622</td>\n",
       "      <td>0.002386</td>\n",
       "    </tr>\n",
       "    <tr>\n",
       "      <th>75%</th>\n",
       "      <td>0.371453</td>\n",
       "      <td>0.002993</td>\n",
       "    </tr>\n",
       "    <tr>\n",
       "      <th>max</th>\n",
       "      <td>4549.172835</td>\n",
       "      <td>0.012537</td>\n",
       "    </tr>\n",
       "  </tbody>\n",
       "</table>\n",
       "</div>"
      ],
      "text/plain": [
       "              BBWATR            OUT\n",
       "count  111081.000000  111080.000000\n",
       "mean        0.774421       0.002539\n",
       "std       100.490632       0.001045\n",
       "min     -4538.903297       0.000221\n",
       "25%        -0.239185       0.001832\n",
       "50%         0.012622       0.002386\n",
       "75%         0.371453       0.002993\n",
       "max      4549.172835       0.012537"
      ]
     },
     "execution_count": 14,
     "metadata": {},
     "output_type": "execute_result"
    },
    {
     "data": {
      "image/png": "[encoded data removed]",
      "text/plain": [
       "<Figure size 432x288 with 1 Axes>"
      ]
     },
     "metadata": {
      "needs_background": "light"
     },
     "output_type": "display_data"
    }
   ],
   "source": [
    "# elimino los outliers\n",
    "mean = df_atr3.BBWATR.mean()\n",
    "sd = df_atr3.BBWATR.std()\n",
    "df_atr3['BBWATR'] = df_atr3['BBWATR'].apply(lambda x: utils.solve_outlier(x, mean, sd))\n",
    "df_atr3.BBWATR.plot()\n",
    "df_atr3.describe()"
   ]
  },
  {
   "cell_type": "code",
   "execution_count": 17,
   "metadata": {},
   "outputs": [
    {
     "data": {
      "image/png": "[encoded data removed]",
      "text/plain": [
       "<Figure size 288x288 with 2 Axes>"
      ]
     },
     "metadata": {
      "needs_background": "light"
     },
     "output_type": "display_data"
    }
   ],
   "source": [
    "utils.plot_heatmap('',df_atr3,(4,4))"
   ]
  },
  {
   "cell_type": "code",
   "execution_count": null,
   "metadata": {},
   "outputs": [],
   "source": [
    "# creo un scaler\n",
    "scaler = preprocessing.MinMaxScaler(feature_range=(-1,1))\n",
    "values = scaler.fit_transform(df_atr3.values.astype('float32'))\n",
    "df_atr_scaled = pd.DataFrame(data=values, columns=df_atr3.columns, index=df_atr3.index)      \n",
    "# Visualizo las distribuciones de cada atributo, en forma de densidades en una matriz de 4 columnas\n",
    "df_atr_scaled.plot(kind='density', subplots=True, layout=(1,2), sharex=False)"
   ]
  },
  {
   "cell_type": "code",
   "execution_count": null,
   "metadata": {},
   "outputs": [],
   "source": [
    "df_atr_scaled.loc[abs(df_atr_scaled.BBWATR) > 0.5]"
   ]
  },
  {
   "cell_type": "markdown",
   "metadata": {},
   "source": [
    "Voy a recupera los datos originales y eliminar estos outliers para reescalar."
   ]
  },
  {
   "cell_type": "markdown",
   "metadata": {},
   "source": [
    "#### Incluyo diferentes columnas de salida\n",
    "\n",
    "Incluyo las siguientes predicciones:\n",
    "\n",
    "1. Predicción de la diferencia de cierre entre el instante actual y las siguientes N horas\n",
    "2. Máximo drawdown 'bullish' para ese periodo\n",
    "3. Máximo drawdown 'bearish para ese periodo"
   ]
  },
  {
   "cell_type": "code",
   "execution_count": null,
   "metadata": {},
   "outputs": [],
   "source": [
    "df['OUT_DIF'] = 0.0\n",
    "df['OUT_DRAWD_BULL'] = 0.0\n",
    "df['OUT_DRAWD_BEAR'] = 0.0\n",
    "forecast_candles = 6\n",
    "values = df.CLOSE.values\n",
    "\n",
    "utils.drawdown_calculator.i=0\n",
    "df['OUT_DIF'] = df['OUT_DIF'].apply(lambda x: utils.drawdown_calculator(values,forecast_candles,0))\n",
    "\n",
    "utils.drawdown_calculator.i=0\n",
    "df['OUT_DRAWD_BULL'] = df['OUT_DRAWD_BULL'].apply(lambda x: utils.drawdown_calculator(values,forecast_candles,1))\n",
    "\n",
    "utils.drawdown_calculator.i=0\n",
    "df['OUT_DRAWD_BEAR'] = df['OUT_DRAWD_BEAR'].apply(lambda x: utils.drawdown_calculator(values,forecast_candles,2))\n",
    "\n",
    "# elimino las últimas 'forecast_candles' filas ya que no contienen datos válidos\n",
    "df = df[:-forecast_candles]\n",
    "print('Done!')"
   ]
  },
  {
   "cell_type": "code",
   "execution_count": null,
   "metadata": {},
   "outputs": [],
   "source": [
    "# chequeo de forma aleatoria que las salidas están bien formadas:\n",
    "r = np.random.randint(df.shape[0]-forecast_candles)\n",
    "utils.drawdown_calculator.i=r\n",
    "v0,v1,v2 = utils.drawdown_calculator(df.CLOSE.values, forecast_candles, 3, True)\n",
    "print('r:',r)\n",
    "print('Calculado:',v0,v1,v2)\n",
    "print('En tabla:',df.iloc[r]['OUT_DIF'],df.iloc[r]['OUT_DRAWD_BULL'],df.iloc[r]['OUT_DRAWD_BEAR'])\n"
   ]
  },
  {
   "cell_type": "markdown",
   "metadata": {},
   "source": [
    "#### Incluyo patrones de vela\n",
    "\n",
    "Añado todos los patrones que proporciona la librería TA-Lib:\n",
    "\n",
    "- Los valores (-1) indican la presencia de una vela 'bullish'\n",
    "- Los valores (+1) indican la presencia de una vela 'bearish'\n",
    "\n",
    "Además añado las columnas de salida a predecir:\n",
    "\n",
    "- OUT_DIR: Dirección del cierre en la próxima vela (+1(crece sobre), -1(cae bajo) la desviación estándar del cierre diario\n",
    "- OUT_QTY: Cantidad del movimiento en la diferencia del cierre diario"
   ]
  },
  {
   "cell_type": "code",
   "execution_count": null,
   "metadata": {},
   "outputs": [],
   "source": [
    "# añado todos los patrones de velas de la librería TALib\n",
    "df = utils.add_candle_patterns(df)\n",
    "df.head()"
   ]
  },
  {
   "cell_type": "code",
   "execution_count": null,
   "metadata": {},
   "outputs": [],
   "source": [
    "# Limito el valor de los patrones al rango (-1,+1)\n",
    "for c in df.columns:\n",
    "  if 'CDL' in c:\n",
    "    vmax = max(abs(df[c].max()), abs(df[c].min()))\n",
    "    if vmax != 0.0:\n",
    "      df[c] = df[c]/vmax\n",
    "    \n",
    "for c in df.columns:\n",
    "  print(c,':',df[c].describe()['max'])"
   ]
  },
  {
   "cell_type": "markdown",
   "metadata": {},
   "source": [
    "#### Creo listas de features por tipo"
   ]
  },
  {
   "cell_type": "code",
   "execution_count": null,
   "metadata": {
    "scrolled": true
   },
   "outputs": [],
   "source": [
    "# columnas relativas al precio\n",
    "cols_price = ['OPEN','HIGH','LOW','CLOSE','OC2','HLC3','OHLC4']\n",
    "cols_price"
   ]
  },
  {
   "cell_type": "code",
   "execution_count": null,
   "metadata": {},
   "outputs": [],
   "source": [
    "# columnas relativas a patrones de velas\n",
    "cols_patterns = [c for c in df.columns if 'CDL' in c]\n",
    "cols_patterns"
   ]
  },
  {
   "cell_type": "code",
   "execution_count": null,
   "metadata": {},
   "outputs": [],
   "source": [
    "# columnas relativas a las salidas a predecir\n",
    "cols_out = [c for c in df.columns if 'OUT_' in c]\n",
    "cols_out"
   ]
  },
  {
   "cell_type": "code",
   "execution_count": null,
   "metadata": {},
   "outputs": [],
   "source": [
    "# columnas relativas a indicadores técnicos\n",
    "l = df.columns.tolist()\n",
    "for c in (cols_price + cols_patterns + cols_out):\n",
    "  l.remove(c)\n",
    "cols_indicators = l\n",
    "cols_indicators"
   ]
  },
  {
   "cell_type": "markdown",
   "metadata": {},
   "source": [
    "### Análisis estadístico\n",
    "\n",
    "A continuación voy a realizar un análisis para ver si consigo extraer algo en claro de los datos de entrada"
   ]
  },
  {
   "cell_type": "code",
   "execution_count": null,
   "metadata": {},
   "outputs": [],
   "source": [
    "# Visualizo la matriz de correlación\n",
    "f, ax = plt.subplots(figsize=(20, 20))\n",
    "corr = df.corr()\n",
    "sns.heatmap(corr, mask=np.zeros_like(corr, dtype=np.bool), cmap=sns.diverging_palette(220, 10, as_cmap=True),\n",
    "            square=True, ax=ax)"
   ]
  },
  {
   "cell_type": "code",
   "execution_count": null,
   "metadata": {},
   "outputs": [],
   "source": [
    "# Visualizo un scatter matrix de los indicadores técnicos y su relación con las salidas a predecir\n",
    "scatter_matrix(df[['BB_UPPER_CLOSE',\n",
    "                   'BB_MIDDLE_CLOSE',\n",
    "                   'BB_LOWER_CLOSE',\n",
    "                   'BB_WIDTH_CLOSE',\n",
    "                   'BB_PERCENT_CLOSE',\n",
    "                   'BB_WIDTH_SMA50_CLOSE',\n",
    "                   'SMA4_CLOSE',\n",
    "                   'SMA16_CLOSE',\n",
    "                   'SMA40_CLOSE',\n",
    "                   'MACD_CLOSE',\n",
    "                   'MACD_SIG_CLOSE',\n",
    "                   'MACD_HIST_CLOSE',\n",
    "                   'RSI_CLOSE',\n",
    "                   'WILLR',\n",
    "                   'ATR',\n",
    "                   'OUT_DIF', 'OUT_DRAWD_BULL', 'OUT_DRAWD_BEAR']],\n",
    "                figsize=(30,20))\n"
   ]
  },
  {
   "cell_type": "code",
   "execution_count": null,
   "metadata": {},
   "outputs": [],
   "source": [
    "# Visualizo las distribuciones de cada atributo, en forma de densidades en una matriz de 4 columnas\n",
    "df[cols_indicators+cols_out].plot(kind='density', title = df[cols_indicators+cols_out].columns, subplots=True, layout=(5,4), figsize=(16,20), sharex=False)"
   ]
  },
  {
   "cell_type": "code",
   "execution_count": null,
   "metadata": {},
   "outputs": [],
   "source": [
    "df.ATR.hist()"
   ]
  }
 ],
 "metadata": {
  "accelerator": "TPU",
  "colab": {
   "collapsed_sections": [],
   "name": "FinTech_LSTM.ipynb",
   "provenance": [],
   "version": "0.3.2"
  },
  "kernelspec": {
   "display_name": "Python [conda env:keras]",
   "language": "python",
   "name": "conda-env-keras-py"
  },
  "language_info": {
   "codemirror_mode": {
    "name": "ipython",
    "version": 3
   },
   "file_extension": ".py",
   "mimetype": "text/x-python",
   "name": "python",
   "nbconvert_exporter": "python",
   "pygments_lexer": "ipython3",
   "version": "3.6.6"
  }
 },
 "nbformat": 4,
 "nbformat_minor": 1
}
